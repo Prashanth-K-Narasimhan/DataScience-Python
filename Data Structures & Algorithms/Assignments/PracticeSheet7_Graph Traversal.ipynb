{
 "cells": [
  {
   "cell_type": "markdown",
   "metadata": {},
   "source": [
    "<center> <img src =\"https://i.postimg.cc/1X8H7YYt/BITS-Logo.png\" width = \"400\" alt=\"BITS Pilani Logo\" /> </center>"
   ]
  },
  {
   "cell_type": "markdown",
   "metadata": {},
   "source": [
    "<font color='green'> <h1> <center> Data Structures and Algorithm Design - Practice Sheet 7 </center> </h1> </font>"
   ]
  },
  {
   "cell_type": "markdown",
   "metadata": {},
   "source": [
    "<font color='brown'> <h2> <center> Experiments on Graph Traversal</center> </h2> </font>"
   ]
  },
  {
   "cell_type": "markdown",
   "metadata": {},
   "source": [
    "<font color='gray'> <h3> Description: </h3> </font>\n",
    "\n",
    "Depth-first search [DFS]:  \n",
    "\n",
    "   The DFS algorithm works in a manner similar to preorder traversal of the trees. like preorder traversal, internally this algorithm also uses stack.                                                                                    \n",
    "Let us consider the following example. Suppose a person is trapped inside a maze.To come out from that maze,the person visits each path and each intersection (in the worst case).Let us say the person uses two colors of paint to mark the intersections already passed. When discovering a new intersection, it is marked grey, and he continues to go deeper. \n",
    "After reaching a \"dead end\"  the person knows that there is no more unexplored path fro the grey intersection, which now is completed, and he marks it with black. this \"dead end\" is either an intersection which has already been marked grey or black, or simply a path that does not lead to an intersection. \n",
    "The intersection of the maze are the vertices and the paths between the intersections are the edges of the graph. \n",
    "\n",
    "Applications of DFS:                                                                                                           \n",
    "    1. Topological sorting.                                                                                                     \n",
    "    2. Finding connected components.                                                                                           \n",
    "    3. Finding articulation points (cut vertices) of the graph.                                                                 \n",
    "    4. Finding strongly connected components.                                                                                   \n",
    "    5. Solving puzzles such as mazes.\n",
    "\n",
    "Breadth First search [BFS]:   \n",
    "\n",
    "   The BFS algorithm works similar to leavel-order traversal of the trees. like level-order traversal, BFS also uses queues. in fact, level-order traversal got inspired from BFS. BFS works level by level. initially, BFD starts at given vertex, which os at level 0. In the first stage it visits all verices at level 1( that means, vertices whose distance is 1 from the start vertex of the graph) in the second stages, it visits all vertices at the second level. These new vertices are the ones which are adjacent to level 1 vertices.                                                                                                                          \n",
    "   \n",
    "BFS continues this process until all the levels of the graph are completed. generally queue data structure is used for storing the vertices of a level.\n"
   ]
  },
  {
   "cell_type": "markdown",
   "metadata": {},
   "source": [
    "<font color='gray'> <h3> The objectives of this exercise are: </h3> </font>\n",
    "- 1. Clear idea about BFS and DFS. \n"
   ]
  },
  {
   "cell_type": "code",
   "execution_count": 1,
   "metadata": {
    "scrolled": true
   },
   "outputs": [
    {
     "name": "stdout",
     "output_type": "stream",
     "text": [
      "Following is DFS from (starting from vertex 2)\n",
      "2 0 1 3 "
     ]
    }
   ],
   "source": [
    "# Python3 program to print DFS traversal\n",
    "# from a given given graph\n",
    "from collections import defaultdict\n",
    "\n",
    "# This class represents a directed graph using\n",
    "# adjacency list representation\n",
    "\n",
    "\n",
    "class Graph:\n",
    "\n",
    "    # Constructor\n",
    "    def __init__(self):\n",
    "\n",
    "        # default dictionary to store graph\n",
    "        self.graph = defaultdict(list)\n",
    "\n",
    "    # function to add an edge to graph\n",
    "    def addEdge(self, u, v):\n",
    "        self.graph[u].append(v)\n",
    "\n",
    "    # A function used by DFS\n",
    "    def DFSUtil(self, v, visited):\n",
    "\n",
    "        # Mark the current node as visited\n",
    "        # and print it\n",
    "        visited.add(v)\n",
    "        print(v, end=' ')\n",
    "\n",
    "        # Recur for all the vertices\n",
    "        # adjacent to this vertex\n",
    "        for neighbour in self.graph[v]:\n",
    "            if neighbour not in visited:\n",
    "                self.DFSUtil(neighbour, visited)\n",
    "\n",
    "    # The function to do DFS traversal. It uses\n",
    "    # recursive DFSUtil()\n",
    "    def DFS(self, v):\n",
    "\n",
    "        # Create a set to store visited vertices\n",
    "        visited = set()\n",
    "\n",
    "        # Call the recursive helper function\n",
    "        # to print DFS traversal\n",
    "        self.DFSUtil(v, visited)\n",
    "\n",
    "# Driver code\n",
    "\n",
    "\n",
    "# Create a graph given\n",
    "# in the above diagram\n",
    "g = Graph()\n",
    "g.addEdge(0, 1)\n",
    "g.addEdge(0, 2)\n",
    "g.addEdge(1, 2)\n",
    "g.addEdge(2, 0)\n",
    "g.addEdge(2, 3)\n",
    "g.addEdge(3, 3)\n",
    "\n",
    "print(\"Following is DFS from (starting from vertex 2)\")\n",
    "g.DFS(2)"
   ]
  },
  {
   "cell_type": "markdown",
   "metadata": {},
   "source": [
    "<font color='gray'> <h3> Complexity Analysis: </h3> </font>\n",
    "\n",
    "\n",
    "\n",
    "Time complexity: O(V + E), where V is the number of vertices and E is the number of edges in the graph.                         \n",
    "Space Complexity: O(V). \n",
    "Since, an extra visited array is needed of size V."
   ]
  },
  {
   "cell_type": "code",
   "execution_count": 2,
   "metadata": {
    "scrolled": true
   },
   "outputs": [
    {
     "name": "stdout",
     "output_type": "stream",
     "text": [
      "Following is Depth First Traversal\n",
      "0\n",
      "1\n",
      "2\n",
      "3\n"
     ]
    }
   ],
   "source": [
    "#Handling Disconnected Graph: \n",
    "# Python program to print DFS\n",
    "# traversal for complete graph\n",
    "from collections import defaultdict\n",
    "\n",
    "# This class represents a\n",
    "# directed graph using adjacency\n",
    "# list representation\n",
    "\n",
    "\n",
    "class Graph:\n",
    "\n",
    "    # Constructor\n",
    "    def __init__(self):\n",
    "\n",
    "        # default dictionary to store graph\n",
    "        self.graph = defaultdict(list)\n",
    "\n",
    "    # function to add an edge to graph\n",
    "    def addEdge(self, u, v):\n",
    "        self.graph[u].append(v)\n",
    "\n",
    "    # A function used by DFS\n",
    "    def DFSUtil(self, v, visited):\n",
    "\n",
    "        # Mark the current node as visited and print it\n",
    "        visited.add(v)\n",
    "        print (v),\n",
    "\n",
    "        # Recur for all the vertices adjacent to\n",
    "        # this vertex\n",
    "        for neighbour in self.graph[v]:\n",
    "            if neighbour not in visited:\n",
    "                self.DFSUtil(neighbour, visited)\n",
    "\n",
    "    # The function to do DFS traversal. It uses\n",
    "    # recursive DFSUtil()\n",
    "\n",
    "    def DFS(self):\n",
    "\n",
    "        # Create a set to store all visited vertices\n",
    "        visited = set()\n",
    "\n",
    "        # Call the recursive helper function to print\n",
    "        # DFS traversal starting from all vertices one\n",
    "        # by one\n",
    "        for vertex in list(self.graph):\n",
    "            if vertex not in visited:\n",
    "                self.DFSUtil(vertex, visited)\n",
    "\n",
    "\n",
    "# Driver code\n",
    "# Create a graph given in the above diagram\n",
    "g = Graph()\n",
    "g.addEdge(0, 1)\n",
    "g.addEdge(0, 2)\n",
    "g.addEdge(1, 2)\n",
    "g.addEdge(2, 0)\n",
    "g.addEdge(2, 3)\n",
    "g.addEdge(3, 3)\n",
    "\n",
    "print (\"Following is Depth First Traversal\")\n",
    "g.DFS()"
   ]
  },
  {
   "cell_type": "markdown",
   "metadata": {},
   "source": [
    "<font color='gray'> <h3> Complexity Analysis: </h3> </font>\n",
    "\n",
    "Time complexity: O(V + E), where V is the number of vertices and E is the number of edges in the graph.                         \n",
    "Space Complexity :O(V). \n",
    "Since an extra visited array is needed of size V."
   ]
  },
  {
   "cell_type": "code",
   "execution_count": 3,
   "metadata": {},
   "outputs": [
    {
     "name": "stdout",
     "output_type": "stream",
     "text": [
      "Following is Breadth First Traversal (starting from vertex 2)\n",
      "2 0 3 1 "
     ]
    }
   ],
   "source": [
    "# Python3 Program to print BFS traversal\n",
    "# from a given source vertex. BFS(int s)\n",
    "# traverses vertices reachable from s.\n",
    "from collections import defaultdict\n",
    "\n",
    "# This class represents a directed graph\n",
    "# using adjacency list representation\n",
    "class Graph:\n",
    "\n",
    "    # Constructor\n",
    "    def __init__(self):\n",
    "\n",
    "        # default dictionary to store graph\n",
    "        self.graph = defaultdict(list)\n",
    "\n",
    "    # function to add an edge to graph\n",
    "    def addEdge(self,u,v):\n",
    "        self.graph[u].append(v)\n",
    "\n",
    "    # Function to print a BFS of graph\n",
    "    def BFS(self, s):\n",
    "\n",
    "        # Mark all the vertices as not visited\n",
    "        visited = [False] * (max(self.graph) + 1)\n",
    "\n",
    "        # Create a queue for BFS\n",
    "        queue = []\n",
    "\n",
    "        # Mark the source node as\n",
    "        # visited and enqueue it\n",
    "        queue.append(s)\n",
    "        visited[s] = True\n",
    "\n",
    "        while queue:\n",
    "\n",
    "            # Dequeue a vertex from\n",
    "            # queue and print it\n",
    "            s = queue.pop(0)\n",
    "            print (s, end = \" \")\n",
    "\n",
    "            # Get all adjacent vertices of the\n",
    "            # dequeued vertex s. If a adjacent\n",
    "            # has not been visited, then mark it\n",
    "            # visited and enqueue it\n",
    "            for i in self.graph[s]:\n",
    "                if visited[i] == False:\n",
    "                    queue.append(i)\n",
    "                    visited[i] = True\n",
    "\n",
    "# Driver code\n",
    "\n",
    "# Create a graph given in\n",
    "# the above diagram\n",
    "g = Graph()\n",
    "g.addEdge(0, 1)\n",
    "g.addEdge(0, 2)\n",
    "g.addEdge(1, 2)\n",
    "g.addEdge(2, 0)\n",
    "g.addEdge(2, 3)\n",
    "g.addEdge(3, 3)\n",
    "\n",
    "print (\"Following is Breadth First Traversal\"\n",
    "                \" (starting from vertex 2)\")\n",
    "g.BFS(2)"
   ]
  },
  {
   "cell_type": "markdown",
   "metadata": {},
   "source": [
    "<font color='gray'> <h3> Complexity Analysis: </h3> </font>\n",
    "\n",
    "Time Complexity: O(V+E) where V is number of vertices in the graph and E is number of edges in the graph.                       \n",
    "Space Complexity :O(V). \n",
    "Space complexity is O(|V|) as well - since at worst case you need to hold all vertices in the queue."
   ]
  },
  {
   "cell_type": "markdown",
   "metadata": {},
   "source": [
    "<font color='gray'> <h3> Exercises:</h3> </font> \n",
    "- 1. Since these are practical exercises for understanding of DFS traversal and which uses stack data structure for executing. In this excess we always mention the start point, that is anyone vertices of the graph based open the start point, the output (spanning tree) is generated similar to the preorder traversal.Now student can choose any start vertices and oberserb spanning constartions. \n",
    "- 2. Since these are practical exercises for understanding of BFS traversal and which uses queue data structure for executing. In this excess we always mention the start point, that is anyone vertices of the graph based open the start point, the output (spanning tree) is generated similar to the level order traversal.Now student can choose any start vertices and oberserb spanning constartions.\n"
   ]
  },
  {
   "cell_type": "markdown",
   "metadata": {},
   "source": [
    "<font color='gray'> <h3> NOTE:</h3> </font>  \n",
    "    1. The choice of the data structure determines the behavior of the graph traversal.\n"
   ]
  },
  {
   "cell_type": "markdown",
   "metadata": {},
   "source": [
    "For queries on this practice sheet, please contact raveendramreddy@wilp.bits-pilani.ac.in"
   ]
  },
  {
   "cell_type": "markdown",
   "metadata": {},
   "source": [
    "<b> Disclaimer <b> : Some of the contents of this Notebook is adopted from Data Structures and Algorithm Design by Michael T. Goodrich, Roberto Tamassia, Michael H. Goldwasser"
   ]
  }
 ],
 "metadata": {
  "kernelspec": {
   "display_name": "Python 3",
   "language": "python",
   "name": "python3"
  },
  "language_info": {
   "codemirror_mode": {
    "name": "ipython",
    "version": 3
   },
   "file_extension": ".py",
   "mimetype": "text/x-python",
   "name": "python",
   "nbconvert_exporter": "python",
   "pygments_lexer": "ipython3",
   "version": "3.8.5"
  }
 },
 "nbformat": 4,
 "nbformat_minor": 4
}
