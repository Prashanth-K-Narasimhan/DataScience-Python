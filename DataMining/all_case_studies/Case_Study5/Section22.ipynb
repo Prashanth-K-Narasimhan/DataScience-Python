{
 "cells": [
  {
   "cell_type": "markdown",
   "metadata": {},
   "source": [
    "# Section 22:  Training Non-Linear Classifiers with Decision Tree Techniques\n",
    "\n",
    "## Automated Learning of Logical Rules\n",
    "\n",
    "A lightbulb hangs above a stairwell. The bulb is connected to two switches. When both switches turned are off, the bulb stays off. If either switch is turned on, then the bulb will shine. However, if both switches are flipped on, then the bulb will turn off. Using the material from the previous two sections, can we train a classifier to learn this relationship? We'll find out by visualizing the problem in 2D space.\n",
    "\n",
    "**Listing 22. 1. Plotting the two-switch problem in 2D space**"
   ]
  },
  {
   "cell_type": "code",
   "execution_count": 1,
   "metadata": {},
   "outputs": [
    {
     "data": {
      "image/png": "[encoded data removed]",
      "text/plain": [
       "<Figure size 432x288 with 1 Axes>"
      ]
     },
     "metadata": {
      "needs_background": "light"
     },
     "output_type": "display_data"
    }
   ],
   "source": [
    "import numpy as np\n",
    "import matplotlib.pyplot as plt\n",
    "X = np.array([[0, 0], [1, 0], [0, 1], [1, 1]])\n",
    "y = (X[:,0] + X[:,1] == 1).astype(int)\n",
    "\n",
    "for i in [0, 1]:\n",
    "    plt.scatter(X[y == i][:,0], X[y == i][:,1], \n",
    "                marker=['o', 'x'][i], color=['b', 'k'][i],\n",
    "                s=1000)\n",
    "plt.xlabel('Switch 0')\n",
    "plt.ylabel('Switch 1')\n",
    "plt.show()"
   ]
  },
  {
   "cell_type": "markdown",
   "metadata": {},
   "source": [
    "KNN will fail to properly classify the data. Furthermore, there does not exist a linear separation between the labeled classes. We cannot draw a linear boundary without cutting through a diagonal that connects two identically classified points. Consequently, training a linear classifier is also out of the question. What should we do? One approach is to define two nested if/else statements as our prediction model.\n",
    "\n",
    "**Listing 22. 2. Classifying data using nested if/else statements**"
   ]
  },
  {
   "cell_type": "code",
   "execution_count": 2,
   "metadata": {},
   "outputs": [],
   "source": [
    "def classify(features):\n",
    "    switch0, switch1 = features\n",
    "    \n",
    "    if switch0 == 0:\n",
    "        if switch1 == 0:\n",
    "            prediction = 0\n",
    "        else:\n",
    "            prediction = 1\n",
    "    else:\n",
    "        if switch1 == 0:\n",
    "            prediction = 1\n",
    "        else:\n",
    "            prediction = 0\n",
    "    \n",
    "    return prediction\n",
    "\n",
    "for i in range(X.shape[0]):\n",
    "    assert classify(X[i]) == y[i]"
   ]
  },
  {
   "cell_type": "markdown",
   "metadata": {},
   "source": [
    "We need to find a way to automatically derive accurate if / else statements from the training data.  We’ll start with a simple training example. Our training set will represent a series of recorded observations between a single light switch and a single bulb. Whenever the switch is on, the bulb is on, and vice-versa. \n",
    "\n",
    "**Listing 22. 3. Generating a single switch training set**"
   ]
  },
  {
   "cell_type": "code",
   "execution_count": 3,
   "metadata": {},
   "outputs": [
    {
     "name": "stdout",
     "output_type": "stream",
     "text": [
      "features: [[1]\n",
      " [1]\n",
      " [1]\n",
      " [1]\n",
      " [0]\n",
      " [1]\n",
      " [0]\n",
      " [1]\n",
      " [1]\n",
      " [0]]\n",
      "\n",
      "labels: [1 1 1 1 0 1 0 1 1 0]\n"
     ]
    }
   ],
   "source": [
    "np.random.seed(0)\n",
    "y_simple = np.random.binomial(1, 0.5, size=10)\n",
    "X_simple = np.array([[e] for e in y_simple])\n",
    "print(f\"features: {X_simple}\")\n",
    "print(f\"\\nlabels: {y_simple}\")"
   ]
  },
  {
   "cell_type": "markdown",
   "metadata": {},
   "source": [
    "Next, we'll count all observations in which the switch is off and the light is off.\n",
    "\n",
    "**Listing 22. 4. Counting the off-state co-occurrences**"
   ]
  },
  {
   "cell_type": "code",
   "execution_count": 4,
   "metadata": {},
   "outputs": [
    {
     "name": "stdout",
     "output_type": "stream",
     "text": [
      "In 3 instances, both the switch and the light are off\n"
     ]
    }
   ],
   "source": [
    "count = (X_simple[:,0][y_simple == 0] == 0).sum()\n",
    "print(f\"In {count} instances, both the switch and the light are off\")"
   ]
  },
  {
   "cell_type": "markdown",
   "metadata": {},
   "source": [
    "Now, lets count the instances in which both the switch and light bulb are turned on.\n",
    "\n",
    "**Listing 22. 5. Counting the on-state co-occurrences**"
   ]
  },
  {
   "cell_type": "code",
   "execution_count": 5,
   "metadata": {},
   "outputs": [
    {
     "name": "stdout",
     "output_type": "stream",
     "text": [
      "In 7 instances, both the switch and the light are on\n"
     ]
    }
   ],
   "source": [
    "count = (X_simple[:,0][y_simple == 1] == 1).sum()\n",
    "print(f\"In {count} instances, both the switch and the light are on\")"
   ]
  },
  {
   "cell_type": "markdown",
   "metadata": {},
   "source": [
    "These co-occurrences will prove useful during classifier training. Lets track the counts more systematically within a co-occurrence matrix `M`.\n",
    "\n",
    "**Listing 22. 6. Computing a co-occurrence matrix**"
   ]
  },
  {
   "cell_type": "code",
   "execution_count": 6,
   "metadata": {},
   "outputs": [
    {
     "name": "stdout",
     "output_type": "stream",
     "text": [
      "[[3 0]\n",
      " [0 7]]\n"
     ]
    }
   ],
   "source": [
    "def get_co_occurrence(X, y, col=0):\n",
    "    co_occurrence = []\n",
    "    for i in [0, 1]:\n",
    "        counts = [(X[:,col][y == i] == j).sum()\n",
    "                  for j in [0, 1]] \n",
    "        co_occurrence.append(counts)\n",
    "    \n",
    "    return np.array(co_occurrence)\n",
    "\n",
    "M = get_co_occurrence(X_simple, y_simple)\n",
    "assert M[0][0] == 3\n",
    "assert M[1][1] == 7\n",
    "print(M)"
   ]
  },
  {
   "cell_type": "markdown",
   "metadata": {},
   "source": [
    "Suppose that there's a flaw in the switch toggle. We flip the switch off, but the bulb stays on! Lets add this anomalous observation to our data, and subsequently recompute matrix `M`.\n",
    "\n",
    "**Listing 22. 7. Adding a flawed mismatch to the data**"
   ]
  },
  {
   "cell_type": "code",
   "execution_count": 7,
   "metadata": {},
   "outputs": [
    {
     "name": "stdout",
     "output_type": "stream",
     "text": [
      "[[3 1]\n",
      " [0 7]]\n"
     ]
    }
   ],
   "source": [
    "X_simple = np.vstack([X_simple, [1]])\n",
    "y_simple = np.hstack([y_simple, [0]])\n",
    "M = get_co_occurrence(X_simple, y_simple)\n",
    "print(M)"
   ]
  },
  {
   "cell_type": "markdown",
   "metadata": {},
   "source": [
    "How accurately can we predict the state of the light-bulb if we know that the switch is off? In order to find out, we must divide `M[0]` by `M[0].sum()`. This will produce a probability distribution over possible light-bulb states whenever the switch-state is set to `0`.\n",
    "\n",
    "**Listing 22. 8. Computing bulb probabilities when the switch is off**"
   ]
  },
  {
   "cell_type": "code",
   "execution_count": 8,
   "metadata": {},
   "outputs": [
    {
     "name": "stdout",
     "output_type": "stream",
     "text": [
      "When the switch is set to 0, the bulb state probabilities are:\n",
      "[0.75 0.25]\n",
      "\n",
      "There is a 75% chance that the bulb is off.\n",
      "There is a 25% chance that the bulb is on.\n"
     ]
    }
   ],
   "source": [
    "bulb_probs = M[0] / M[0].sum()\n",
    "print(\"When the switch is set to 0, the bulb state probabilities are:\")\n",
    "print(bulb_probs)\n",
    "\n",
    "prob_on, prob_off = bulb_probs\n",
    "print(f\"\\nThere is a {100 * prob_on:.0f}% chance that the bulb is off.\")\n",
    "print(f\"There is a {100 * prob_off:.0f}% chance that the bulb is on.\")"
   ]
  },
  {
   "cell_type": "markdown",
   "metadata": {},
   "source": [
    "When the switch is off, we can predict the state of the bulb with 75% accuracy. Now lets optimize the accuracy for the scenario in which the switch is on. \n",
    "\n",
    "**Listing 22. 9. Predicting the state of the bulb when the switch is on**"
   ]
  },
  {
   "cell_type": "code",
   "execution_count": 9,
   "metadata": {},
   "outputs": [
    {
     "name": "stdout",
     "output_type": "stream",
     "text": [
      "When the switch is set to 1, the bulb state probabilities are:\n",
      "[0. 1.]\n",
      "\n",
      "We assume the bulb is on with 100% accuracy\n"
     ]
    }
   ],
   "source": [
    "bulb_probs = M[1] / M[1].sum()\n",
    "print(\"When the switch is set to 1, the bulb state probabilities are:\")\n",
    "print(bulb_probs)\n",
    "\n",
    "prediction = ['off', 'on'][bulb_probs.argmax()]\n",
    "accuracy = bulb_probs.max()\n",
    "print(f\"\\nWe assume the bulb is {prediction} with \"\n",
    "      f\"{100 * accuracy:.0f}% accuracy\")"
   ]
  },
  {
   "cell_type": "markdown",
   "metadata": {},
   "source": [
    "How do we combine our two accuracy values into a single accuracy score? Naively, we could simply average 0.75 and 1.0. However, that approach would be erroneous. The two accuracies should not be weighted evenly, since the switch is on nearly twice as often as it is off.\n",
    "\n",
    "**Listing 22. 10. Counting the on / off states of the switch**"
   ]
  },
  {
   "cell_type": "code",
   "execution_count": 10,
   "metadata": {},
   "outputs": [
    {
     "name": "stdout",
     "output_type": "stream",
     "text": [
      "The switch is off in 4 observations.\n",
      "The switch is on in 7 observations.\n"
     ]
    }
   ],
   "source": [
    "for i, count in enumerate(M.sum(axis=1)):\n",
    "    state = ['off', 'on'][i]\n",
    "    print(f\"The switch is {state} in {count} observations.\")"
   ]
  },
  {
   "cell_type": "markdown",
   "metadata": {},
   "source": [
    "The switch is on more frequently than it is off. Hence, to get a meaningful accuracy score, we need to take the weighted average of 0.75 and 1.0.\n",
    "\n",
    "**Listing 22. 11. Computing total accuracy**"
   ]
  },
  {
   "cell_type": "code",
   "execution_count": 11,
   "metadata": {},
   "outputs": [
    {
     "name": "stdout",
     "output_type": "stream",
     "text": [
      "Our total accuracy is 91%\n"
     ]
    }
   ],
   "source": [
    "accuracies = [0.75, 1.0]\n",
    "total_accuracy = np.average(accuracies, weights=M.sum(axis=1))\n",
    "print(f\"Our total accuracy is {100 * total_accuracy:.0f}%\")"
   ]
  },
  {
   "cell_type": "markdown",
   "metadata": {},
   "source": [
    "If the switch is off, we predict that the bulb is off. Otherwise, we predict that the bulb is on. This model is 91% accurate. Furthermore, the model can be represented as a simple if/else Python statement, which we can train from scratch.\n",
    "\n",
    "**Listing 22. 12. Training a simple if/else model**"
   ]
  },
  {
   "cell_type": "code",
   "execution_count": 12,
   "metadata": {},
   "outputs": [
    {
     "name": "stdout",
     "output_type": "stream",
     "text": [
      "if switch == 0:\n",
      "    prediction = 0\n",
      "else:\n",
      "    prediction = 1\n",
      "\n",
      "This statement is 91% accurate.\n"
     ]
    }
   ],
   "source": [
    "def train_if_else(X, y, feature_col=0, feature_name='feature'):\n",
    "    M = get_co_occurrence(X, y, col=feature_col)\n",
    "    probs0, probs1 = [M[i] / M[i].sum() for i in [0, 1]]\n",
    "    \n",
    "    if_else = f\"\"\"if {feature_name} == 0:\n",
    "    prediction = {probs0.argmax()}\n",
    "else:\n",
    "    prediction = {probs1.argmax()}\n",
    "    \"\"\".strip()\n",
    "\n",
    "    if probs0.argmax() == probs1.argmax():\n",
    "        if_else = f\"prediction = {probs0.argmax()}\"\n",
    "\n",
    "    accuracies = [probs0.max(), probs1.max()]\n",
    "    total_accuracy = np.average(accuracies, weights=M.sum(axis=1))\n",
    "    return if_else, total_accuracy\n",
    "\n",
    "if_else, accuracy = train_if_else(X_simple, y_simple, feature_name='switch')\n",
    "print(if_else)\n",
    "print(f\"\\nThis statement is {100 * accuracy:.0f}% accurate.\")"
   ]
  },
  {
   "cell_type": "markdown",
   "metadata": {},
   "source": [
    "We're able to train a simple if/else model using a single  feature. Now, we'll figure out how to train a nested if/else model using two features.\n",
    "\n",
    "### Training a Nested If/Else Model Using Two Features\n",
    "\n",
    "Lets return to our system of two light-switches connecting to a single staircase bulb. Our two features, `switch0` and `switch1`, correspond to columns `0` and `1` of matrix `X`. However, the `train_if_else` function can only train on one column at a time. Lets train two separate models and compare them.\n",
    "\n",
    "**Listing 22. 13. Training models on the two-switch system**"
   ]
  },
  {
   "cell_type": "code",
   "execution_count": 13,
   "metadata": {},
   "outputs": [
    {
     "name": "stdout",
     "output_type": "stream",
     "text": [
      "The model trained on switch0 is 50% accurate.\n",
      "The model trained on switch1 is 50% accurate.\n"
     ]
    }
   ],
   "source": [
    "feature_names = [f\"switch{i}\" for i in range(2)]\n",
    "for i, name in enumerate(feature_names):\n",
    "    _, accuracy = train_if_else(X, y, feature_col=i, feature_name=name)\n",
    "    print(f\"The model trained on {name} is {100 * accuracy:.0f}% \"\n",
    "           \"accurate.\")"
   ]
  },
  {
   "cell_type": "markdown",
   "metadata": {},
   "source": [
    " A single if/else statement is insufficient to capture the complexity of the problem. We must break the problem into parts by training two separate models; _A_ and _B_.  _Model A_ will consider only those scenarios in which `switch0` is set to off. We'll start by isolating a training subset that satisfies this boolean requirement.\n",
    " \n",
    " \n",
    "**Listing 22. 14. Isolating a training subset where `switch0` is off**"
   ]
  },
  {
   "cell_type": "code",
   "execution_count": 14,
   "metadata": {},
   "outputs": [
    {
     "name": "stdout",
     "output_type": "stream",
     "text": [
      "Feature matrix when switch0 is off:\n",
      "[[0 0]\n",
      " [0 1]]\n",
      "\n",
      "Class labels when switch0 is off:\n",
      "[0 1]\n"
     ]
    }
   ],
   "source": [
    "is_off = X[:,0] == 0\n",
    "X_switch0_off = X[is_off]\n",
    "y_switch0_off = y[is_off]\n",
    "print(f\"Feature matrix when switch0 is off:\\n{X_switch0_off}\")\n",
    "print(f\"\\nClass labels when switch0 is off:\\n{y_switch0_off}\")"
   ]
  },
  {
   "cell_type": "markdown",
   "metadata": {},
   "source": [
    "`X_switch0_off[:,0]` always equals zero. Thus this zero column is now redundant. Lets delete it.\n",
    "\n",
    "**Listing 22. 15. Deleting a redundant feature column**"
   ]
  },
  {
   "cell_type": "code",
   "execution_count": 15,
   "metadata": {},
   "outputs": [
    {
     "name": "stdout",
     "output_type": "stream",
     "text": [
      "[[0]\n",
      " [1]]\n"
     ]
    }
   ],
   "source": [
    "X_switch0_off = np.delete(X_switch0_off, 0, axis=1) \n",
    "print(X_switch0_off)"
   ]
  },
  {
   "cell_type": "markdown",
   "metadata": {},
   "source": [
    "Next, we'll train an if/else model on the training subset. \n",
    "\n",
    "**Listing 22. 16. Training a model when `switch0` is off**"
   ]
  },
  {
   "cell_type": "code",
   "execution_count": 16,
   "metadata": {},
   "outputs": [
    {
     "name": "stdout",
     "output_type": "stream",
     "text": [
      "If switch 0 is off, then the following if/else model is 100% accurate.\n",
      "\n",
      "if switch1 == 0:\n",
      "    prediction = 0\n",
      "else:\n",
      "    prediction = 1\n"
     ]
    }
   ],
   "source": [
    "results = train_if_else(X_switch0_off, y_switch0_off, \n",
    "                        feature_name='switch1')\n",
    "switch0_off_model, off_accuracy = results\n",
    "print(\"If switch 0 is off, then the following if/else model is \"\n",
    "      f\"{100 * off_accuracy:.0f}% accurate.\\n\\n{switch0_off_model}\")"
   ]
  },
  {
   "cell_type": "markdown",
   "metadata": {},
   "source": [
    "Now, lets train a corresponding model to cover all the cases where `switch0` is on. We'll start by filtering our training data based on the condition `X[:,0] == 1`.\n",
    "\n",
    "**Listing 22. 17. Isolating a training subset where `switch0` is on**"
   ]
  },
  {
   "cell_type": "code",
   "execution_count": 17,
   "metadata": {},
   "outputs": [],
   "source": [
    "def filter_X_y(X, y, feature_col=0, condition=0):\n",
    "    inclusion_criteria = X[:,feature_col] == condition\n",
    "    y_filtered = y[inclusion_criteria]\n",
    "    X_filtered = X[inclusion_criteria]\n",
    "    X_filtered = np.delete(X_filtered, feature_col, axis=1)\n",
    "    return X_filtered, y_filtered\n",
    "\n",
    "X_switch0_on, y_switch0_on = filter_X_y(X, y, condition=1)"
   ]
  },
  {
   "cell_type": "markdown",
   "metadata": {},
   "source": [
    "Next, we'll train `switch0_on_model` using the filtered training set.\n",
    "\n",
    "**Listing 22. 18. Training a model when `switch0` is on**"
   ]
  },
  {
   "cell_type": "code",
   "execution_count": 18,
   "metadata": {},
   "outputs": [
    {
     "name": "stdout",
     "output_type": "stream",
     "text": [
      "If switch 0 is on, then the following if/else model is 100% accurate.\n",
      "\n",
      "if switch1 == 0:\n",
      "    prediction = 1\n",
      "else:\n",
      "    prediction = 0\n"
     ]
    }
   ],
   "source": [
    "results = train_if_else(X_switch0_on, y_switch0_on, \n",
    "                        feature_name='switch1')\n",
    "switch0_on_model, on_accuracy = results\n",
    "print(\"If switch 0 is on, then the following if/else model is \"\n",
    "      f\"{100 * on_accuracy:.0f}% accurate.\\n\\n{switch0_on_model}\")"
   ]
  },
  {
   "cell_type": "markdown",
   "metadata": {},
   "source": [
    "Together, our two models can be easily combined into a single nested if/else statement.\n",
    "\n",
    "**Listing 22. 19. Combining seperate if/else models together**"
   ]
  },
  {
   "cell_type": "code",
   "execution_count": 19,
   "metadata": {},
   "outputs": [
    {
     "name": "stdout",
     "output_type": "stream",
     "text": [
      "if switch0 == 0:\n",
      "    if switch1 == 0:\n",
      "        prediction = 0\n",
      "    else:\n",
      "        prediction = 1\n",
      "else:\n",
      "    if switch1 == 0:\n",
      "        prediction = 1\n",
      "    else:\n",
      "        prediction = 0\n"
     ]
    }
   ],
   "source": [
    "def combine_if_else(if_else_a, if_else_b, feature_name='feature'):\n",
    "    return  f\"\"\"\n",
    "if {feature_name} == 0:\n",
    "{add_indent(if_else_a)}\n",
    "else:\n",
    "{add_indent(if_else_b)}\n",
    "\"\"\".strip()\n",
    "\n",
    "def add_indent(if_else):\n",
    "    return '\\n'.join([4 * ' ' + line for line in if_else.split('\\n')])\n",
    "\n",
    "nested_model = combine_if_else(switch0_off_model, switch0_on_model, \n",
    "                               feature_name='switch0')\n",
    "print(nested_model)"
   ]
  },
  {
   "cell_type": "markdown",
   "metadata": {},
   "source": [
    "Our combined model is 100% accurate. We can confirm by taking the weighted average of `off_accuracy` and `on_accuracy`. \n",
    "\n",
    "**Listing 22. 20. Computing total nested accuracy**"
   ]
  },
  {
   "cell_type": "markdown",
   "metadata": {},
   "source": [
    "We're able to generate a nested two-feature model in an automated manner. Our strategy hinges on the creation of separate training sets. That separation is determined by the on/off states of one the features. This type of separation is called a **binary split**.\n",
    "\n",
    "**Listing 22. 21. Defining a binary split function**"
   ]
  },
  {
   "cell_type": "code",
   "execution_count": 20,
   "metadata": {},
   "outputs": [],
   "source": [
    "def split(X, y, feature_col=0, condition=0):\n",
    "    has_condition = X[:,feature_col] == condition\n",
    "    X_a, y_a = [e[has_condition] for e in [X, y]] \n",
    "    X_b, y_b = [e[~has_condition] for e in [X, y]]\n",
    "    X_a, X_b = [np.delete(e, feature_col, axis=1) for e in [X_a, X_b]]\n",
    "    return [X_a, X_b, y_a, y_b]\n",
    "\n",
    "X_a, X_b, y_a, y_b = split(X, y)\n",
    "assert np.array_equal(X_a, X_switch0_off) \n",
    "assert np.array_equal(X_b, X_switch0_on)"
   ]
  },
  {
   "cell_type": "markdown",
   "metadata": {},
   "source": [
    "Lets define a `train_nested_if_else` to systematically execute our two-feature training logic from the previous code listings.\n",
    "\n",
    "**Listing 22. 22. Training a nested if/else model**"
   ]
  },
  {
   "cell_type": "code",
   "execution_count": 21,
   "metadata": {},
   "outputs": [
    {
     "name": "stdout",
     "output_type": "stream",
     "text": [
      "if switch0 == 0:\n",
      "    if switch1 == 0:\n",
      "        prediction = 0\n",
      "    else:\n",
      "        prediction = 1\n",
      "else:\n",
      "    if switch1 == 0:\n",
      "        prediction = 1\n",
      "    else:\n",
      "        prediction = 0\n",
      "\n",
      "This statement is 100% accurate.\n"
     ]
    }
   ],
   "source": [
    "def train_nested_if_else(X, y, split_col=0, \n",
    "                         feature_names=['feature1', 'feature1']):\n",
    "    split_name = feature_names[split_col]\n",
    "    simple_model, simple_accuracy = train_if_else(X, y, split_col, \n",
    "                                                  split_name)\n",
    "    if simple_accuracy == 1.0:\n",
    "        return (simple_model, simple_accuracy)\n",
    "    \n",
    "    X_a, X_b, y_a, y_b = split(X, y, feature_col=split_col)\n",
    "    in_name = feature_names[1 - split_col] \n",
    "    if_else_a, accuracy_a = train_if_else(X_a, y_a, feature_name=in_name) \n",
    "    if_else_b, accuracy_b = train_if_else(X_b, y_b, feature_name=in_name)\n",
    "    nested_model = combine_if_else(if_else_a, if_else_b, split_name)\n",
    "    accuracies = [accuracy_a, accuracy_b]\n",
    "    nested_accuracy = np.average(accuracies, weights=[y_a.size, y_b.size])\n",
    "    if nested_accuracy > simple_accuracy:\n",
    "        return (nested_model, nested_accuracy)\n",
    "    \n",
    "    return (simple_model, simple_accuracy)\n",
    "\n",
    "feature_names = ['switch0', 'switch1']\n",
    "model, accuracy = train_nested_if_else(X, y, feature_names=feature_names)\n",
    "print(model)\n",
    "print(f\"\\nThis statement is {100 * accuracy:.0f}% accurate.\")"
   ]
  },
  {
   "cell_type": "markdown",
   "metadata": {},
   "source": [
    "Our function trained a model that's 100% accurate. Given our current training set, that accuracy should hold even if we split on `switch1` instead of `switch0`.\n",
    "\n",
    "**Listing 22. 23. Splitting on `switch1` instead of `switch0`**"
   ]
  },
  {
   "cell_type": "code",
   "execution_count": 22,
   "metadata": {},
   "outputs": [
    {
     "name": "stdout",
     "output_type": "stream",
     "text": [
      "if switch1 == 0:\n",
      "    if switch0 == 0:\n",
      "        prediction = 0\n",
      "    else:\n",
      "        prediction = 1\n",
      "else:\n",
      "    if switch0 == 0:\n",
      "        prediction = 1\n",
      "    else:\n",
      "        prediction = 0\n",
      "\n",
      "This statement is 100% accurate.\n"
     ]
    }
   ],
   "source": [
    "model, accuracy = train_nested_if_else(X, y, split_col=1,\n",
    "                                       feature_names=feature_names)\n",
    "print(model)\n",
    "print(f\"\\nThis statement is {100 * accuracy:.0f}% accurate.\")"
   ]
  },
  {
   "cell_type": "markdown",
   "metadata": {},
   "source": [
    "Splitting on either feature will yield the same result. This is true of our two-switch system. However, this is not the case for many real-world training sets.\n",
    "\n",
    "#### Deciding which Feature to Split On"
   ]
  },
  {
   "cell_type": "markdown",
   "metadata": {},
   "source": [
    "Suppose we wish to train an if/else model that predicts whether or not it’s raining outside. The model returns `1` if it is raining and `0` otherwise. We'll simulate the relationship between features (seasons and wetness) and rain-observation using random sampling.\n",
    "\n",
    "**Listing 22. 24. Simulating a rainy-day training set**"
   ]
  },
  {
   "cell_type": "code",
   "execution_count": 23,
   "metadata": {},
   "outputs": [],
   "source": [
    "np.random.seed(1)\n",
    "y_rain = np.random.binomial(1, 0.6, size=100) \n",
    "is_wet = [e if np.random.binomial(1, 0.95) else 1 - e for e in y_rain] \n",
    "is_fall = [e if np.random.binomial(1, 0.6) else 1 - e for e in y_rain]\n",
    "X_rain = np.array([is_fall, is_wet]).T"
   ]
  },
  {
   "cell_type": "markdown",
   "metadata": {},
   "source": [
    "Now, lets train a model by splitting on the _Autumn_ feature.\n",
    "\n",
    "**Listing 22. 25. Training a model with an _Autumn_ split**"
   ]
  },
  {
   "cell_type": "code",
   "execution_count": 24,
   "metadata": {},
   "outputs": [
    {
     "name": "stdout",
     "output_type": "stream",
     "text": [
      "if is_autumn == 0:\n",
      "    if is_wet == 0:\n",
      "        prediction = 0\n",
      "    else:\n",
      "        prediction = 1\n",
      "else:\n",
      "    if is_wet == 0:\n",
      "        prediction = 0\n",
      "    else:\n",
      "        prediction = 1\n",
      "\n",
      "This statement is 95% accurate.\n"
     ]
    }
   ],
   "source": [
    "feature_names = ['is_autumn', 'is_wet']\n",
    "model, accuracy = train_nested_if_else(X_rain, y_rain, \n",
    "                                       feature_names=feature_names)\n",
    "print(model)\n",
    "print(f\"\\nThis statement is {100 * accuracy:.0f}% accurate.\")"
   ]
  },
  {
   "cell_type": "markdown",
   "metadata": {},
   "source": [
    "We trained a nested model that is 95% accurate. What if we split on the _Wetness_ feature instead?\n",
    "\n",
    "**Listing 22. 26. Training a model with a Wetness split**"
   ]
  },
  {
   "cell_type": "markdown",
   "metadata": {},
   "source": [
    "Splitting on some features leads to more preferable results. How should we select the best feature for the split? \n",
    "One solution requires us to examine the distribution of classes within the training set. We'll do this by first printing the probability of rain.\n",
    "\n",
    "**Listing 22. 27. Computing the probability of rain**"
   ]
  },
  {
   "cell_type": "code",
   "execution_count": 25,
   "metadata": {},
   "outputs": [
    {
     "name": "stdout",
     "output_type": "stream",
     "text": [
      "It rains in 61% of our observations.\n"
     ]
    }
   ],
   "source": [
    "prob_rain = y_rain.sum() / y_rain.size\n",
    "print(f\"It rains in {100 * prob_rain:.0f}% of our observations.\")"
   ]
  },
  {
   "cell_type": "markdown",
   "metadata": {},
   "source": [
    "It rains in 61% of total observations. How is that probability altered when we split on _Autumn_?\n",
    "\n",
    "**Listing 22. 28. Computing the probability of rain based on the season**"
   ]
  },
  {
   "cell_type": "code",
   "execution_count": 26,
   "metadata": {},
   "outputs": [
    {
     "name": "stdout",
     "output_type": "stream",
     "text": [
      "It rains 55% of the time when it is not autumn\n",
      "It rains 66% of the time when it is autumn\n"
     ]
    }
   ],
   "source": [
    "y_fall_a, y_fall_b = split(X_rain, y_rain, feature_col=0)[-2:]\n",
    "for i, y_fall in enumerate([y_fall_a, y_fall_b]):\n",
    "    prob_rain = y_fall.sum() / y_fall.size\n",
    "    state = ['not autumn', 'autumn'][i]\n",
    "    print(f\"It rains {100 * prob_rain:.0f}% of the time when it is \"\n",
    "          f\"{state}\")"
   ]
  },
  {
   "cell_type": "markdown",
   "metadata": {},
   "source": [
    "If we know that it is autumn, then we are slightly more confident in rain. Still, our confidence increase is not very substantial relative to the original training set. What if instead we were to split on _Wetness_ ? \n",
    "\n",
    "**Listing 22. 29. Computing the probability of rain based on wetness**"
   ]
  },
  {
   "cell_type": "code",
   "execution_count": 27,
   "metadata": {},
   "outputs": [
    {
     "name": "stdout",
     "output_type": "stream",
     "text": [
      "It rains 10% of the time when it is not wet\n",
      "It rains 98% of the time when it is wet\n"
     ]
    }
   ],
   "source": [
    "y_wet_a, y_wet_b = split(X_rain, y_rain, feature_col=1)[-2:]\n",
    "for i, y_wet in enumerate([y_wet_a, y_wet_b]):\n",
    "    prob_rain = y_wet.sum() / y_wet.size\n",
    "    state = ['not wet', 'wet'][i]\n",
    "    print(f\"It rains {100 * prob_rain:.0f}% of the time when it is \"\n",
    "          f\"{state}\")"
   ]
  },
  {
   "cell_type": "markdown",
   "metadata": {},
   "source": [
    "The _Wetness_ split returns two class-label arrays whose corresponding rain probabilities are either very low or very high. These extreme probabilities are an indication of class imbalance.  When choosing between two splits, we should select the split that yields more imbalanced class-labels. Lets figure out how to quantify class imbalance. Generally, imbalance is associated with the shape of the class probability distribution. We can treat this distribution as a vector `v`, where `v[i]` equals probability of observing _Class i_. Lets visualize the distribution vectors associated with the _Autumn_ and _Wetness_ splits.\n",
    "\n",
    "**Listing 22. 30. Plotting the class distribution vectors**"
   ]
  },
  {
   "cell_type": "code",
   "execution_count": 28,
   "metadata": {},
   "outputs": [
    {
     "data": {
      "image/png": "[encoded data removed]",
      "text/plain": [
       "<Figure size 432x288 with 1 Axes>"
      ]
     },
     "metadata": {
      "needs_background": "light"
     },
     "output_type": "display_data"
    }
   ],
   "source": [
    "def get_class_distribution(y):\n",
    "    prob_rain = y.sum() / y.size\n",
    "    return np.array([1 - prob_rain, prob_rain])\n",
    "\n",
    "def plot_vector(v, label, linestyle='-', color='b'):\n",
    "    plt.plot([0, v[0]], [0, v[1]], label=label, \n",
    "             linestyle=linestyle, c=color)\n",
    "\n",
    "classes = [y_fall_a, y_fall_b, y_wet_a, y_wet_b]\n",
    "distributions = [get_class_distribution(y) for y in classes]\n",
    "labels = ['Not Autumn', 'Autumn', 'Not Wet', 'Wet']\n",
    "colors = ['y', 'g', 'k', 'b']\n",
    "linestyles = ['-.', ':', '-', '--']\n",
    "for tup in zip(distributions, labels, colors, linestyles):\n",
    "    vector, label, color, linestyle = tup\n",
    "    plot_vector(vector, label, linestyle=linestyle, color=color)\n",
    "\n",
    "plt.legend()\n",
    "plt.xlabel('Probability Not Rain')\n",
    "plt.ylabel('Probability Rain')\n",
    "plt.axis('equal')\n",
    "plt.show()"
   ]
  },
  {
   "cell_type": "markdown",
   "metadata": {},
   "source": [
    "The balanced _Autumn_ vectors are much shorter than the vectors associated with _Wetness_. This isn't a coincidence. Imbalanced distributions are proven to have greater vector magnitudes. Also, the magnitude is equal to the square-root of `v @ v`. Hence, the dot-product of a distribution vector with itself will be greater if that vector is more imbalanced! Lets demonstrate this property for every 2D vector `v = [1 - p, p]`.\n",
    "\n",
    "**Listing 22. 31. Plotting the distribution vector magnitudes**"
   ]
  },
  {
   "cell_type": "code",
   "execution_count": 29,
   "metadata": {},
   "outputs": [
    {
     "data": {
      "image/png": "[encoded data removed]",
      "text/plain": [
       "<Figure size 432x288 with 1 Axes>"
      ]
     },
     "metadata": {
      "needs_background": "light"
     },
     "output_type": "display_data"
    }
   ],
   "source": [
    "prob_rain = np.arange(0, 1.001, 0.01)\n",
    "vectors = [np.array([1 - p, p]) for p in prob_rain]\n",
    "magnitudes = [np.linalg.norm(v) for v in vectors] \n",
    "square_magnitudes = [v @ v for v in vectors]\n",
    "plt.plot(prob_rain, magnitudes, label='Magnitude')\n",
    "plt.plot(prob_rain, square_magnitudes, label='Squared Magnitude',\n",
    "         linestyle='--')\n",
    "plt.xlabel('Probability of Rain')\n",
    "plt.axvline(0.5, color='k', label='Perfect Balance', linestyle=':')\n",
    "plt.legend()\n",
    "plt.show()"
   ]
  },
  {
   "cell_type": "markdown",
   "metadata": {},
   "source": [
    "`v @ v` serves as an excellent metric for class-label imbalance. However, data scientists prefer the slightly different metric of `1 - v @ v`. This metric, called **Gini Impurity**, essentially flips the plotted curve.\n",
    "\n",
    "**Listing 22. 32. Plotting the Gini Impurity**"
   ]
  },
  {
   "cell_type": "code",
   "execution_count": 30,
   "metadata": {},
   "outputs": [
    {
     "data": {
      "image/png": "[encoded data removed]",
      "text/plain": [
       "<Figure size 432x288 with 1 Axes>"
      ]
     },
     "metadata": {
      "needs_background": "light"
     },
     "output_type": "display_data"
    }
   ],
   "source": [
    "gini_impurities = [1 - (v @ v) for v in vectors]\n",
    "plt.plot(prob_rain, gini_impurities)\n",
    "plt.xlabel('Probability of Rain')\n",
    "plt.ylabel('Gini Impurity')\n",
    "plt.show()"
   ]
  },
  {
   "cell_type": "markdown",
   "metadata": {},
   "source": [
    "Gini Impurity is a standard measure of class imbalance. Lets compute the impurities associated with _Autumn_ and _Wetness_. This will require us to compute weighted mean of impurities associated with each split.\n",
    "\n",
    "**Listing 22. 33. Computing each feature’s Gini Impuritity**"
   ]
  },
  {
   "cell_type": "code",
   "execution_count": 31,
   "metadata": {},
   "outputs": [
    {
     "name": "stdout",
     "output_type": "stream",
     "text": [
      "When we split on Autumn, the Impurity is 0.45.\n",
      "When we split on Wetness, the Impurity is 0.04.\n"
     ]
    }
   ],
   "source": [
    "def compute_impurity(y_a, y_b): \n",
    "    v_a = get_class_distribution(y_a)\n",
    "    v_b = get_class_distribution(y_b) \n",
    "    impurities = [1 - v @ v for v in [v_a, v_b]] \n",
    "    weights = [y.size, y_b.size]\n",
    "    return np.average(impurities, weights=weights) \n",
    "\n",
    "fall_impurity = compute_impurity(y_fall_a, y_fall_b)\n",
    "wet_impurity = compute_impurity(y_wet_a, y_wet_b)\n",
    "print(f\"When we split on Autumn, the Impurity is {fall_impurity:0.2f}.\")\n",
    "print(f\"When we split on Wetness, the Impurity is {wet_impurity:0.2f}.\")"
   ]
  },
  {
   "cell_type": "markdown",
   "metadata": {},
   "source": [
    "The Impurity is minimized when we split on _Wetness_. Going forward, we will split on features whose Gini Impurity is minimized.\n",
    "\n",
    "**Listing 22. 34. Sorting features by Gini Impurity**"
   ]
  },
  {
   "cell_type": "code",
   "execution_count": 32,
   "metadata": {},
   "outputs": [
    {
     "name": "stdout",
     "output_type": "stream",
     "text": [
      "The feature with the minimal impurity is: 'is_wet'\n"
     ]
    }
   ],
   "source": [
    "def sort_feature_indices(X, y):\n",
    "    feature_indices = range(X.shape[1])\n",
    "    impurities = []\n",
    "    \n",
    "    for i in feature_indices: \n",
    "        y_a, y_b = split(X, y, feature_col=i)[-2:]\n",
    "        impurities.append(compute_impurity(y_a, y_b))\n",
    "    \n",
    "    return sorted(feature_indices, key=lambda i: impurities[i]) \n",
    "\n",
    "indices = sort_feature_indices(X_rain, y_rain)\n",
    "top_feature = feature_names[indices[0]]\n",
    "print(f\"The feature with the minimal impurity is: '{top_feature}'\")"
   ]
  },
  {
   "cell_type": "markdown",
   "metadata": {},
   "source": [
    "The `sorted_feature_indices` function will prove invaluable as we train nested if/else models with more than two features.\n",
    "\n",
    "### Training If/Else Models with More Than Two Features\n",
    "\n",
    "We’ll now train a more complicated model that will predict whether or not it will rain tomorrow. \n",
    "\n",
    "The model will rely on on the following three features:\n",
    "\n",
    "1. Has it rained at any point today?\n",
    "\n",
    "2. Is today a cloudy day?\n",
    "\n",
    "3. Is today an autumn day? \n",
    "\n",
    "Below, we'll simulate a training set `(X_rain, y_rain)` based on the probabilistic relationships between the features. \n",
    "\n",
    "**Listing 22. 35. Simulating a three-feature training set**"
   ]
  },
  {
   "cell_type": "code",
   "execution_count": 33,
   "metadata": {},
   "outputs": [],
   "source": [
    "np.random.seed(0)\n",
    "def simulate_weather():\n",
    "    is_fall = np.random.binomial(1, 0.25)\n",
    "    is_cloudy = np.random.binomial(1, [0.3, 0.7][is_fall])\n",
    "    rained_today = np.random.binomial(1, [0.05, 0.4][is_cloudy])\n",
    "    if rained_today:\n",
    "        rains_tomorrow = np.random.binomial(1, 0.5)\n",
    "    else:\n",
    "        rains_tomorrow = np.random.binomial(1, [0.05, 0.15][is_fall])\n",
    "    \n",
    "    features = [rained_today, is_cloudy, is_fall]\n",
    "    return features, rains_tomorrow\n",
    "\n",
    "X_rain, y_rain = [], []\n",
    "for _ in range(1000):\n",
    "    features, rains_tomorrow = simulate_weather()\n",
    "    X_rain.append(features)\n",
    "    y_rain.append(rains_tomorrow)\n",
    "    \n",
    "X_rain, y_rain = np.array(X_rain), np.array(y_rain)"
   ]
  },
  {
   "cell_type": "markdown",
   "metadata": {},
   "source": [
    "The columns in `X_rain` correspond to features `'is_fall'`, `'is_cloudy'`, and `'rained_today'`. We can sort these features by Gini Impurity in order to measure how well they split the data.\n",
    "\n",
    "**Listing 22. 36. Sorting three features by Gini Impurity**"
   ]
  },
  {
   "cell_type": "code",
   "execution_count": 34,
   "metadata": {},
   "outputs": [
    {
     "name": "stdout",
     "output_type": "stream",
     "text": [
      "Features sorted by Gini Impurity:\n",
      "['is_fall', 'is_cloudy', 'rained_today']\n"
     ]
    }
   ],
   "source": [
    "feature_names = ['rained_today', 'is_cloudy', 'is_fall']\n",
    "indices = sort_feature_indices(X_rain, y_rain)\n",
    "print(f\"Features sorted by Gini Impurity:\")\n",
    "print([feature_names[i] for i in indices])"
   ]
  },
  {
   "cell_type": "markdown",
   "metadata": {},
   "source": [
    "Splitting on the _Autumn_ feature yields the lowest Gini Impurity. Meanwhile, _Cloudiness_ ranks second. Below, we'll train a two-feature model on just the _Autumn_ and _Cloudiness_ features. We'll also set the split-column to _Autumn_, since _Autumn_ has the lowest Gini Impurity.\n",
    "\n",
    "**Listing 22. 37. Training a model on the two best features**"
   ]
  },
  {
   "cell_type": "code",
   "execution_count": 35,
   "metadata": {},
   "outputs": [
    {
     "name": "stdout",
     "output_type": "stream",
     "text": [
      "prediction = 0\n",
      "\n",
      "This statement is 74% accurate.\n"
     ]
    }
   ],
   "source": [
    "skip_index = indices[-1]\n",
    "X_subset = np.delete(X_rain, skip_index, axis=1)\n",
    "name_subset = np.delete(feature_names, skip_index)\n",
    "split_col = indices[0] if indices[0] < skip_index else indices[0] - 1\n",
    "model, accuracy = train_nested_if_else(X_subset, y_rain,\n",
    "                                       split_col=split_col,\n",
    "                                       feature_names=name_subset)\n",
    "print(model)\n",
    "print(f\"\\nThis statement is {100 * accuracy:.0f}% accurate.\")"
   ]
  },
  {
   "cell_type": "markdown",
   "metadata": {},
   "source": [
    "Our trained model is frivolously simple. Its also only 74% accurate. That accuracy is not disastrous, but we can definitely do better. Ignoring the _Rainy_ feature has limited our predictive capacity. We must incorporate all three features in order to raise the accuracy score. We must incorporate all three features in order to raise the accuracy score.  We can by incorporate all three features thusly:\n",
    "\n",
    "1. First, we’ll split on the feature with the lowest Gini Impurity.\n",
    "2. Next, we’ll train two nested models, using the `train_nested_if_else` function.\n",
    "3. Finally, we'll combine both _Model A_ and _Model B_ into a single coherent classifier.\n",
    "\n",
    "Lets start by splitting on the _Autumn_ feature.\n",
    "\n",
    "**Listing 22. 38. Splitting on the the feature with the lowest Impurity**"
   ]
  },
  {
   "cell_type": "code",
   "execution_count": 36,
   "metadata": {},
   "outputs": [],
   "source": [
    "X_a, X_b, y_a, y_b = split(X_rain, y_rain, feature_col=indices[0])"
   ]
  },
  {
   "cell_type": "markdown",
   "metadata": {},
   "source": [
    "Next, lets train a nested model on `(X_a, y_a)`. This training set contains all of our non-autumn observations.\n",
    "\n",
    "**Listing 22. 39. Training a model when the season is not autumn**"
   ]
  },
  {
   "cell_type": "code",
   "execution_count": 37,
   "metadata": {},
   "outputs": [
    {
     "name": "stdout",
     "output_type": "stream",
     "text": [
      "If it is not autumn, then the following nested model is 88% accurate.\n",
      "\n",
      "if is_cloudy == 0:\n",
      "    prediction = 0\n",
      "else:\n",
      "    if rained_today == 0:\n",
      "        prediction = 0\n",
      "    else:\n",
      "        prediction = 1\n"
     ]
    }
   ],
   "source": [
    "name_subset = np.delete(feature_names, indices[0])\n",
    "split_col = sort_feature_indices(X_a, y_a)[0]\n",
    "model_a, accuracy_a = train_nested_if_else(X_a, y_a, \n",
    "                                           split_col=split_col,\n",
    "                                           feature_names=name_subset) \n",
    "print(\"If it is not autumn, then the following nested model is \"\n",
    "      f\"{100 * accuracy_a:.0f}% accurate.\\n\\n{model_a}\")"
   ]
  },
  {
   "cell_type": "markdown",
   "metadata": {},
   "source": [
    "Now, we will train a second `model_b` based on the autumn observations stored within `(X_b, y_b)`.\n",
    "\n",
    "**Listing 22. 40. Training a model when the season is autumn**"
   ]
  },
  {
   "cell_type": "code",
   "execution_count": 38,
   "metadata": {},
   "outputs": [
    {
     "name": "stdout",
     "output_type": "stream",
     "text": [
      "If it is autumn, then the following nested model is 79% accurate.\n",
      "\n",
      "if is_cloudy == 0:\n",
      "    prediction = 0\n",
      "else:\n",
      "    if rained_today == 0:\n",
      "        prediction = 0\n",
      "    else:\n",
      "        prediction = 1\n"
     ]
    }
   ],
   "source": [
    "split_col = sort_feature_indices(X_b, y_b)[0]\n",
    "model_b, accuracy_b = train_nested_if_else(X_b, y_b, \n",
    "                                           split_col=split_col,\n",
    "                                           feature_names=name_subset)\n",
    "print(\"If it is autumn, then the following nested model is \"\n",
    "      f\"{100 * accuracy_b:.0f}% accurate.\\n\\n{model_b}\")"
   ]
  },
  {
   "cell_type": "markdown",
   "metadata": {},
   "source": [
    "Lets combine our models into a single nested statement.\n",
    "\n",
    "**Listing 22. 41. Combining the models into a nested statement**"
   ]
  },
  {
   "cell_type": "code",
   "execution_count": 39,
   "metadata": {},
   "outputs": [
    {
     "name": "stdout",
     "output_type": "stream",
     "text": [
      "if is_fall == 0:\n",
      "    if is_cloudy == 0:\n",
      "        prediction = 0\n",
      "    else:\n",
      "        if rained_today == 0:\n",
      "            prediction = 0\n",
      "        else:\n",
      "            prediction = 1\n",
      "else:\n",
      "    if is_cloudy == 0:\n",
      "        prediction = 0\n",
      "    else:\n",
      "        if rained_today == 0:\n",
      "            prediction = 0\n",
      "        else:\n",
      "            prediction = 1\n",
      "\n",
      "This statement is 85% accurate.\n"
     ]
    }
   ],
   "source": [
    "nested_model = combine_if_else(model_a, model_b, \n",
    "                               feature_names[indices[0]])\n",
    "print(nested_model)\n",
    "accuracies = [accuracy_a, accuracy_b]\n",
    "accuracy = np.average(accuracies, weights=[y_a.size, y_b.size])\n",
    "print(f\"\\nThis statement is {100 * accuracy:.0f}% accurate.\")"
   ]
  },
  {
   "cell_type": "markdown",
   "metadata": {},
   "source": [
    "We were able to generate a nested three-feature model. That process was very similar to how we trained a nested two-feature model. In this manner, we can extend our logic to train an arbitrary _N_ feature model.\n",
    "\n",
    "**Listing 22. 42. Training a nested model with N features**"
   ]
  },
  {
   "cell_type": "code",
   "execution_count": 40,
   "metadata": {},
   "outputs": [
    {
     "name": "stdout",
     "output_type": "stream",
     "text": [
      "if is_fall == 0:\n",
      "    if is_cloudy == 0:\n",
      "        prediction = 0\n",
      "    else:\n",
      "        if rained_today == 0:\n",
      "            prediction = 0\n",
      "        else:\n",
      "            prediction = 1\n",
      "else:\n",
      "    if is_cloudy == 0:\n",
      "        prediction = 0\n",
      "    else:\n",
      "        if rained_today == 0:\n",
      "            prediction = 0\n",
      "        else:\n",
      "            prediction = 1\n",
      "\n",
      "This statement is 85% accurate.\n"
     ]
    }
   ],
   "source": [
    "def train(X, y, feature_names):\n",
    "    if X.shape[1] == 1:\n",
    "        return train_if_else(X, y, feature_name=feature_names[0])\n",
    "    \n",
    "    indices = sort_feature_indices(X, y)\n",
    "    X_subset = np.delete(X, indices[-1], axis=1)\n",
    "    name_subset = np.delete(feature_names, indices[-1])\n",
    "    simple_model, simple_accuracy = train(X_subset, y, name_subset) \n",
    "    if simple_accuracy == 1.0:\n",
    "        return (simple_model, simple_accuracy)\n",
    "   \n",
    "    split_col = indices[0]\n",
    "    name_subset = np.delete(feature_names, split_col)\n",
    "    X_a, X_b, y_a, y_b = split(X, y, feature_col=split_col)\n",
    "    model_a, accuracy_a = train(X_a, y_a, name_subset)\n",
    "    model_b, accuracy_b = train(X_b, y_b, name_subset)\n",
    "    accuracies = [accuracy_a, accuracy_b]\n",
    "    total_accuracy = np.average(accuracies, weights=[y_a.size, y_b.size])\n",
    "    nested_model = combine_if_else(model_a, model_b, feature_names[split_col]) \n",
    "    if total_accuracy > simple_accuracy:\n",
    "        return (nested_model, total_accuracy)\n",
    "    \n",
    "    return (simple_model, simple_accuracy)\n",
    "\n",
    "\n",
    "model, accuracy = train(X_rain, y_rain, feature_names)\n",
    "print(model)\n",
    "print(f\"\\nThis statement is {100 * accuracy:.0f}% accurate.\")"
   ]
  },
  {
   "cell_type": "markdown",
   "metadata": {},
   "source": [
    "The branching if/else statements in our trained output resemble the branches of a tree. Consequently, trained if/else conditional classifiers are referred to as **Decision tree classifiers**. Scikit-Learn includes a highly-optimized Decision tree implementation.\n",
    "\n",
    "## Training Decision Tree Classifiers Using Scikit-Learn\n",
    "\n",
    "In Scikit-Learn, Decision tree classification is carried out by the `DecisionTreeClassifier` class.\n",
    "\n",
    "**Listing 22. 43. Importing Scikit-Learn’s `DecisionTreeClassifier` class**"
   ]
  },
  {
   "cell_type": "code",
   "execution_count": 41,
   "metadata": {},
   "outputs": [],
   "source": [
    "from sklearn.tree import DecisionTreeClassifier"
   ]
  },
  {
   "cell_type": "markdown",
   "metadata": {},
   "source": [
    "Next, we'll initialize the class as `clf`. Afterwards, we'll train `clf` on the two-bulb system introduced at the beginning of the section. "
   ]
  },
  {
   "cell_type": "code",
   "execution_count": 42,
   "metadata": {},
   "outputs": [
    {
     "data": {
      "text/plain": [
       "DecisionTreeClassifier()"
      ]
     },
     "execution_count": 42,
     "metadata": {},
     "output_type": "execute_result"
    }
   ],
   "source": [
    "clf = DecisionTreeClassifier()\n",
    "clf.fit(X, y)"
   ]
  },
  {
   "cell_type": "markdown",
   "metadata": {},
   "source": [
    "We can visualize the trained classifier using a Decision tree diagram. Scikit-Learn includes a `plot_tree` function, which leverages Matplotlib in order to carry out that visualization.\n",
    "\n",
    "**Listing 22. 45. Displaying a trained Decision tree classifier**"
   ]
  },
  {
   "cell_type": "code",
   "execution_count": 43,
   "metadata": {},
   "outputs": [
    {
     "data": {
      "image/png": "[encoded data removed]",
      "text/plain": [
       "<Figure size 432x288 with 1 Axes>"
      ]
     },
     "metadata": {
      "needs_background": "light"
     },
     "output_type": "display_data"
    }
   ],
   "source": [
    "from sklearn.tree import plot_tree\n",
    "feature_names = ['Switch0', 'Switch1']\n",
    "class_names = ['Off', 'On']\n",
    "plot_tree(clf, feature_names=feature_names, class_names=class_names)\n",
    "plt.show()"
   ]
  },
  {
   "cell_type": "markdown",
   "metadata": {},
   "source": [
    "Scikit-Learn provides an alternative visualization function. The `export_text` function allows us to display the tree using a simpler, more compact, text-based diagram.\n",
    "\n",
    "**Listing 22. 46. Displaying a Decision tree classifier as a string**"
   ]
  },
  {
   "cell_type": "code",
   "execution_count": 44,
   "metadata": {},
   "outputs": [
    {
     "name": "stdout",
     "output_type": "stream",
     "text": [
      "|--- Switch0 <= 0.50\n",
      "|   |--- Switch1 <= 0.50\n",
      "|   |   |--- class: 0\n",
      "|   |--- Switch1 >  0.50\n",
      "|   |   |--- class: 1\n",
      "|--- Switch0 >  0.50\n",
      "|   |--- Switch1 <= 0.50\n",
      "|   |   |--- class: 1\n",
      "|   |--- Switch1 >  0.50\n",
      "|   |   |--- class: 0\n",
      "\n"
     ]
    }
   ],
   "source": [
    "from sklearn.tree import export_text\n",
    "text_tree = export_text(clf, feature_names=feature_names)\n",
    "print(text_tree)"
   ]
  },
  {
   "cell_type": "markdown",
   "metadata": {},
   "source": [
    "Thus far, all of our features have been Booleans. However, in most real-world problems, the features are numeric. Fortunately, any numerical feature can be transformed into a Boolean feature. We simply need to run `feature >= thresh`, where `thresh` is some numeric threshold. In Scikit-Learn, Decision trees scan for this threshold automatically. That is why they split on inequalities.\n",
    "\n",
    "How should we select the optimal threshold for splitting a numeric feature? Well, we simply choose the threshold that minimizes the Gini Impurity.\n",
    "\n",
    "**Listing 22. 47. Choosing a threshold by minimizing the Gini Impurity**"
   ]
  },
  {
   "cell_type": "code",
   "execution_count": 45,
   "metadata": {},
   "outputs": [
    {
     "name": "stdout",
     "output_type": "stream",
     "text": [
      "Impurity is minimized at a threshold of 0.70\n"
     ]
    },
    {
     "data": {
      "image/png": "[encoded data removed]",
      "text/plain": [
       "<Figure size 432x288 with 1 Axes>"
      ]
     },
     "metadata": {
      "needs_background": "light"
     },
     "output_type": "display_data"
    }
   ],
   "source": [
    "np.random.seed(1)\n",
    "feature = np.random.normal(size=1000)\n",
    "y = (feature >= 0.7).astype(int)\n",
    "thresholds = np.arange(0.0, 1, 0.001) \n",
    "gini_impurities = []\n",
    "for thresh in thresholds:\n",
    "    y_a = y[feature <= thresh]\n",
    "    y_b = y[feature >= thresh]\n",
    "    impurity = compute_impurity(y_a, y_b)\n",
    "    gini_impurities.append(impurity)\n",
    "\n",
    "best_thresh = thresholds[np.argmin(gini_impurities)]\n",
    "print(f\"Impurity is minimized at a threshold of {best_thresh:.02f}\")\n",
    "plt.plot(thresholds, gini_impurities)\n",
    "plt.axvline(best_thresh, c='k', linestyle='--')\n",
    "plt.xlabel('Threshold')\n",
    "plt.ylabel('Impurity')\n",
    "plt.show()"
   ]
  },
  {
   "cell_type": "markdown",
   "metadata": {},
   "source": [
    "Scikit-Learn's Decision tree classifier can derive conditional logic from numeric data. Lets now train `clf` on the numeric wine data that we've introduced in the previous section.\n",
    "\n",
    "**Listing 22. 48. Training a Decision tree on numeric data**"
   ]
  },
  {
   "cell_type": "code",
   "execution_count": 46,
   "metadata": {},
   "outputs": [
    {
     "ename": "NameError",
     "evalue": "name 'tree' is not defined",
     "output_type": "error",
     "traceback": [
      "\u001b[0;31m---------------------------------------------------------------------------\u001b[0m",
      "\u001b[0;31mNameError\u001b[0m                                 Traceback (most recent call last)",
      "\u001b[0;32m<ipython-input-46-707fcc53d7ce>\u001b[0m in \u001b[0;36m<module>\u001b[0;34m\u001b[0m\n\u001b[1;32m      3\u001b[0m \u001b[0mclf\u001b[0m\u001b[0;34m.\u001b[0m\u001b[0mfit\u001b[0m\u001b[0;34m(\u001b[0m\u001b[0mX\u001b[0m\u001b[0;34m,\u001b[0m \u001b[0my\u001b[0m\u001b[0;34m)\u001b[0m\u001b[0;34m\u001b[0m\u001b[0;34m\u001b[0m\u001b[0m\n\u001b[1;32m      4\u001b[0m \u001b[0mfeature_names\u001b[0m \u001b[0;34m=\u001b[0m \u001b[0mload_wine\u001b[0m\u001b[0;34m(\u001b[0m\u001b[0;34m)\u001b[0m\u001b[0;34m.\u001b[0m\u001b[0mfeature_names\u001b[0m\u001b[0;34m\u001b[0m\u001b[0;34m\u001b[0m\u001b[0m\n\u001b[0;32m----> 5\u001b[0;31m \u001b[0mtext_tree\u001b[0m \u001b[0;34m=\u001b[0m \u001b[0mtree\u001b[0m\u001b[0;34m.\u001b[0m\u001b[0mexport_text\u001b[0m\u001b[0;34m(\u001b[0m\u001b[0mclf\u001b[0m\u001b[0;34m,\u001b[0m \u001b[0mfeature_names\u001b[0m\u001b[0;34m=\u001b[0m\u001b[0mfeature_names\u001b[0m\u001b[0;34m)\u001b[0m\u001b[0;34m\u001b[0m\u001b[0;34m\u001b[0m\u001b[0m\n\u001b[0m\u001b[1;32m      6\u001b[0m \u001b[0mprint\u001b[0m\u001b[0;34m(\u001b[0m\u001b[0mtext_tree\u001b[0m\u001b[0;34m)\u001b[0m\u001b[0;34m\u001b[0m\u001b[0;34m\u001b[0m\u001b[0m\n",
      "\u001b[0;31mNameError\u001b[0m: name 'tree' is not defined"
     ]
    }
   ],
   "source": [
    "from sklearn.datasets import load_wine\n",
    "X, y = load_wine(return_X_y=True)\n",
    "clf.fit(X, y)\n",
    "feature_names = load_wine().feature_names\n",
    "text_tree = tree.export_text(clf, feature_names=feature_names)\n",
    "print(text_tree)"
   ]
  },
  {
   "cell_type": "markdown",
   "metadata": {},
   "source": [
    "The printed is large because it is **deep**. In machine learning, tree **depth** equals the number of nested if/else statements required to capture the logic within the tree. In Scikit-Learn, we can limit the depth of a trained tree using the `max_depth` hyperparameter.\n",
    "\n",
    "**Listing 22. 49. Training a tree with limited depth**"
   ]
  },
  {
   "cell_type": "code",
   "execution_count": null,
   "metadata": {},
   "outputs": [],
   "source": [
    "clf = DecisionTreeClassifier(max_depth=2)\n",
    "clf.fit(X, y)\n",
    "text_tree = tree.export_text(clf, feature_names=feature_names)\n",
    "print(text_tree)"
   ]
  },
  {
   "cell_type": "markdown",
   "metadata": {},
   "source": [
    "The depth at which a feature appears within the tree is an indicator of its relative importance. That depth is determined by the Gini Impurity. Hence, the Gini Impurity can be leveraged to compute an importance score. The importance scores across all features are stored within the `feature_importances_` attribute.\n",
    "\n",
    "**Listing 22. 50. Printing the feature importances**"
   ]
  },
  {
   "cell_type": "code",
   "execution_count": null,
   "metadata": {},
   "outputs": [],
   "source": [
    "print(clf.feature_importances_)"
   ]
  },
  {
   "cell_type": "markdown",
   "metadata": {},
   "source": [
    "Most of the features receive a score of `0` because they are not represented in the trained tree. Lets rank the remaining features based on their importance score.\n",
    "\n",
    "**Listing 22. 51. Ranking relevant features by importance**"
   ]
  },
  {
   "cell_type": "code",
   "execution_count": null,
   "metadata": {},
   "outputs": [],
   "source": [
    "for i in np.argsort(clf.feature_importances_)[::-1]:\n",
    "    feature = feature_names[i]\n",
    "    importance = clf.feature_importances_[i]\n",
    "    if importance == 0:\n",
    "        break\n",
    "    \n",
    "    print(f\"'{feature}' has an importance score of {importance:0.2f}\")"
   ]
  },
  {
   "cell_type": "markdown",
   "metadata": {},
   "source": [
    "Tree-based feature ranking can help draw meaningful insights from our data. We'll emphasize this point by exploring the serious problem of cancer diagnosis.\n",
    "\n",
    "### Studying Cancerous Cells Using Feature Importance"
   ]
  },
  {
   "cell_type": "markdown",
   "metadata": {},
   "source": [
    "Scikit-Learn includes a cancer-cell dataset. Below, we'll import that data from `sklearn.datasets`.\n",
    "\n",
    "**Listing 22. 52. Importing Scikit-Learn’s cancer-cell dataset**"
   ]
  },
  {
   "cell_type": "code",
   "execution_count": null,
   "metadata": {},
   "outputs": [],
   "source": [
    "from sklearn.datasets import load_breast_cancer\n",
    "\n",
    "data = load_breast_cancer()\n",
    "feature_names = data.feature_names\n",
    "num_features = len(feature_names)\n",
    "num_classes = len(data.target_names)\n",
    "print(f\"The cancer dataset contains the following {num_classes} classes:\")\n",
    "print(data.target_names)\n",
    "print(f\"\\nIt contains these {num_features} features:\")\n",
    "print(feature_names)"
   ]
  },
  {
   "cell_type": "markdown",
   "metadata": {},
   "source": [
    "The dataset contains 30 different features. Lets rank these features by importance.\n",
    "\n",
    "**Listing 22. 53. Ranking tumor features by importance**"
   ]
  },
  {
   "cell_type": "code",
   "execution_count": null,
   "metadata": {},
   "outputs": [],
   "source": [
    "X, y = load_breast_cancer(return_X_y=True)\n",
    "clf = DecisionTreeClassifier()\n",
    "clf.fit(X, y)\n",
    "for i in np.argsort(clf.feature_importances_)[::-1]:\n",
    "    feature = feature_names[i]\n",
    "    importance = clf.feature_importances_[i]\n",
    "    if round(importance, 2) == 0:\n",
    "        break\n",
    "    print(f\"'{feature}' has an importance score of {importance:0.2f}\")"
   ]
  },
  {
   "cell_type": "markdown",
   "metadata": {},
   "source": [
    "Among the top-ranking features, _worst radius_ particularly stands out. Its high score suggests that the radius of the largest cell is an extremely important indicator of cancer. We can check this hypothesis by plotting histograms of the _worst radius_ measurements across the two classes.\n",
    "\n",
    "**Listing 22. 54. Plotting two _worst radius_ histograms**"
   ]
  },
  {
   "cell_type": "code",
   "execution_count": null,
   "metadata": {},
   "outputs": [],
   "source": [
    "index = clf.feature_importances_.argmax()\n",
    "plt.hist(X[y == 0][:, index], label='Malignant', bins='auto')\n",
    "plt.hist(X[y == 1][:, index], label='Benign', color='y', bins='auto',\n",
    "         alpha=0.5)\n",
    "plt.xlabel('Worst Radius')\n",
    "plt.legend()\n",
    "plt.show()"
   ]
  },
  {
   "cell_type": "markdown",
   "metadata": {},
   "source": [
    "The histogram reveals an enormous separation between malignant and benign worst-radius measurements. By training a Decision tree, we gained insights into medicine and biology.\n",
    "\n",
    "## Decision Tree Classifier Limitations\n",
    "\n",
    "Over-memorization limits the usefulness of our trained models. This is referred to as **overfitting**. Decision tree classifiers are particularly prone to overfitting, since they are able to memorize the training data. For instance, our cancer detector `clf` has perfectly memorized the training set `(X, y)`. We can confirm by outputting the accuracy with which `clf.predict(X)` corresponds to `y`.\n",
    "\n",
    "**Listing 22. 55. Checking the accuracy of the cancer cell model**"
   ]
  },
  {
   "cell_type": "code",
   "execution_count": null,
   "metadata": {},
   "outputs": [],
   "source": [
    "from sklearn.metrics import accuracy_score\n",
    "accuracy = accuracy_score(clf.predict(X), y)\n",
    "print(\"Our classifier has memorized the training data with \"\n",
    "      f\"{100 * accuracy:.0f}% accuracy.\")"
   ]
  },
  {
   "cell_type": "markdown",
   "metadata": {},
   "source": [
    "The classifier can identify any training example with 100% accuracy. However, this does not mean it can generalize well to real-world data. We can better gage the the classifier's true accuracy using cross-validation.\n",
    "\n",
    "**Listing 22. 56. Checking model accuracy with cross-validation**"
   ]
  },
  {
   "cell_type": "code",
   "execution_count": null,
   "metadata": {},
   "outputs": [],
   "source": [
    "np.random.seed(0)\n",
    "from sklearn.model_selection import train_test_split\n",
    "X_train, X_test, y_train, y_test = train_test_split(X, y, )\n",
    "clf = DecisionTreeClassifier()\n",
    "clf.fit(X_train, y_train)\n",
    "accuracy = accuracy_score(clf.predict(X_test), y_test)\n",
    "print(f\"The classifier performs with {100 * accuracy:.0f}% accuracy on \"\n",
    "       \"the validation set.\")"
   ]
  },
  {
   "cell_type": "markdown",
   "metadata": {},
   "source": [
    "The classifier's true accuracy is at 90%. That accuracy is decent, but we can definitely do better.\n",
    "\n",
    "## Improving Performance using Random Forest Classification\n",
    "\n",
    "Sometimes, an the aggregated viewpoint of a crowd outperforms all individual predictions. This aggregated triumph of collective intelligence is called the wisdom of the crowd. Lets explore the wisdom of the crowd by initializing 100 Decision trees. A large collections of trees is referred to as a **forest**. \n",
    "\n",
    "**Listing 22. 57. Initializing a 100-tree forest**"
   ]
  },
  {
   "cell_type": "code",
   "execution_count": null,
   "metadata": {},
   "outputs": [],
   "source": [
    "forest = [DecisionTreeClassifier() for _ in range(100)]"
   ]
  },
  {
   "cell_type": "markdown",
   "metadata": {},
   "source": [
    "How should we train the trees within the forest? Naively, we could train each individual tree on our cancer training set `(X_train, y_train)`. However, we would end up with 100 trees that memorized the exact same data. Instead, we need to randomize our training data, in order to make the trained trees more diverse. We can do this using Bootstrapping with Replacement, as described in Section Seven.\n",
    "\n",
    "**Listing 22. 58. Randomly sampling a new training set**"
   ]
  },
  {
   "cell_type": "code",
   "execution_count": null,
   "metadata": {},
   "outputs": [],
   "source": [
    "np.random.seed(1)\n",
    "def bootstrap(X, y): \n",
    "    num_rows = X.shape[0]\n",
    "    indices = np.random.choice(range(num_rows), size=num_rows, \n",
    "                               replace=True)\n",
    "    X_new, y_new = X[indices], y[indices]\n",
    "    return X_new, y_new\n",
    "    \n",
    "X_train_new, y_train_new = bootstrap(X_train, y_train) \n",
    "assert X_train.shape == X_train_new.shape\n",
    "assert y_train.size == y_train_new.size\n",
    "assert not np.array_equal(X_train, X_train_new)\n",
    "assert not np.array_equal(y_train, y_train_new)"
   ]
  },
  {
   "cell_type": "markdown",
   "metadata": {},
   "source": [
    "Now, lets run our `bootstrap` function 100 times in order to generate 100 different training sets.\n",
    "\n",
    "**Listing 22. 59. Randomly sampling 100 new training sets**"
   ]
  },
  {
   "cell_type": "code",
   "execution_count": null,
   "metadata": {},
   "outputs": [],
   "source": [
    "np.random.seed(1)\n",
    "features_train, classes_train = [], []\n",
    "for _ in range(100):\n",
    "    X_train_new, y_train_new = bootstrap(X_train, y_train)\n",
    "    features_train.append(X_train_new)\n",
    "    classes_train.append(y_train_new)"
   ]
  },
  {
   "cell_type": "markdown",
   "metadata": {},
   "source": [
    "Across our hundred training sets, the data may be different but all the features are the same. However, we can increase the overall diversity by randomizing the features in `features_train`.\n",
    "\n",
    "**Listing 22. 60. Randomly sampling the training features**"
   ]
  },
  {
   "cell_type": "code",
   "execution_count": null,
   "metadata": {},
   "outputs": [],
   "source": [
    "np.random.seed(1)\n",
    "sample_size = int(X.shape[1] ** 0.5)\n",
    "assert sample_size == 5\n",
    "feature_indices = [np.random.choice(range(30), 5, replace=False)\n",
    "                   for _ in range(100)]\n",
    "\n",
    "for i, index_subset in enumerate(feature_indices):\n",
    "    features_train[i] = features_train[i][:, index_subset]\n",
    "    \n",
    "for index in [0, 99]:\n",
    "    index_subset = feature_indices[index]\n",
    "    names = feature_names[index_subset]\n",
    "    print(f\"\\nRandom features utilized by Tree {index}:\")\n",
    "    print(names)"
   ]
  },
  {
   "cell_type": "markdown",
   "metadata": {},
   "source": [
    "Lets train each _ith_ tree within `forest` on training set `(features_train[i], classes_train[i])`.\n",
    "\n",
    "**Listing 22. 61. Training the trees within the forest**"
   ]
  },
  {
   "cell_type": "code",
   "execution_count": null,
   "metadata": {},
   "outputs": [],
   "source": [
    "for i, clf_tree in enumerate(forest):\n",
    "    clf_tree.fit(features_train[i], classes_train[i])"
   ]
  },
  {
   "cell_type": "markdown",
   "metadata": {},
   "source": [
    "We've trained every tree within the forest. Now, lets put the trained trees to a vote. What is the class-label of the data-point at `X_test[0]`? We can check using the wisdom of the crowd.\n",
    "\n",
    "**Listing 22. 62. Using tree-voting to classify a data-point**"
   ]
  },
  {
   "cell_type": "code",
   "execution_count": null,
   "metadata": {},
   "outputs": [],
   "source": [
    "from collections import Counter\n",
    "feature_vector = X_test[0]\n",
    "votes = []\n",
    "for i, clf_tree in enumerate(forest):\n",
    "    index_subset = feature_indices[i]\n",
    "    vector_subset = feature_vector[index_subset]\n",
    "    prediction = clf_tree.predict([vector_subset])[0] \n",
    "    votes.append(prediction)\n",
    "\n",
    "class_to_votes = Counter(votes)\n",
    "for class_label, votes in class_to_votes.items():\n",
    "    print(f\"We counted {votes} votes for class {class_label}.\")\n",
    "    \n",
    "top_class = max(class_to_votes.items(), key=lambda x: x[1])[0]\n",
    "print(f\"\\nClass {top_class} has received the plurality of the votes.\")"
   ]
  },
  {
   "cell_type": "markdown",
   "metadata": {},
   "source": [
    "93% of the trees have voted for Class 0. Lets check if this majority vote is correct.\n",
    "\n",
    "**Listing 22. 63. Checking the true class of the predicted label**"
   ]
  },
  {
   "cell_type": "code",
   "execution_count": null,
   "metadata": {},
   "outputs": [],
   "source": [
    "true_label = y_test[0]\n",
    "print(f\"The true class of the data-point is {true_label}.\")"
   ]
  },
  {
   "cell_type": "markdown",
   "metadata": {},
   "source": [
    "The forest has identified the point at `X_test[0]`. Now, we will use voting to identify all points in the validation set. Afterwards, we'll measure our prediction accuracy.\n",
    "\n",
    "**Listing 22. 64. Measuring the accuracy of the forest model**"
   ]
  },
  {
   "cell_type": "code",
   "execution_count": null,
   "metadata": {},
   "outputs": [],
   "source": [
    "predictions = []\n",
    "for i, clf_tree in enumerate(forest):\n",
    "    index_subset = feature_indices[i]\n",
    "    prediction = clf_tree.predict(X_test[:,index_subset])\n",
    "    predictions.append(prediction)\n",
    "\n",
    "predictions = np.array(predictions)\n",
    "y_pred = [Counter(predictions[:,i]).most_common()[0][0]\n",
    "          for i in range(y_test.size)]\n",
    "accuracy = accuracy_score(y_pred, y_test)\n",
    "print(\"The forest has predicted the validation outputs with \"\n",
    "      f\"{100 * accuracy:.0f}% accuracy\")"
   ]
  },
  {
   "cell_type": "markdown",
   "metadata": {},
   "source": [
    "y leveraging the wisdom of the crowd, we have managed to improve performance. In the process, we have also trained a **Random Forest classifier**. Random Forest classifiers are collections of trees whose training inputs are randomized to maximize diversity.\n",
    "\n",
    "## Training Random Forest Classifiers Using Scikit-Learn\n",
    "In Scikit-Learn, Random Forest classification is carried out by the `RandomForestClassifier` class. \n",
    "\n",
    "**Listing 22. 65. Training a Random Forest classifier**"
   ]
  },
  {
   "cell_type": "code",
   "execution_count": null,
   "metadata": {},
   "outputs": [],
   "source": [
    "np.random.seed(1)\n",
    "from sklearn.ensemble import RandomForestClassifier\n",
    "clf_forest = RandomForestClassifier()\n",
    "clf_forest.fit(X_train, y_train)\n",
    "y_pred = clf_forest.predict(X_test)\n",
    "accuracy = accuracy_score(y_pred, y_test)\n",
    "print(\"The forest has predicted the validation outputs with \"\n",
    "      f\"{100 * accuracy:.0f}% accuracy\")"
   ]
  },
  {
   "cell_type": "markdown",
   "metadata": {},
   "source": [
    "By default, Scikit-Learn's Random Forest classifier utilizes 100 decision trees. However, we can specify a lower or higher count using the `n_estimators` parameter. Below, we'll lower the number of trees to 10.\n",
    "\n",
    "**Listing 22. 66. Training a 10-tree Random Forest classifier**"
   ]
  },
  {
   "cell_type": "code",
   "execution_count": null,
   "metadata": {},
   "outputs": [],
   "source": [
    "np.random.seed(1)\n",
    "clf_forest = RandomForestClassifier(n_estimators=10)\n",
    "clf_forest.fit(X_train, y_train)\n",
    "y_pred = clf_forest.predict(X_test)\n",
    "accuracy = accuracy_score(y_pred, y_test)\n",
    "print(\"The 10-tree forest has predicted the validation outputs with \"\n",
    "      f\"{100 * accuracy:.0f}% accuracy\")"
   ]
  },
  {
   "cell_type": "markdown",
   "metadata": {},
   "source": [
    "Each of the 10 trees is assigned a random subset of five features. Every feature in the subset contains its own feature importance score. Scikit-Learn is able to average all these scores across all the trees. The aggregated averages can be accessed by calling `clf_forest.feature_importances_`. \n",
    "\n",
    "**Listing 22. 67. Ranking the Random Forest features**"
   ]
  },
  {
   "cell_type": "code",
   "execution_count": null,
   "metadata": {},
   "outputs": [],
   "source": [
    "for i in np.argsort(clf_forest.feature_importances_)[::-1][:3]:\n",
    "    feature = feature_names[i]\n",
    "    importance = clf_forest.feature_importances_[i]\n",
    "    print(f\"'{feature}' has an importance score of {importance:0.2f}\")"
   ]
  }
 ],
 "metadata": {
  "kernelspec": {
   "display_name": "Python 3",
   "language": "python",
   "name": "python3"
  },
  "language_info": {
   "codemirror_mode": {
    "name": "ipython",
    "version": 3
   },
   "file_extension": ".py",
   "mimetype": "text/x-python",
   "name": "python",
   "nbconvert_exporter": "python",
   "pygments_lexer": "ipython3",
   "version": "3.7.3"
  }
 },
 "nbformat": 4,
 "nbformat_minor": 2
}
