{
 "cells": [
  {
   "cell_type": "code",
   "execution_count": 11,
   "metadata": {},
   "outputs": [],
   "source": [
    "from math import ceil, floor, pow\n",
    "import numpy as np"
   ]
  },
  {
   "cell_type": "code",
   "execution_count": 25,
   "metadata": {},
   "outputs": [],
   "source": [
    "def Round_off(N, n):\n",
    "    b = N\n",
    "    c = floor(N)\n",
    "    i = 0;\n",
    "    while(b >= 1):\n",
    "        b = b / 10\n",
    "        i = i + 1\n",
    "    d = n - i\n",
    "    b = N\n",
    "    b = b * pow(10, d)\n",
    "    e = b + 0.5\n",
    "    if (float(e) == float(ceil(b))):\n",
    "        f = (ceil(b))\n",
    "        h = f - 2\n",
    "        if (h % 2 != 0):\n",
    "            e = e - 1\n",
    "    j = floor(e)\n",
    "    m = pow(10, d)\n",
    "    j = j / m\n",
    "    return j"
   ]
  },
  {
   "cell_type": "code",
   "execution_count": 13,
   "metadata": {},
   "outputs": [],
   "source": [
    "def Gauss_Elimination_With_Pivoting(Augumented_matrix,significant_digits):\n",
    "    num_rows, num_cols = Augumented_matrix.shape\n",
    "    solution=np.arange(num_rows)\n",
    "    solution.fill(0)\n",
    "    solution=np.array((solution),dtype=float)\n",
    "    intermediate_matrix= Augumented_matrix.copy()\n",
    "    \n",
    "#Forward Elimination Begins Below\n",
    "    for k in range(num_rows-1):\n",
    "        m=k\n",
    "        for j in range(k+1,num_rows):\n",
    "            if(abs(Augumented_matrix[m][k])<abs(Augumented_matrix[j][k])):\n",
    "                m=j\n",
    "        if Augumented_matrix[m][k]==0:\n",
    "            print(\"No Unique Solution Exists\")\n",
    "            exit()\n",
    "        else:\n",
    "            Augumented_matrix[[m,k]]=Augumented_matrix[[k,m]]\n",
    "    \n",
    "        if Augumented_matrix[num_rows-1][num_rows-1]==0:\n",
    "            print(\"No Unique Solution Exists\")\n",
    "            exit()\n",
    "        else:\n",
    "            for j in range(k+1,num_rows):\n",
    "                q=Round_off(Augumented_matrix[j][k]/Augumented_matrix[k][k],significant_digits)\n",
    "                Augumented_matrix[j][k]=0\n",
    "                for p in range(k+1,num_cols):\n",
    "                    Augumented_matrix[j][p]=Round_off(Augumented_matrix[j][p] - (q * Augumented_matrix[k][p]),significant_digits)\n",
    "#Forward Elimination Ends above\n",
    "\n",
    "\n",
    "\n",
    "#backward Subsitution Begins Below \n",
    "    solution[num_rows-1]=Augumented_matrix[num_rows-1][num_cols-1]/Augumented_matrix[num_rows-1][num_rows-1]\n",
    "    for i in range(num_rows-2,-1,-1):\n",
    "        z=0\n",
    "        for j in range(i+1,num_rows):\n",
    "            y=Round_off(Augumented_matrix[i][j]*solution[j],significant_digits)\n",
    "            z=Round_off(z+y,significant_digits)\n",
    "        solution[i]=(Augumented_matrix[i][num_cols-1]-z)/Augumented_matrix[i][i]\n",
    "#backward Subsitution Ends above\n",
    "\n",
    "\n",
    "    print(\"The solution with partial pivoting is \", solution)\n",
    "    Augumented_matrix= intermediate_matrix.copy()"
   ]
  },
  {
   "cell_type": "code",
   "execution_count": 14,
   "metadata": {},
   "outputs": [],
   "source": [
    "def Gauss_Elimination_Without_Pivoting(Augumented_matrix,significant_digits):\n",
    "    num_rows, num_cols = Augumented_matrix.shape\n",
    "    solution=np.arange(num_rows)\n",
    "    solution.fill(0)\n",
    "    solution=np.array((solution),dtype=float)\n",
    "    intermediate_matrix= Augumented_matrix.copy()\n",
    "    \n",
    "#Forward Elimination Begins Below\n",
    "    for k in range(num_rows-1):\n",
    "        m=k\n",
    "        for j in range(k+1,num_rows):\n",
    "            if(abs(Augumented_matrix[m][k])<abs(Augumented_matrix[j][k])):\n",
    "                m=j\n",
    "        if Augumented_matrix[m][k]==0:\n",
    "            print(\"No Unique Solution Exists\")\n",
    "            exit()\n",
    "        elif Augumented_matrix[k][k]==0:\n",
    "            Augumented_matrix[[m,k]]=Augumented_matrix[[k,m]]\n",
    "  \n",
    "        if Augumented_matrix[num_rows-1][num_rows-1]==0:\n",
    "            print(\"No Unique Solution Exists\")\n",
    "            exit()\n",
    "        else:\n",
    "            for j in range(k+1,num_rows):\n",
    "                q=Round_off(Augumented_matrix[j][k]/Augumented_matrix[k][k],significant_digits)\n",
    "                Augumented_matrix[j][k]=0\n",
    "                for p in range(k+1,num_cols):\n",
    "                    Augumented_matrix[j][p]=Round_off(Augumented_matrix[j][p] - (q * Augumented_matrix[k][p]),significant_digits)\n",
    "#Forward Elimination Ends above\n",
    "\n",
    "\n",
    "\n",
    "#backward Subsitution Begins Below \n",
    "    solution[num_rows-1]=Augumented_matrix[num_rows-1][num_cols-1]/Augumented_matrix[num_rows-1][num_rows-1]\n",
    "    for i in range(num_rows-2,-1,-1):\n",
    "        z=0\n",
    "        for j in range(i+1,num_rows):\n",
    "            y=Round_off(Augumented_matrix[i][j]*solution[j],significant_digits)\n",
    "            z=Round_off(z+y,significant_digits)\n",
    "        solution[i]=(Augumented_matrix[i][num_cols-1]-z)/Augumented_matrix[i][i]\n",
    "#backward Subsitution Ends above\n",
    "\n",
    "    print(\"The solution without partial pivoting is \", solution)\n",
    "    Augumented_matrix= intermediate_matrix.copy()\n"
   ]
  },
  {
   "cell_type": "code",
   "execution_count": 15,
   "metadata": {},
   "outputs": [],
   "source": [
    "\n",
    "#Random matrix generator and Augumented matrix generator begins Below\n",
    "def random_generator(order_of_matrix):\n",
    "    LHS_Coefficients = np.random.randn(order_of_matrix,order_of_matrix)\n",
    "    RHS_Coefficients = np.random.randn(order_of_matrix,1)\n",
    "    Augumented_matrix = np.column_stack((LHS_Coefficients,RHS_Coefficients))\n",
    "    Augumented_matrix=np.array((Augumented_matrix),dtype=float)\n",
    "    print(Augumented_matrix)\n",
    "    return Augumented_matrix\n",
    "#Random matrix generator and Augumented matrix generator Ends Above\n"
   ]
  },
  {
   "cell_type": "code",
   "execution_count": 20,
   "metadata": {},
   "outputs": [
    {
     "name": "stdout",
     "output_type": "stream",
     "text": [
      "[[-2.16053905 -0.27808778 -0.82099823]\n",
      " [ 0.03978037 -1.16449369  0.13169846]]\n"
     ]
    }
   ],
   "source": [
    "Augumented_matrix=random_generator(2)"
   ]
  },
  {
   "cell_type": "code",
   "execution_count": 23,
   "metadata": {},
   "outputs": [
    {
     "name": "stdout",
     "output_type": "stream",
     "text": [
      "The solution with partial pivoting is  [ 0.3928641  -0.10008554]\n"
     ]
    }
   ],
   "source": [
    "#Augumented_matrix[0][0]=0.0004\n",
    "#Augumented_matrix[0][1]=1.402\n",
    "#Augumented_matrix[1][0]=0.4003\n",
    "#Augumented_matrix[1][1]=-1.502\n",
    "#Augumented_matrix[0][2]=1.406\n",
    "#Augumented_matrix[1][2]=2.501\n",
    "\n",
    "#Augumented_matrix[0][0]=0.18654257\n",
    "#Augumented_matrix[0][1]=-0.17774015\n",
    "#Augumented_matrix[1][0]=-0.28855266\n",
    "#Augumented_matrix[1][1]=0.47578736\n",
    "#Augumented_matrix[0][2]=-0.98182335\n",
    "#Augumented_matrix[1][2]=0.43773786\n",
    "\n",
    "#Augumented_matrix[0][0]=-0.9815\n",
    "#Augumented_matrix[0][1]=0.0661\n",
    "#Augumented_matrix[0][2]=0.3732\n",
    "#Augumented_matrix[0][3]=0.15291635\n",
    "#Augumented_matrix[1][0]=0.2709\n",
    "#Augumented_matrix[1][1]=-1.152\n",
    "#Augumented_matrix[1][2]=0.2068\n",
    "#Augumented_matrix[1][3]=0.98563742\n",
    "#Augumented_matrix[2][0]=0.3125\n",
    "#Augumented_matrix[2][1]=-0.4523\n",
    "#Augumented_matrix[2][2]=-1.2511\n",
    "#Augumented_matrix[2][3]=0.58006576\n",
    "Gauss_Elimination_With_Pivoting(Augumented_matrix,4)"
   ]
  },
  {
   "cell_type": "code",
   "execution_count": 24,
   "metadata": {},
   "outputs": [
    {
     "name": "stdout",
     "output_type": "stream",
     "text": [
      "The solution without partial pivoting is  [ 0.3928641  -0.10008554]\n"
     ]
    }
   ],
   "source": [
    "#Augumented_matrix[0][0]=0.0004\n",
    "#Augumented_matrix[0][1]=1.402\n",
    "#Augumented_matrix[1][0]=0.4003\n",
    "#Augumented_matrix[1][1]=-1.502\n",
    "#Augumented_matrix[0][2]=1.406\n",
    "#Augumented_matrix[1][2]=2.501\n",
    "Gauss_Elimination_Without_Pivoting(Augumented_matrix,4)"
   ]
  },
  {
   "cell_type": "code",
   "execution_count": 28,
   "metadata": {},
   "outputs": [
    {
     "data": {
      "text/plain": [
       "138.0"
      ]
     },
     "execution_count": 28,
     "metadata": {},
     "output_type": "execute_result"
    }
   ],
   "source": [
    "Round_off(137.77, 3)"
   ]
  },
  {
   "cell_type": "code",
   "execution_count": null,
   "metadata": {},
   "outputs": [],
   "source": []
  }
 ],
 "metadata": {
  "kernelspec": {
   "display_name": "Python 3",
   "language": "python",
   "name": "python3"
  },
  "language_info": {
   "codemirror_mode": {
    "name": "ipython",
    "version": 3
   },
   "file_extension": ".py",
   "mimetype": "text/x-python",
   "name": "python",
   "nbconvert_exporter": "python",
   "pygments_lexer": "ipython3",
   "version": "3.7.6"
  }
 },
 "nbformat": 4,
 "nbformat_minor": 4
}
