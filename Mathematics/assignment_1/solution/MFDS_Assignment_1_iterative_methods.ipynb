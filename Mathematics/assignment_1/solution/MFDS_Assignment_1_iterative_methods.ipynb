{
 "cells": [
  {
   "cell_type": "code",
   "execution_count": 55,
   "metadata": {},
   "outputs": [],
   "source": [
    "from math import ceil, floor, pow\n",
    "import numpy as np"
   ]
  },
  {
   "cell_type": "code",
   "execution_count": 56,
   "metadata": {},
   "outputs": [],
   "source": [
    "def Round_off(N, n):\n",
    "    b = N\n",
    "    c = floor(N)\n",
    "    i = 0;\n",
    "    while(b >= 1):\n",
    "        b = b / 10\n",
    "        i = i + 1\n",
    "    d = n - i\n",
    "    b = N\n",
    "    b = b * pow(10, d)\n",
    "    e = b + 0.5\n",
    "    if (float(e) == float(ceil(b))):\n",
    "        f = (ceil(b))\n",
    "        h = f - 2\n",
    "        if (h % 2 != 0):\n",
    "            e = e - 1\n",
    "    j = floor(e)\n",
    "    m = pow(10, d)\n",
    "    j = j / m\n",
    "    return j"
   ]
  },
  {
   "cell_type": "code",
   "execution_count": 57,
   "metadata": {},
   "outputs": [],
   "source": [
    "def generate_diagonal_dominant_system(order_of_matrix):\n",
    "    LHS_Coefficients = np.random.randn(order_of_matrix,order_of_matrix)\n",
    "    flag=1\n",
    "    RHS_Coefficients = np.random.randn(order_of_matrix,1)\n",
    "    num_rows, num_cols = LHS_Coefficients.shape\n",
    "    for i in range(num_rows):\n",
    "        ele=abs(LHS_Coefficients[i][i])\n",
    "        su=0\n",
    "        for j in range(num_cols):\n",
    "            if i!= j:\n",
    "                su=su+abs(LHS_Coefficients[i][j])\n",
    "        if ele <= su:\n",
    "            flag=0\n",
    "            break\n",
    "    if flag == 1:\n",
    "        return np.column_stack((LHS_Coefficients,RHS_Coefficients))\n",
    "    else:\n",
    "        flag=1\n",
    "        return generate_diagonal_dominant_system(order_of_matrix)\n"
   ]
  },
  {
   "cell_type": "code",
   "execution_count": 58,
   "metadata": {},
   "outputs": [],
   "source": [
    "def gauss_siedel(Augumented_matrix):\n",
    "    num_rows, num_cols = Augumented_matrix.shape\n",
    "    solution=np.arange(num_rows)\n",
    "    solution.fill(0)\n",
    "    newsolution=np.arange(num_rows)\n",
    "    newsolution.fill(0)\n",
    "    solution=np.array((solution),dtype=float)\n",
    "    newsolution=np.array((newsolution),dtype=float)\n",
    "    Augumented_matrix=np.array((Augumented_matrix),dtype=float)\n",
    "    intermediate_matrix= Augumented_matrix.copy()\n",
    "    \n",
    "    for i in range(num_rows):\n",
    "        Augumented_matrix[i][num_cols-1]=Round_off((Augumented_matrix[i][num_cols-1]/intermediate_matrix[i][i]),8)\n",
    "        newsolution[i]=solution[i]\n",
    "        for j in range(num_cols):\n",
    "            if j!=num_cols-1:\n",
    "                Augumented_matrix[i][j]=Round_off((Augumented_matrix[i][j]/intermediate_matrix[i][i]),8)\n",
    "    counter = 0\n",
    "    while True:\n",
    "        for i in range(num_rows):\n",
    "            solution[i]=newsolution[i]\n",
    "            #newsolution[i]=Augumented_matrix[i][num_cols-1]\n",
    "        for i in range(num_rows):\n",
    "            su=0\n",
    "            for j in range(num_cols):\n",
    "                if j!=i and j!=num_cols-1:\n",
    "                    su=su+Augumented_matrix[i][j] * newsolution[j]\n",
    "            newsolution[i]=Augumented_matrix[i][num_cols-1]-su\n",
    "            newsolution[i]=Round_off(newsolution[i],8)\n",
    "        counter=counter+1\n",
    "        print(\"**********************The values of Iteration \",counter, \" is \",newsolution)\n",
    "        if np.allclose(solution, newsolution, rtol=0.01):\n",
    "            break\n",
    "    Augumented_matrix=intermediate_matrix.copy()"
   ]
  },
  {
   "cell_type": "code",
   "execution_count": 59,
   "metadata": {},
   "outputs": [],
   "source": [
    "def gauss_jacobi(Augumented_matrix):\n",
    "    num_rows, num_cols = Augumented_matrix.shape\n",
    "    solution=np.arange(num_rows)\n",
    "    solution.fill(0)\n",
    "    newsolution=np.arange(num_rows)\n",
    "    newsolution.fill(0)\n",
    "    solution=np.array((solution),dtype=float)\n",
    "    newsolution=np.array((newsolution),dtype=float)\n",
    "    Augumented_matrix=np.array((Augumented_matrix),dtype=float)\n",
    "    intermediate_matrix= Augumented_matrix.copy()\n",
    "    \n",
    "    for i in range(num_rows):\n",
    "        Augumented_matrix[i][num_cols-1]=Round_off((Augumented_matrix[i][num_cols-1]/intermediate_matrix[i][i]),8)\n",
    "        newsolution[i]=solution[i]\n",
    "        for j in range(num_cols):\n",
    "            if j!=num_cols-1:\n",
    "                Augumented_matrix[i][j]=Round_off((Augumented_matrix[i][j]/intermediate_matrix[i][i]),8)\n",
    "    counter = 0\n",
    "    while True:\n",
    "        for i in range(num_rows):\n",
    "            solution[i]=newsolution[i]\n",
    "            #newsolution[i]=Augumented_matrix[i][num_cols-1]\n",
    "        for i in range(num_rows):\n",
    "            su=0\n",
    "            for j in range(num_cols):\n",
    "                if j!=i and j!=num_cols-1:\n",
    "                    su=su+Augumented_matrix[i][j] * solution[j]\n",
    "            newsolution[i]=Augumented_matrix[i][num_cols-1]-su\n",
    "            newsolution[i]=Round_off(newsolution[i],8)\n",
    "        counter=counter+1\n",
    "        print(\"**********************The values of Iteration \",counter, \" is \",newsolution)\n",
    "        if np.allclose(solution, newsolution, rtol=0.01):\n",
    "            break\n",
    "    Augumented_matrix=intermediate_matrix.copy()\n",
    "        \n",
    "    "
   ]
  },
  {
   "cell_type": "code",
   "execution_count": 60,
   "metadata": {},
   "outputs": [
    {
     "name": "stdout",
     "output_type": "stream",
     "text": [
      "[[-1.29886386  0.51414005 -0.67913213 -0.76742221]\n",
      " [ 0.04287619 -2.17604238 -1.02432169  0.44001125]\n",
      " [ 0.32662121  0.32654054  1.36795564 -0.68851777]]\n"
     ]
    }
   ],
   "source": [
    "Augumented_matrix=generate_diagonal_dominant_system(3)\n",
    "print(Augumented_matrix)"
   ]
  },
  {
   "cell_type": "code",
   "execution_count": 61,
   "metadata": {},
   "outputs": [
    {
     "name": "stdout",
     "output_type": "stream",
     "text": [
      "**********************The values of Iteration  1  is  [ 0.59084114 -0.20220711 -0.50331879]\n",
      "**********************The values of Iteration  2  is  [ 0.77396826  0.04636037 -0.59612328]\n",
      "**********************The values of Iteration  3  is  [ 0.92088512  0.09365423 -0.69918259]\n",
      "**********************The values of Iteration  4  is  [ 0.99349208  0.14506183 -0.74555071]\n",
      "**********************The values of Iteration  5  is  [ 1.0380855   0.16831918 -0.77515813]\n",
      "**********************The values of Iteration  6  is  [ 1.0627724   0.18313485 -0.79135721]\n",
      "**********************The values of Iteration  7  is  [ 1.0771069   0.19124662 -0.80078821]\n",
      "**********************The values of Iteration  8  is  [ 1.085249    0.19596849 -0.80614713]\n",
      "**********************The values of Iteration  9  is  [ 1.0899201   0.1986515  -0.80921833]\n",
      "**********************The values of Iteration  10  is  [ 1.092588    0.20018924 -0.81097408]\n"
     ]
    }
   ],
   "source": [
    "#Augumented_matrix[0][0]=-0.9815\n",
    "#Augumented_matrix[0][1]=0.0661\n",
    "#Augumented_matrix[0][2]=0.3732\n",
    "#Augumented_matrix[0][3]=0.15291635\n",
    "#Augumented_matrix[1][0]=0.2709\n",
    "#Augumented_matrix[1][1]=-1.152\n",
    "#Augumented_matrix[1][2]=0.2068\n",
    "#Augumented_matrix[1][3]=0.98563742\n",
    "#Augumented_matrix[2][0]=0.3125\n",
    "#Augumented_matrix[2][1]=-0.4523\n",
    "#Augumented_matrix[2][2]=-1.2511\n",
    "#Augumented_matrix[2][3]=0.58006576\n",
    "\n",
    "\n",
    "#Augumented_matrix[0][0]=0.0004\n",
    "#Augumented_matrix[0][1]=1.402\n",
    "#Augumented_matrix[1][0]=0.4003\n",
    "#Augumented_matrix[1][1]=-1.502\n",
    "#Augumented_matrix[0][2]=1.406\n",
    "#Augumented_matrix[1][2]=2.501\n",
    "gauss_jacobi(Augumented_matrix)"
   ]
  },
  {
   "cell_type": "code",
   "execution_count": 62,
   "metadata": {},
   "outputs": [
    {
     "name": "stdout",
     "output_type": "stream",
     "text": [
      "**********************The values of Iteration  1  is  [ 0.59084114 -0.19056532 -0.59890226]\n",
      "**********************The values of Iteration  2  is  [ 0.8285539   0.09603791 -0.72407416]\n",
      "**********************The values of Iteration  3  is  [ 1.0074506   0.15848463 -0.78169507]\n",
      "**********************The values of Iteration  4  is  [ 1.0622974   0.18668903 -0.8015232 ]\n",
      "**********************The values of Iteration  5  is  [ 1.0838293   0.19644692 -0.80899356]\n",
      "**********************The values of Iteration  6  is  [ 1.0915978   0.20011649 -0.81172437]\n",
      "**********************The values of Iteration  7  is  [ 1.0944782   0.20145871 -0.8127325 ]\n"
     ]
    }
   ],
   "source": [
    "#Augumented_matrix[0][0]=-0.9815\n",
    "#Augumented_matrix[0][1]=0.0661\n",
    "#Augumented_matrix[0][2]=0.3732\n",
    "#Augumented_matrix[0][3]=0.15291635\n",
    "#Augumented_matrix[1][0]=0.2709\n",
    "#Augumented_matrix[1][1]=-1.152\n",
    "#Augumented_matrix[1][2]=0.2068\n",
    "#Augumented_matrix[1][3]=0.98563742\n",
    "#Augumented_matrix[2][0]=0.3125\n",
    "#Augumented_matrix[2][1]=-0.4523\n",
    "#Augumented_matrix[2][2]=-1.2511\n",
    "#Augumented_matrix[2][3]=0.58006576\n",
    "gauss_siedel(Augumented_matrix)"
   ]
  },
  {
   "cell_type": "code",
   "execution_count": null,
   "metadata": {},
   "outputs": [],
   "source": []
  },
  {
   "cell_type": "code",
   "execution_count": null,
   "metadata": {},
   "outputs": [],
   "source": []
  }
 ],
 "metadata": {
  "kernelspec": {
   "display_name": "Python 3",
   "language": "python",
   "name": "python3"
  },
  "language_info": {
   "codemirror_mode": {
    "name": "ipython",
    "version": 3
   },
   "file_extension": ".py",
   "mimetype": "text/x-python",
   "name": "python",
   "nbconvert_exporter": "python",
   "pygments_lexer": "ipython3",
   "version": "3.7.6"
  }
 },
 "nbformat": 4,
 "nbformat_minor": 4
}
