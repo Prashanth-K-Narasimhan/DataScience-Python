{
 "cells": [
  {
   "cell_type": "markdown",
   "metadata": {},
   "source": [
    "<b> Pandas Basics <b> "
   ]
  },
  {
   "cell_type": "code",
   "execution_count": 2,
   "metadata": {},
   "outputs": [],
   "source": [
    "import pandas as pd \n",
    "import numpy as np"
   ]
  },
  {
   "cell_type": "code",
   "execution_count": 3,
   "metadata": {},
   "outputs": [
    {
     "output_type": "execute_result",
     "data": {
      "text/plain": [
       "'1.2.4'"
      ]
     },
     "metadata": {},
     "execution_count": 3
    }
   ],
   "source": [
    "pd.__version__"
   ]
  },
  {
   "cell_type": "markdown",
   "metadata": {},
   "source": [
    "<b> Series </b>"
   ]
  },
  {
   "cell_type": "code",
   "execution_count": 28,
   "metadata": {},
   "outputs": [],
   "source": [
    "dict = { \"one\" : [1,2,3,4]} "
   ]
  },
  {
   "cell_type": "code",
   "execution_count": 29,
   "metadata": {},
   "outputs": [
    {
     "output_type": "execute_result",
     "data": {
      "text/plain": [
       "{'one': [1, 2, 3, 4]}"
      ]
     },
     "metadata": {},
     "execution_count": 29
    }
   ],
   "source": [
    "dict"
   ]
  },
  {
   "cell_type": "code",
   "execution_count": 33,
   "metadata": {},
   "outputs": [],
   "source": [
    "my_series = pd.Series(dict)"
   ]
  },
  {
   "cell_type": "code",
   "execution_count": 34,
   "metadata": {},
   "outputs": [
    {
     "output_type": "execute_result",
     "data": {
      "text/plain": [
       "pandas.core.series.Series"
      ]
     },
     "metadata": {},
     "execution_count": 34
    }
   ],
   "source": [
    "type(my_series)"
   ]
  },
  {
   "cell_type": "code",
   "execution_count": 35,
   "metadata": {},
   "outputs": [
    {
     "output_type": "execute_result",
     "data": {
      "text/plain": [
       "one    [1, 2, 3, 4]\n",
       "dtype: object"
      ]
     },
     "metadata": {},
     "execution_count": 35
    }
   ],
   "source": [
    "my_series"
   ]
  },
  {
   "cell_type": "code",
   "execution_count": 9,
   "metadata": {},
   "outputs": [
    {
     "data": {
      "text/plain": [
       "Index(['one'], dtype='object')"
      ]
     },
     "execution_count": 9,
     "metadata": {},
     "output_type": "execute_result"
    }
   ],
   "source": [
    "my_series.index"
   ]
  },
  {
   "cell_type": "code",
   "execution_count": 36,
   "metadata": {},
   "outputs": [],
   "source": [
    "a1 = np.random.randint(5,size=5)"
   ]
  },
  {
   "cell_type": "code",
   "execution_count": 37,
   "metadata": {},
   "outputs": [
    {
     "output_type": "execute_result",
     "data": {
      "text/plain": [
       "array([2, 1, 4, 2, 3])"
      ]
     },
     "metadata": {},
     "execution_count": 37
    }
   ],
   "source": [
    "a1"
   ]
  },
  {
   "cell_type": "code",
   "execution_count": 38,
   "metadata": {},
   "outputs": [],
   "source": [
    "series = pd.Series(a1)"
   ]
  },
  {
   "cell_type": "code",
   "execution_count": 39,
   "metadata": {},
   "outputs": [
    {
     "output_type": "execute_result",
     "data": {
      "text/plain": [
       "pandas.core.series.Series"
      ]
     },
     "metadata": {},
     "execution_count": 39
    }
   ],
   "source": [
    "type(series)"
   ]
  },
  {
   "cell_type": "code",
   "execution_count": 40,
   "metadata": {},
   "outputs": [
    {
     "output_type": "execute_result",
     "data": {
      "text/plain": [
       "0    2\n",
       "1    1\n",
       "2    4\n",
       "3    2\n",
       "4    3\n",
       "dtype: int32"
      ]
     },
     "metadata": {},
     "execution_count": 40
    }
   ],
   "source": [
    "series"
   ]
  },
  {
   "cell_type": "code",
   "execution_count": 41,
   "metadata": {},
   "outputs": [
    {
     "output_type": "execute_result",
     "data": {
      "text/plain": [
       "a    2\n",
       "b    1\n",
       "c    2\n",
       "d    4\n",
       "e    2\n",
       "dtype: int32"
      ]
     },
     "metadata": {},
     "execution_count": 41
    }
   ],
   "source": [
    "a1 = np.random.randint(5,size=5)\n",
    "series1 = pd.Series(a1, index=['a','b','c','d','e'])\n",
    "series1"
   ]
  },
  {
   "cell_type": "code",
   "execution_count": 20,
   "metadata": {},
   "outputs": [
    {
     "data": {
      "text/plain": [
       "4"
      ]
     },
     "execution_count": 20,
     "metadata": {},
     "output_type": "execute_result"
    }
   ],
   "source": [
    "series1['a']"
   ]
  },
  {
   "cell_type": "markdown",
   "metadata": {},
   "source": [
    "<b> Data Frame </b> "
   ]
  },
  {
   "cell_type": "code",
   "execution_count": 42,
   "metadata": {},
   "outputs": [
    {
     "output_type": "execute_result",
     "data": {
      "text/plain": [
       "{'id': [1, 2, 3, 4], 'name': ['a', 'b', 'c', 'd']}"
      ]
     },
     "metadata": {},
     "execution_count": 42
    }
   ],
   "source": [
    "dict = { \"id\" : [1,2,3,4], \"name\" : [\"a\",\"b\",\"c\",\"d\"] }\n",
    "dict"
   ]
  },
  {
   "cell_type": "code",
   "execution_count": 43,
   "metadata": {},
   "outputs": [],
   "source": [
    "df = pd.DataFrame(dict)"
   ]
  },
  {
   "cell_type": "code",
   "execution_count": 44,
   "metadata": {},
   "outputs": [
    {
     "output_type": "execute_result",
     "data": {
      "text/plain": [
       "   id name\n",
       "0   1    a\n",
       "1   2    b\n",
       "2   3    c\n",
       "3   4    d"
      ],
      "text/html": "<div>\n<style scoped>\n    .dataframe tbody tr th:only-of-type {\n        vertical-align: middle;\n    }\n\n    .dataframe tbody tr th {\n        vertical-align: top;\n    }\n\n    .dataframe thead th {\n        text-align: right;\n    }\n</style>\n<table border=\"1\" class=\"dataframe\">\n  <thead>\n    <tr style=\"text-align: right;\">\n      <th></th>\n      <th>id</th>\n      <th>name</th>\n    </tr>\n  </thead>\n  <tbody>\n    <tr>\n      <th>0</th>\n      <td>1</td>\n      <td>a</td>\n    </tr>\n    <tr>\n      <th>1</th>\n      <td>2</td>\n      <td>b</td>\n    </tr>\n    <tr>\n      <th>2</th>\n      <td>3</td>\n      <td>c</td>\n    </tr>\n    <tr>\n      <th>3</th>\n      <td>4</td>\n      <td>d</td>\n    </tr>\n  </tbody>\n</table>\n</div>"
     },
     "metadata": {},
     "execution_count": 44
    }
   ],
   "source": [
    "df"
   ]
  },
  {
   "cell_type": "code",
   "execution_count": 45,
   "metadata": {},
   "outputs": [
    {
     "output_type": "execute_result",
     "data": {
      "text/plain": [
       "pandas.core.frame.DataFrame"
      ]
     },
     "metadata": {},
     "execution_count": 45
    }
   ],
   "source": [
    "type(df)"
   ]
  },
  {
   "cell_type": "code",
   "execution_count": 46,
   "metadata": {},
   "outputs": [
    {
     "output_type": "execute_result",
     "data": {
      "text/plain": [
       "Index(['id', 'name'], dtype='object')"
      ]
     },
     "metadata": {},
     "execution_count": 46
    }
   ],
   "source": [
    "df.columns"
   ]
  },
  {
   "cell_type": "code",
   "execution_count": 47,
   "metadata": {},
   "outputs": [
    {
     "output_type": "execute_result",
     "data": {
      "text/plain": [
       "id       int64\n",
       "name    object\n",
       "dtype: object"
      ]
     },
     "metadata": {},
     "execution_count": 47
    }
   ],
   "source": [
    "df.dtypes"
   ]
  },
  {
   "cell_type": "code",
   "execution_count": 48,
   "metadata": {},
   "outputs": [],
   "source": [
    "s1 = pd.Series([1,2,3,4], name = \"id\")\n",
    "s2 = pd.Series(['a','b','c','d'], name = \"name\")\n",
    "s3 = pd.Series([True,False,False,True], name = \"working\")\n",
    "s4 = pd.Series([1.2,2.4,3.7,4.5], name = \"experience\")"
   ]
  },
  {
   "cell_type": "code",
   "execution_count": 49,
   "metadata": {},
   "outputs": [],
   "source": [
    "serieses = [ s1,s2,s3,s4] \n",
    "x = pd.DataFrame(serieses)"
   ]
  },
  {
   "cell_type": "code",
   "execution_count": 50,
   "metadata": {},
   "outputs": [
    {
     "output_type": "execute_result",
     "data": {
      "text/plain": [
       "               0      1      2     3\n",
       "id             1      2      3     4\n",
       "name           a      b      c     d\n",
       "working     True  False  False  True\n",
       "experience   1.2    2.4    3.7   4.5"
      ],
      "text/html": "<div>\n<style scoped>\n    .dataframe tbody tr th:only-of-type {\n        vertical-align: middle;\n    }\n\n    .dataframe tbody tr th {\n        vertical-align: top;\n    }\n\n    .dataframe thead th {\n        text-align: right;\n    }\n</style>\n<table border=\"1\" class=\"dataframe\">\n  <thead>\n    <tr style=\"text-align: right;\">\n      <th></th>\n      <th>0</th>\n      <th>1</th>\n      <th>2</th>\n      <th>3</th>\n    </tr>\n  </thead>\n  <tbody>\n    <tr>\n      <th>id</th>\n      <td>1</td>\n      <td>2</td>\n      <td>3</td>\n      <td>4</td>\n    </tr>\n    <tr>\n      <th>name</th>\n      <td>a</td>\n      <td>b</td>\n      <td>c</td>\n      <td>d</td>\n    </tr>\n    <tr>\n      <th>working</th>\n      <td>True</td>\n      <td>False</td>\n      <td>False</td>\n      <td>True</td>\n    </tr>\n    <tr>\n      <th>experience</th>\n      <td>1.2</td>\n      <td>2.4</td>\n      <td>3.7</td>\n      <td>4.5</td>\n    </tr>\n  </tbody>\n</table>\n</div>"
     },
     "metadata": {},
     "execution_count": 50
    }
   ],
   "source": [
    "x"
   ]
  },
  {
   "cell_type": "code",
   "execution_count": 51,
   "metadata": {},
   "outputs": [
    {
     "output_type": "execute_result",
     "data": {
      "text/plain": [
       "RangeIndex(start=0, stop=4, step=1)"
      ]
     },
     "metadata": {},
     "execution_count": 51
    }
   ],
   "source": [
    "x.columns"
   ]
  },
  {
   "cell_type": "code",
   "execution_count": 52,
   "metadata": {},
   "outputs": [
    {
     "output_type": "execute_result",
     "data": {
      "text/plain": [
       "  id name working experience\n",
       "0  1    a    True        1.2\n",
       "1  2    b   False        2.4\n",
       "2  3    c   False        3.7\n",
       "3  4    d    True        4.5"
      ],
      "text/html": "<div>\n<style scoped>\n    .dataframe tbody tr th:only-of-type {\n        vertical-align: middle;\n    }\n\n    .dataframe tbody tr th {\n        vertical-align: top;\n    }\n\n    .dataframe thead th {\n        text-align: right;\n    }\n</style>\n<table border=\"1\" class=\"dataframe\">\n  <thead>\n    <tr style=\"text-align: right;\">\n      <th></th>\n      <th>id</th>\n      <th>name</th>\n      <th>working</th>\n      <th>experience</th>\n    </tr>\n  </thead>\n  <tbody>\n    <tr>\n      <th>0</th>\n      <td>1</td>\n      <td>a</td>\n      <td>True</td>\n      <td>1.2</td>\n    </tr>\n    <tr>\n      <th>1</th>\n      <td>2</td>\n      <td>b</td>\n      <td>False</td>\n      <td>2.4</td>\n    </tr>\n    <tr>\n      <th>2</th>\n      <td>3</td>\n      <td>c</td>\n      <td>False</td>\n      <td>3.7</td>\n    </tr>\n    <tr>\n      <th>3</th>\n      <td>4</td>\n      <td>d</td>\n      <td>True</td>\n      <td>4.5</td>\n    </tr>\n  </tbody>\n</table>\n</div>"
     },
     "metadata": {},
     "execution_count": 52
    }
   ],
   "source": [
    "x.T"
   ]
  },
  {
   "cell_type": "code",
   "execution_count": 53,
   "metadata": {},
   "outputs": [],
   "source": [
    "y= x.T"
   ]
  },
  {
   "cell_type": "code",
   "execution_count": 55,
   "metadata": {},
   "outputs": [
    {
     "output_type": "execute_result",
     "data": {
      "text/plain": [
       "pandas.core.frame.DataFrame"
      ]
     },
     "metadata": {},
     "execution_count": 55
    }
   ],
   "source": [
    "type(y)"
   ]
  },
  {
   "cell_type": "code",
   "execution_count": 56,
   "metadata": {},
   "outputs": [
    {
     "output_type": "execute_result",
     "data": {
      "text/plain": [
       "Index(['id', 'name', 'working', 'experience'], dtype='object')"
      ]
     },
     "metadata": {},
     "execution_count": 56
    }
   ],
   "source": [
    "y.columns"
   ]
  },
  {
   "cell_type": "code",
   "execution_count": 57,
   "metadata": {},
   "outputs": [
    {
     "output_type": "execute_result",
     "data": {
      "text/plain": [
       "0    1\n",
       "1    2\n",
       "2    3\n",
       "3    4\n",
       "Name: id, dtype: object"
      ]
     },
     "metadata": {},
     "execution_count": 57
    }
   ],
   "source": [
    "y['id']"
   ]
  },
  {
   "cell_type": "markdown",
   "metadata": {},
   "source": [
    "<b> Reading Files </b> "
   ]
  },
  {
   "cell_type": "code",
   "execution_count": 59,
   "metadata": {},
   "outputs": [],
   "source": [
    "df = pd.read_csv(\"../../data/students.csv\")"
   ]
  },
  {
   "cell_type": "code",
   "execution_count": 60,
   "metadata": {},
   "outputs": [
    {
     "output_type": "execute_result",
     "data": {
      "text/plain": [
       "   id    name  quiz1  quiz2  assignment  midsem  compre\n",
       "0   1  pravin      5      5          10      22      34\n",
       "1   2   patil      5      5          10       2       4\n",
       "2   3    john      3      3           5      11      33\n",
       "3   4   sadiq      5      5           5      23      11\n",
       "4   5  pravin      5      5          10      22      34"
      ],
      "text/html": "<div>\n<style scoped>\n    .dataframe tbody tr th:only-of-type {\n        vertical-align: middle;\n    }\n\n    .dataframe tbody tr th {\n        vertical-align: top;\n    }\n\n    .dataframe thead th {\n        text-align: right;\n    }\n</style>\n<table border=\"1\" class=\"dataframe\">\n  <thead>\n    <tr style=\"text-align: right;\">\n      <th></th>\n      <th>id</th>\n      <th>name</th>\n      <th>quiz1</th>\n      <th>quiz2</th>\n      <th>assignment</th>\n      <th>midsem</th>\n      <th>compre</th>\n    </tr>\n  </thead>\n  <tbody>\n    <tr>\n      <th>0</th>\n      <td>1</td>\n      <td>pravin</td>\n      <td>5</td>\n      <td>5</td>\n      <td>10</td>\n      <td>22</td>\n      <td>34</td>\n    </tr>\n    <tr>\n      <th>1</th>\n      <td>2</td>\n      <td>patil</td>\n      <td>5</td>\n      <td>5</td>\n      <td>10</td>\n      <td>2</td>\n      <td>4</td>\n    </tr>\n    <tr>\n      <th>2</th>\n      <td>3</td>\n      <td>john</td>\n      <td>3</td>\n      <td>3</td>\n      <td>5</td>\n      <td>11</td>\n      <td>33</td>\n    </tr>\n    <tr>\n      <th>3</th>\n      <td>4</td>\n      <td>sadiq</td>\n      <td>5</td>\n      <td>5</td>\n      <td>5</td>\n      <td>23</td>\n      <td>11</td>\n    </tr>\n    <tr>\n      <th>4</th>\n      <td>5</td>\n      <td>pravin</td>\n      <td>5</td>\n      <td>5</td>\n      <td>10</td>\n      <td>22</td>\n      <td>34</td>\n    </tr>\n  </tbody>\n</table>\n</div>"
     },
     "metadata": {},
     "execution_count": 60
    }
   ],
   "source": [
    "df"
   ]
  },
  {
   "cell_type": "code",
   "execution_count": 65,
   "metadata": {},
   "outputs": [
    {
     "output_type": "execute_result",
     "data": {
      "text/plain": [
       "pandas.core.frame.DataFrame"
      ]
     },
     "metadata": {},
     "execution_count": 65
    }
   ],
   "source": [
    "type(df)"
   ]
  },
  {
   "cell_type": "code",
   "execution_count": 74,
   "metadata": {},
   "outputs": [],
   "source": [
    "df_excel = pd.read_excel(\"../../data/students.xlsx\")"
   ]
  },
  {
   "cell_type": "code",
   "execution_count": 75,
   "metadata": {},
   "outputs": [
    {
     "output_type": "execute_result",
     "data": {
      "text/plain": [
       "   id    name  quiz1  quiz2  assignment  midsem  compre\n",
       "0   1  pravin      5      5          10      22      34\n",
       "1   2   patil      5      5          10       2       4\n",
       "2   3    john      3      3           5      11      33\n",
       "3   4   sadiq      5      5           5      23      11\n",
       "4   5  pravin      5      5          10      22      34"
      ],
      "text/html": "<div>\n<style scoped>\n    .dataframe tbody tr th:only-of-type {\n        vertical-align: middle;\n    }\n\n    .dataframe tbody tr th {\n        vertical-align: top;\n    }\n\n    .dataframe thead th {\n        text-align: right;\n    }\n</style>\n<table border=\"1\" class=\"dataframe\">\n  <thead>\n    <tr style=\"text-align: right;\">\n      <th></th>\n      <th>id</th>\n      <th>name</th>\n      <th>quiz1</th>\n      <th>quiz2</th>\n      <th>assignment</th>\n      <th>midsem</th>\n      <th>compre</th>\n    </tr>\n  </thead>\n  <tbody>\n    <tr>\n      <th>0</th>\n      <td>1</td>\n      <td>pravin</td>\n      <td>5</td>\n      <td>5</td>\n      <td>10</td>\n      <td>22</td>\n      <td>34</td>\n    </tr>\n    <tr>\n      <th>1</th>\n      <td>2</td>\n      <td>patil</td>\n      <td>5</td>\n      <td>5</td>\n      <td>10</td>\n      <td>2</td>\n      <td>4</td>\n    </tr>\n    <tr>\n      <th>2</th>\n      <td>3</td>\n      <td>john</td>\n      <td>3</td>\n      <td>3</td>\n      <td>5</td>\n      <td>11</td>\n      <td>33</td>\n    </tr>\n    <tr>\n      <th>3</th>\n      <td>4</td>\n      <td>sadiq</td>\n      <td>5</td>\n      <td>5</td>\n      <td>5</td>\n      <td>23</td>\n      <td>11</td>\n    </tr>\n    <tr>\n      <th>4</th>\n      <td>5</td>\n      <td>pravin</td>\n      <td>5</td>\n      <td>5</td>\n      <td>10</td>\n      <td>22</td>\n      <td>34</td>\n    </tr>\n  </tbody>\n</table>\n</div>"
     },
     "metadata": {},
     "execution_count": 75
    }
   ],
   "source": [
    "df_excel"
   ]
  },
  {
   "cell_type": "code",
   "execution_count": 76,
   "metadata": {},
   "outputs": [
    {
     "output_type": "execute_result",
     "data": {
      "text/plain": [
       "pandas.core.frame.DataFrame"
      ]
     },
     "metadata": {},
     "execution_count": 76
    }
   ],
   "source": [
    "type(df_excel)"
   ]
  },
  {
   "cell_type": "code",
   "execution_count": 78,
   "metadata": {},
   "outputs": [
    {
     "output_type": "execute_result",
     "data": {
      "text/plain": [
       "Index(['id', 'name', 'quiz1', 'quiz2', 'assignment', 'midsem', 'compre'], dtype='object')"
      ]
     },
     "metadata": {},
     "execution_count": 78
    }
   ],
   "source": [
    "df_excel.columns"
   ]
  },
  {
   "cell_type": "markdown",
   "metadata": {},
   "source": [
    "<b> Write to a file </b>"
   ]
  },
  {
   "cell_type": "code",
   "execution_count": 79,
   "metadata": {},
   "outputs": [
    {
     "output_type": "execute_result",
     "data": {
      "text/plain": [
       "   id    name  quiz1  quiz2  assignment  midsem  compre\n",
       "0   1  pravin      5      5          10      22      34\n",
       "1   2   patil      5      5          10       2       4\n",
       "2   3    john      3      3           5      11      33\n",
       "3   4   sadiq      5      5           5      23      11\n",
       "4   5  pravin      5      5          10      22      34"
      ],
      "text/html": "<div>\n<style scoped>\n    .dataframe tbody tr th:only-of-type {\n        vertical-align: middle;\n    }\n\n    .dataframe tbody tr th {\n        vertical-align: top;\n    }\n\n    .dataframe thead th {\n        text-align: right;\n    }\n</style>\n<table border=\"1\" class=\"dataframe\">\n  <thead>\n    <tr style=\"text-align: right;\">\n      <th></th>\n      <th>id</th>\n      <th>name</th>\n      <th>quiz1</th>\n      <th>quiz2</th>\n      <th>assignment</th>\n      <th>midsem</th>\n      <th>compre</th>\n    </tr>\n  </thead>\n  <tbody>\n    <tr>\n      <th>0</th>\n      <td>1</td>\n      <td>pravin</td>\n      <td>5</td>\n      <td>5</td>\n      <td>10</td>\n      <td>22</td>\n      <td>34</td>\n    </tr>\n    <tr>\n      <th>1</th>\n      <td>2</td>\n      <td>patil</td>\n      <td>5</td>\n      <td>5</td>\n      <td>10</td>\n      <td>2</td>\n      <td>4</td>\n    </tr>\n    <tr>\n      <th>2</th>\n      <td>3</td>\n      <td>john</td>\n      <td>3</td>\n      <td>3</td>\n      <td>5</td>\n      <td>11</td>\n      <td>33</td>\n    </tr>\n    <tr>\n      <th>3</th>\n      <td>4</td>\n      <td>sadiq</td>\n      <td>5</td>\n      <td>5</td>\n      <td>5</td>\n      <td>23</td>\n      <td>11</td>\n    </tr>\n    <tr>\n      <th>4</th>\n      <td>5</td>\n      <td>pravin</td>\n      <td>5</td>\n      <td>5</td>\n      <td>10</td>\n      <td>22</td>\n      <td>34</td>\n    </tr>\n  </tbody>\n</table>\n</div>"
     },
     "metadata": {},
     "execution_count": 79
    }
   ],
   "source": [
    "df_excel"
   ]
  },
  {
   "cell_type": "code",
   "execution_count": 80,
   "metadata": {},
   "outputs": [],
   "source": [
    "df_excel.to_csv(\"my_first_data_Writing.csv\")"
   ]
  },
  {
   "cell_type": "markdown",
   "metadata": {},
   "source": [
    "<b> Data Selection </b>"
   ]
  },
  {
   "cell_type": "code",
   "execution_count": 81,
   "metadata": {},
   "outputs": [
    {
     "output_type": "execute_result",
     "data": {
      "text/plain": [
       "   id    name  quiz1  quiz2  assignment  midsem  compre\n",
       "0   1  pravin      5      5          10      22      34\n",
       "1   2   patil      5      5          10       2       4\n",
       "2   3    john      3      3           5      11      33\n",
       "3   4   sadiq      5      5           5      23      11\n",
       "4   5  pravin      5      5          10      22      34"
      ],
      "text/html": "<div>\n<style scoped>\n    .dataframe tbody tr th:only-of-type {\n        vertical-align: middle;\n    }\n\n    .dataframe tbody tr th {\n        vertical-align: top;\n    }\n\n    .dataframe thead th {\n        text-align: right;\n    }\n</style>\n<table border=\"1\" class=\"dataframe\">\n  <thead>\n    <tr style=\"text-align: right;\">\n      <th></th>\n      <th>id</th>\n      <th>name</th>\n      <th>quiz1</th>\n      <th>quiz2</th>\n      <th>assignment</th>\n      <th>midsem</th>\n      <th>compre</th>\n    </tr>\n  </thead>\n  <tbody>\n    <tr>\n      <th>0</th>\n      <td>1</td>\n      <td>pravin</td>\n      <td>5</td>\n      <td>5</td>\n      <td>10</td>\n      <td>22</td>\n      <td>34</td>\n    </tr>\n    <tr>\n      <th>1</th>\n      <td>2</td>\n      <td>patil</td>\n      <td>5</td>\n      <td>5</td>\n      <td>10</td>\n      <td>2</td>\n      <td>4</td>\n    </tr>\n    <tr>\n      <th>2</th>\n      <td>3</td>\n      <td>john</td>\n      <td>3</td>\n      <td>3</td>\n      <td>5</td>\n      <td>11</td>\n      <td>33</td>\n    </tr>\n    <tr>\n      <th>3</th>\n      <td>4</td>\n      <td>sadiq</td>\n      <td>5</td>\n      <td>5</td>\n      <td>5</td>\n      <td>23</td>\n      <td>11</td>\n    </tr>\n    <tr>\n      <th>4</th>\n      <td>5</td>\n      <td>pravin</td>\n      <td>5</td>\n      <td>5</td>\n      <td>10</td>\n      <td>22</td>\n      <td>34</td>\n    </tr>\n  </tbody>\n</table>\n</div>"
     },
     "metadata": {},
     "execution_count": 81
    }
   ],
   "source": [
    "df"
   ]
  },
  {
   "cell_type": "code",
   "execution_count": 82,
   "metadata": {},
   "outputs": [],
   "source": [
    "name = df[\"name\"]"
   ]
  },
  {
   "cell_type": "code",
   "execution_count": 83,
   "metadata": {},
   "outputs": [
    {
     "output_type": "execute_result",
     "data": {
      "text/plain": [
       "0    pravin\n",
       "1     patil\n",
       "2      john\n",
       "3     sadiq\n",
       "4    pravin\n",
       "Name: name, dtype: object"
      ]
     },
     "metadata": {},
     "execution_count": 83
    }
   ],
   "source": [
    "name"
   ]
  },
  {
   "cell_type": "code",
   "execution_count": 84,
   "metadata": {},
   "outputs": [
    {
     "output_type": "execute_result",
     "data": {
      "text/plain": [
       "pandas.core.series.Series"
      ]
     },
     "metadata": {},
     "execution_count": 84
    }
   ],
   "source": [
    "type(name)"
   ]
  },
  {
   "cell_type": "code",
   "execution_count": 85,
   "metadata": {},
   "outputs": [],
   "source": [
    "list_of_col = [\"id\", \"name\", \"compre\"]\n",
    "extracted_data = df[list_of_col]"
   ]
  },
  {
   "cell_type": "code",
   "execution_count": 86,
   "metadata": {},
   "outputs": [
    {
     "output_type": "execute_result",
     "data": {
      "text/plain": [
       "   id    name  compre\n",
       "0   1  pravin      34\n",
       "1   2   patil       4\n",
       "2   3    john      33\n",
       "3   4   sadiq      11\n",
       "4   5  pravin      34"
      ],
      "text/html": "<div>\n<style scoped>\n    .dataframe tbody tr th:only-of-type {\n        vertical-align: middle;\n    }\n\n    .dataframe tbody tr th {\n        vertical-align: top;\n    }\n\n    .dataframe thead th {\n        text-align: right;\n    }\n</style>\n<table border=\"1\" class=\"dataframe\">\n  <thead>\n    <tr style=\"text-align: right;\">\n      <th></th>\n      <th>id</th>\n      <th>name</th>\n      <th>compre</th>\n    </tr>\n  </thead>\n  <tbody>\n    <tr>\n      <th>0</th>\n      <td>1</td>\n      <td>pravin</td>\n      <td>34</td>\n    </tr>\n    <tr>\n      <th>1</th>\n      <td>2</td>\n      <td>patil</td>\n      <td>4</td>\n    </tr>\n    <tr>\n      <th>2</th>\n      <td>3</td>\n      <td>john</td>\n      <td>33</td>\n    </tr>\n    <tr>\n      <th>3</th>\n      <td>4</td>\n      <td>sadiq</td>\n      <td>11</td>\n    </tr>\n    <tr>\n      <th>4</th>\n      <td>5</td>\n      <td>pravin</td>\n      <td>34</td>\n    </tr>\n  </tbody>\n</table>\n</div>"
     },
     "metadata": {},
     "execution_count": 86
    }
   ],
   "source": [
    "extracted_data"
   ]
  },
  {
   "cell_type": "code",
   "execution_count": 87,
   "metadata": {},
   "outputs": [
    {
     "output_type": "execute_result",
     "data": {
      "text/plain": [
       "pandas.core.frame.DataFrame"
      ]
     },
     "metadata": {},
     "execution_count": 87
    }
   ],
   "source": [
    "type(extracted_data)"
   ]
  },
  {
   "cell_type": "code",
   "execution_count": 88,
   "metadata": {},
   "outputs": [],
   "source": [
    "id = extracted_data[\"id\"]"
   ]
  },
  {
   "cell_type": "code",
   "execution_count": 89,
   "metadata": {},
   "outputs": [
    {
     "output_type": "execute_result",
     "data": {
      "text/plain": [
       "pandas.core.series.Series"
      ]
     },
     "metadata": {},
     "execution_count": 89
    }
   ],
   "source": [
    "type(id)"
   ]
  },
  {
   "cell_type": "code",
   "execution_count": 52,
   "metadata": {},
   "outputs": [
    {
     "data": {
      "text/html": [
       "<div>\n",
       "<style scoped>\n",
       "    .dataframe tbody tr th:only-of-type {\n",
       "        vertical-align: middle;\n",
       "    }\n",
       "\n",
       "    .dataframe tbody tr th {\n",
       "        vertical-align: top;\n",
       "    }\n",
       "\n",
       "    .dataframe thead th {\n",
       "        text-align: right;\n",
       "    }\n",
       "</style>\n",
       "<table border=\"1\" class=\"dataframe\">\n",
       "  <thead>\n",
       "    <tr style=\"text-align: right;\">\n",
       "      <th></th>\n",
       "      <th>id</th>\n",
       "      <th>name</th>\n",
       "      <th>quiz1</th>\n",
       "      <th>quiz2</th>\n",
       "      <th>assignment</th>\n",
       "      <th>midsem</th>\n",
       "      <th>compre</th>\n",
       "    </tr>\n",
       "  </thead>\n",
       "  <tbody>\n",
       "    <tr>\n",
       "      <th>0</th>\n",
       "      <td>1</td>\n",
       "      <td>pravin</td>\n",
       "      <td>5</td>\n",
       "      <td>5</td>\n",
       "      <td>10</td>\n",
       "      <td>22</td>\n",
       "      <td>34</td>\n",
       "    </tr>\n",
       "    <tr>\n",
       "      <th>1</th>\n",
       "      <td>2</td>\n",
       "      <td>patil</td>\n",
       "      <td>5</td>\n",
       "      <td>5</td>\n",
       "      <td>10</td>\n",
       "      <td>2</td>\n",
       "      <td>4</td>\n",
       "    </tr>\n",
       "    <tr>\n",
       "      <th>2</th>\n",
       "      <td>3</td>\n",
       "      <td>john</td>\n",
       "      <td>3</td>\n",
       "      <td>3</td>\n",
       "      <td>5</td>\n",
       "      <td>11</td>\n",
       "      <td>33</td>\n",
       "    </tr>\n",
       "    <tr>\n",
       "      <th>3</th>\n",
       "      <td>4</td>\n",
       "      <td>sadiq</td>\n",
       "      <td>5</td>\n",
       "      <td>5</td>\n",
       "      <td>5</td>\n",
       "      <td>23</td>\n",
       "      <td>11</td>\n",
       "    </tr>\n",
       "    <tr>\n",
       "      <th>4</th>\n",
       "      <td>5</td>\n",
       "      <td>pravin</td>\n",
       "      <td>5</td>\n",
       "      <td>5</td>\n",
       "      <td>10</td>\n",
       "      <td>22</td>\n",
       "      <td>34</td>\n",
       "    </tr>\n",
       "  </tbody>\n",
       "</table>\n",
       "</div>"
      ],
      "text/plain": [
       "   id    name  quiz1  quiz2  assignment  midsem  compre\n",
       "0   1  pravin      5      5          10      22      34\n",
       "1   2   patil      5      5          10       2       4\n",
       "2   3    john      3      3           5      11      33\n",
       "3   4   sadiq      5      5           5      23      11\n",
       "4   5  pravin      5      5          10      22      34"
      ]
     },
     "execution_count": 52,
     "metadata": {},
     "output_type": "execute_result"
    }
   ],
   "source": [
    "df"
   ]
  },
  {
   "cell_type": "code",
   "execution_count": 90,
   "metadata": {},
   "outputs": [
    {
     "output_type": "execute_result",
     "data": {
      "text/plain": [
       "Index(['id', 'name', 'quiz1', 'quiz2', 'assignment', 'midsem', 'compre'], dtype='object')"
      ]
     },
     "metadata": {},
     "execution_count": 90
    }
   ],
   "source": [
    "df.columns"
   ]
  },
  {
   "cell_type": "code",
   "execution_count": 91,
   "metadata": {},
   "outputs": [
    {
     "output_type": "execute_result",
     "data": {
      "text/plain": [
       "   id    name  quiz1  quiz2  assignment  midsem  compre\n",
       "0   1  pravin      5      5          10      22      34\n",
       "1   2   patil      5      5          10       2       4\n",
       "2   3    john      3      3           5      11      33\n",
       "3   4   sadiq      5      5           5      23      11\n",
       "4   5  pravin      5      5          10      22      34"
      ],
      "text/html": "<div>\n<style scoped>\n    .dataframe tbody tr th:only-of-type {\n        vertical-align: middle;\n    }\n\n    .dataframe tbody tr th {\n        vertical-align: top;\n    }\n\n    .dataframe thead th {\n        text-align: right;\n    }\n</style>\n<table border=\"1\" class=\"dataframe\">\n  <thead>\n    <tr style=\"text-align: right;\">\n      <th></th>\n      <th>id</th>\n      <th>name</th>\n      <th>quiz1</th>\n      <th>quiz2</th>\n      <th>assignment</th>\n      <th>midsem</th>\n      <th>compre</th>\n    </tr>\n  </thead>\n  <tbody>\n    <tr>\n      <th>0</th>\n      <td>1</td>\n      <td>pravin</td>\n      <td>5</td>\n      <td>5</td>\n      <td>10</td>\n      <td>22</td>\n      <td>34</td>\n    </tr>\n    <tr>\n      <th>1</th>\n      <td>2</td>\n      <td>patil</td>\n      <td>5</td>\n      <td>5</td>\n      <td>10</td>\n      <td>2</td>\n      <td>4</td>\n    </tr>\n    <tr>\n      <th>2</th>\n      <td>3</td>\n      <td>john</td>\n      <td>3</td>\n      <td>3</td>\n      <td>5</td>\n      <td>11</td>\n      <td>33</td>\n    </tr>\n    <tr>\n      <th>3</th>\n      <td>4</td>\n      <td>sadiq</td>\n      <td>5</td>\n      <td>5</td>\n      <td>5</td>\n      <td>23</td>\n      <td>11</td>\n    </tr>\n    <tr>\n      <th>4</th>\n      <td>5</td>\n      <td>pravin</td>\n      <td>5</td>\n      <td>5</td>\n      <td>10</td>\n      <td>22</td>\n      <td>34</td>\n    </tr>\n  </tbody>\n</table>\n</div>"
     },
     "metadata": {},
     "execution_count": 91
    }
   ],
   "source": [
    "df.head()"
   ]
  },
  {
   "cell_type": "code",
   "execution_count": 92,
   "metadata": {},
   "outputs": [
    {
     "output_type": "execute_result",
     "data": {
      "text/plain": [
       "   id    name  quiz1  quiz2  assignment  midsem  compre\n",
       "0   1  pravin      5      5          10      22      34\n",
       "1   2   patil      5      5          10       2       4"
      ],
      "text/html": "<div>\n<style scoped>\n    .dataframe tbody tr th:only-of-type {\n        vertical-align: middle;\n    }\n\n    .dataframe tbody tr th {\n        vertical-align: top;\n    }\n\n    .dataframe thead th {\n        text-align: right;\n    }\n</style>\n<table border=\"1\" class=\"dataframe\">\n  <thead>\n    <tr style=\"text-align: right;\">\n      <th></th>\n      <th>id</th>\n      <th>name</th>\n      <th>quiz1</th>\n      <th>quiz2</th>\n      <th>assignment</th>\n      <th>midsem</th>\n      <th>compre</th>\n    </tr>\n  </thead>\n  <tbody>\n    <tr>\n      <th>0</th>\n      <td>1</td>\n      <td>pravin</td>\n      <td>5</td>\n      <td>5</td>\n      <td>10</td>\n      <td>22</td>\n      <td>34</td>\n    </tr>\n    <tr>\n      <th>1</th>\n      <td>2</td>\n      <td>patil</td>\n      <td>5</td>\n      <td>5</td>\n      <td>10</td>\n      <td>2</td>\n      <td>4</td>\n    </tr>\n  </tbody>\n</table>\n</div>"
     },
     "metadata": {},
     "execution_count": 92
    }
   ],
   "source": [
    "df.head(2)"
   ]
  },
  {
   "cell_type": "code",
   "execution_count": 93,
   "metadata": {},
   "outputs": [
    {
     "output_type": "execute_result",
     "data": {
      "text/plain": [
       "   id    name  quiz1  quiz2  assignment  midsem  compre\n",
       "3   4   sadiq      5      5           5      23      11\n",
       "4   5  pravin      5      5          10      22      34"
      ],
      "text/html": "<div>\n<style scoped>\n    .dataframe tbody tr th:only-of-type {\n        vertical-align: middle;\n    }\n\n    .dataframe tbody tr th {\n        vertical-align: top;\n    }\n\n    .dataframe thead th {\n        text-align: right;\n    }\n</style>\n<table border=\"1\" class=\"dataframe\">\n  <thead>\n    <tr style=\"text-align: right;\">\n      <th></th>\n      <th>id</th>\n      <th>name</th>\n      <th>quiz1</th>\n      <th>quiz2</th>\n      <th>assignment</th>\n      <th>midsem</th>\n      <th>compre</th>\n    </tr>\n  </thead>\n  <tbody>\n    <tr>\n      <th>3</th>\n      <td>4</td>\n      <td>sadiq</td>\n      <td>5</td>\n      <td>5</td>\n      <td>5</td>\n      <td>23</td>\n      <td>11</td>\n    </tr>\n    <tr>\n      <th>4</th>\n      <td>5</td>\n      <td>pravin</td>\n      <td>5</td>\n      <td>5</td>\n      <td>10</td>\n      <td>22</td>\n      <td>34</td>\n    </tr>\n  </tbody>\n</table>\n</div>"
     },
     "metadata": {},
     "execution_count": 93
    }
   ],
   "source": [
    "df.tail(2)"
   ]
  },
  {
   "cell_type": "code",
   "execution_count": 98,
   "metadata": {},
   "outputs": [
    {
     "output_type": "execute_result",
     "data": {
      "text/plain": [
       "             id     quiz1     quiz2  assignment     midsem     compre\n",
       "count  5.000000  5.000000  5.000000    5.000000   5.000000   5.000000\n",
       "mean   3.000000  4.600000  4.600000    8.000000  16.000000  23.200000\n",
       "std    1.581139  0.894427  0.894427    2.738613   9.246621  14.549914\n",
       "min    1.000000  3.000000  3.000000    5.000000   2.000000   4.000000\n",
       "25%    2.000000  5.000000  5.000000    5.000000  11.000000  11.000000\n",
       "50%    3.000000  5.000000  5.000000   10.000000  22.000000  33.000000\n",
       "75%    4.000000  5.000000  5.000000   10.000000  22.000000  34.000000\n",
       "max    5.000000  5.000000  5.000000   10.000000  23.000000  34.000000"
      ],
      "text/html": "<div>\n<style scoped>\n    .dataframe tbody tr th:only-of-type {\n        vertical-align: middle;\n    }\n\n    .dataframe tbody tr th {\n        vertical-align: top;\n    }\n\n    .dataframe thead th {\n        text-align: right;\n    }\n</style>\n<table border=\"1\" class=\"dataframe\">\n  <thead>\n    <tr style=\"text-align: right;\">\n      <th></th>\n      <th>id</th>\n      <th>quiz1</th>\n      <th>quiz2</th>\n      <th>assignment</th>\n      <th>midsem</th>\n      <th>compre</th>\n    </tr>\n  </thead>\n  <tbody>\n    <tr>\n      <th>count</th>\n      <td>5.000000</td>\n      <td>5.000000</td>\n      <td>5.000000</td>\n      <td>5.000000</td>\n      <td>5.000000</td>\n      <td>5.000000</td>\n    </tr>\n    <tr>\n      <th>mean</th>\n      <td>3.000000</td>\n      <td>4.600000</td>\n      <td>4.600000</td>\n      <td>8.000000</td>\n      <td>16.000000</td>\n      <td>23.200000</td>\n    </tr>\n    <tr>\n      <th>std</th>\n      <td>1.581139</td>\n      <td>0.894427</td>\n      <td>0.894427</td>\n      <td>2.738613</td>\n      <td>9.246621</td>\n      <td>14.549914</td>\n    </tr>\n    <tr>\n      <th>min</th>\n      <td>1.000000</td>\n      <td>3.000000</td>\n      <td>3.000000</td>\n      <td>5.000000</td>\n      <td>2.000000</td>\n      <td>4.000000</td>\n    </tr>\n    <tr>\n      <th>25%</th>\n      <td>2.000000</td>\n      <td>5.000000</td>\n      <td>5.000000</td>\n      <td>5.000000</td>\n      <td>11.000000</td>\n      <td>11.000000</td>\n    </tr>\n    <tr>\n      <th>50%</th>\n      <td>3.000000</td>\n      <td>5.000000</td>\n      <td>5.000000</td>\n      <td>10.000000</td>\n      <td>22.000000</td>\n      <td>33.000000</td>\n    </tr>\n    <tr>\n      <th>75%</th>\n      <td>4.000000</td>\n      <td>5.000000</td>\n      <td>5.000000</td>\n      <td>10.000000</td>\n      <td>22.000000</td>\n      <td>34.000000</td>\n    </tr>\n    <tr>\n      <th>max</th>\n      <td>5.000000</td>\n      <td>5.000000</td>\n      <td>5.000000</td>\n      <td>10.000000</td>\n      <td>23.000000</td>\n      <td>34.000000</td>\n    </tr>\n  </tbody>\n</table>\n</div>"
     },
     "metadata": {},
     "execution_count": 98
    }
   ],
   "source": [
    "df.describe() \n",
    "# this is a method !!"
   ]
  },
  {
   "cell_type": "code",
   "execution_count": 95,
   "metadata": {},
   "outputs": [
    {
     "output_type": "execute_result",
     "data": {
      "text/plain": [
       "              id    name     quiz1     quiz2  assignment     midsem     compre\n",
       "count   5.000000       5  5.000000  5.000000    5.000000   5.000000   5.000000\n",
       "unique       NaN       4       NaN       NaN         NaN        NaN        NaN\n",
       "top          NaN  pravin       NaN       NaN         NaN        NaN        NaN\n",
       "freq         NaN       2       NaN       NaN         NaN        NaN        NaN\n",
       "mean    3.000000     NaN  4.600000  4.600000    8.000000  16.000000  23.200000\n",
       "std     1.581139     NaN  0.894427  0.894427    2.738613   9.246621  14.549914\n",
       "min     1.000000     NaN  3.000000  3.000000    5.000000   2.000000   4.000000\n",
       "25%     2.000000     NaN  5.000000  5.000000    5.000000  11.000000  11.000000\n",
       "50%     3.000000     NaN  5.000000  5.000000   10.000000  22.000000  33.000000\n",
       "75%     4.000000     NaN  5.000000  5.000000   10.000000  22.000000  34.000000\n",
       "max     5.000000     NaN  5.000000  5.000000   10.000000  23.000000  34.000000"
      ],
      "text/html": "<div>\n<style scoped>\n    .dataframe tbody tr th:only-of-type {\n        vertical-align: middle;\n    }\n\n    .dataframe tbody tr th {\n        vertical-align: top;\n    }\n\n    .dataframe thead th {\n        text-align: right;\n    }\n</style>\n<table border=\"1\" class=\"dataframe\">\n  <thead>\n    <tr style=\"text-align: right;\">\n      <th></th>\n      <th>id</th>\n      <th>name</th>\n      <th>quiz1</th>\n      <th>quiz2</th>\n      <th>assignment</th>\n      <th>midsem</th>\n      <th>compre</th>\n    </tr>\n  </thead>\n  <tbody>\n    <tr>\n      <th>count</th>\n      <td>5.000000</td>\n      <td>5</td>\n      <td>5.000000</td>\n      <td>5.000000</td>\n      <td>5.000000</td>\n      <td>5.000000</td>\n      <td>5.000000</td>\n    </tr>\n    <tr>\n      <th>unique</th>\n      <td>NaN</td>\n      <td>4</td>\n      <td>NaN</td>\n      <td>NaN</td>\n      <td>NaN</td>\n      <td>NaN</td>\n      <td>NaN</td>\n    </tr>\n    <tr>\n      <th>top</th>\n      <td>NaN</td>\n      <td>pravin</td>\n      <td>NaN</td>\n      <td>NaN</td>\n      <td>NaN</td>\n      <td>NaN</td>\n      <td>NaN</td>\n    </tr>\n    <tr>\n      <th>freq</th>\n      <td>NaN</td>\n      <td>2</td>\n      <td>NaN</td>\n      <td>NaN</td>\n      <td>NaN</td>\n      <td>NaN</td>\n      <td>NaN</td>\n    </tr>\n    <tr>\n      <th>mean</th>\n      <td>3.000000</td>\n      <td>NaN</td>\n      <td>4.600000</td>\n      <td>4.600000</td>\n      <td>8.000000</td>\n      <td>16.000000</td>\n      <td>23.200000</td>\n    </tr>\n    <tr>\n      <th>std</th>\n      <td>1.581139</td>\n      <td>NaN</td>\n      <td>0.894427</td>\n      <td>0.894427</td>\n      <td>2.738613</td>\n      <td>9.246621</td>\n      <td>14.549914</td>\n    </tr>\n    <tr>\n      <th>min</th>\n      <td>1.000000</td>\n      <td>NaN</td>\n      <td>3.000000</td>\n      <td>3.000000</td>\n      <td>5.000000</td>\n      <td>2.000000</td>\n      <td>4.000000</td>\n    </tr>\n    <tr>\n      <th>25%</th>\n      <td>2.000000</td>\n      <td>NaN</td>\n      <td>5.000000</td>\n      <td>5.000000</td>\n      <td>5.000000</td>\n      <td>11.000000</td>\n      <td>11.000000</td>\n    </tr>\n    <tr>\n      <th>50%</th>\n      <td>3.000000</td>\n      <td>NaN</td>\n      <td>5.000000</td>\n      <td>5.000000</td>\n      <td>10.000000</td>\n      <td>22.000000</td>\n      <td>33.000000</td>\n    </tr>\n    <tr>\n      <th>75%</th>\n      <td>4.000000</td>\n      <td>NaN</td>\n      <td>5.000000</td>\n      <td>5.000000</td>\n      <td>10.000000</td>\n      <td>22.000000</td>\n      <td>34.000000</td>\n    </tr>\n    <tr>\n      <th>max</th>\n      <td>5.000000</td>\n      <td>NaN</td>\n      <td>5.000000</td>\n      <td>5.000000</td>\n      <td>10.000000</td>\n      <td>23.000000</td>\n      <td>34.000000</td>\n    </tr>\n  </tbody>\n</table>\n</div>"
     },
     "metadata": {},
     "execution_count": 95
    }
   ],
   "source": [
    "df.describe(include='all') "
   ]
  },
  {
   "cell_type": "code",
   "execution_count": 99,
   "metadata": {},
   "outputs": [
    {
     "output_type": "execute_result",
     "data": {
      "text/plain": [
       "   id    name  quiz1  quiz2  assignment  midsem  compre\n",
       "0   1  pravin      5      5          10      22      34\n",
       "1   2   patil      5      5          10       2       4\n",
       "2   3    john      3      3           5      11      33\n",
       "3   4   sadiq      5      5           5      23      11\n",
       "4   5  pravin      5      5          10      22      34"
      ],
      "text/html": "<div>\n<style scoped>\n    .dataframe tbody tr th:only-of-type {\n        vertical-align: middle;\n    }\n\n    .dataframe tbody tr th {\n        vertical-align: top;\n    }\n\n    .dataframe thead th {\n        text-align: right;\n    }\n</style>\n<table border=\"1\" class=\"dataframe\">\n  <thead>\n    <tr style=\"text-align: right;\">\n      <th></th>\n      <th>id</th>\n      <th>name</th>\n      <th>quiz1</th>\n      <th>quiz2</th>\n      <th>assignment</th>\n      <th>midsem</th>\n      <th>compre</th>\n    </tr>\n  </thead>\n  <tbody>\n    <tr>\n      <th>0</th>\n      <td>1</td>\n      <td>pravin</td>\n      <td>5</td>\n      <td>5</td>\n      <td>10</td>\n      <td>22</td>\n      <td>34</td>\n    </tr>\n    <tr>\n      <th>1</th>\n      <td>2</td>\n      <td>patil</td>\n      <td>5</td>\n      <td>5</td>\n      <td>10</td>\n      <td>2</td>\n      <td>4</td>\n    </tr>\n    <tr>\n      <th>2</th>\n      <td>3</td>\n      <td>john</td>\n      <td>3</td>\n      <td>3</td>\n      <td>5</td>\n      <td>11</td>\n      <td>33</td>\n    </tr>\n    <tr>\n      <th>3</th>\n      <td>4</td>\n      <td>sadiq</td>\n      <td>5</td>\n      <td>5</td>\n      <td>5</td>\n      <td>23</td>\n      <td>11</td>\n    </tr>\n    <tr>\n      <th>4</th>\n      <td>5</td>\n      <td>pravin</td>\n      <td>5</td>\n      <td>5</td>\n      <td>10</td>\n      <td>22</td>\n      <td>34</td>\n    </tr>\n  </tbody>\n</table>\n</div>"
     },
     "metadata": {},
     "execution_count": 99
    }
   ],
   "source": [
    "df"
   ]
  },
  {
   "cell_type": "code",
   "execution_count": 100,
   "metadata": {},
   "outputs": [
    {
     "output_type": "execute_result",
     "data": {
      "text/plain": [
       "id                 1\n",
       "name          pravin\n",
       "quiz1              5\n",
       "quiz2              5\n",
       "assignment        10\n",
       "midsem            22\n",
       "compre            34\n",
       "Name: 0, dtype: object"
      ]
     },
     "metadata": {},
     "execution_count": 100
    }
   ],
   "source": [
    "df.iloc[0]"
   ]
  },
  {
   "cell_type": "code",
   "execution_count": 101,
   "metadata": {},
   "outputs": [
    {
     "output_type": "execute_result",
     "data": {
      "text/plain": [
       "'patil'"
      ]
     },
     "metadata": {},
     "execution_count": 101
    }
   ],
   "source": [
    "df.iloc[1, 1]"
   ]
  },
  {
   "cell_type": "code",
   "execution_count": 102,
   "metadata": {},
   "outputs": [
    {
     "output_type": "execute_result",
     "data": {
      "text/plain": [
       "id                 1\n",
       "name          pravin\n",
       "quiz1              5\n",
       "quiz2              5\n",
       "assignment        10\n",
       "midsem            22\n",
       "compre            34\n",
       "Name: 0, dtype: object"
      ]
     },
     "metadata": {},
     "execution_count": 102
    }
   ],
   "source": [
    "df.loc[0]"
   ]
  },
  {
   "source": [
    "For example, let’s say we search for the rows whose index is 1, 2 or 100. We will not get the first, second or the hundredth row here. Instead, we will get the results only if the name of any index is 1, 2 or 100."
   ],
   "cell_type": "markdown",
   "metadata": {}
  },
  {
   "cell_type": "code",
   "execution_count": 103,
   "metadata": {},
   "outputs": [
    {
     "output_type": "execute_result",
     "data": {
      "text/plain": [
       "2"
      ]
     },
     "metadata": {},
     "execution_count": 103
    }
   ],
   "source": [
    "df.loc[1, \"id\"]"
   ]
  },
  {
   "cell_type": "code",
   "execution_count": 104,
   "metadata": {},
   "outputs": [
    {
     "output_type": "execute_result",
     "data": {
      "text/plain": [
       "'patil'"
      ]
     },
     "metadata": {},
     "execution_count": 104
    }
   ],
   "source": [
    "df.loc[1, \"name\"]"
   ]
  },
  {
   "cell_type": "code",
   "execution_count": 105,
   "metadata": {},
   "outputs": [
    {
     "output_type": "execute_result",
     "data": {
      "text/plain": [
       "   id    name\n",
       "0   1  pravin\n",
       "1   2   patil\n",
       "2   3    john\n",
       "3   4   sadiq"
      ],
      "text/html": "<div>\n<style scoped>\n    .dataframe tbody tr th:only-of-type {\n        vertical-align: middle;\n    }\n\n    .dataframe tbody tr th {\n        vertical-align: top;\n    }\n\n    .dataframe thead th {\n        text-align: right;\n    }\n</style>\n<table border=\"1\" class=\"dataframe\">\n  <thead>\n    <tr style=\"text-align: right;\">\n      <th></th>\n      <th>id</th>\n      <th>name</th>\n    </tr>\n  </thead>\n  <tbody>\n    <tr>\n      <th>0</th>\n      <td>1</td>\n      <td>pravin</td>\n    </tr>\n    <tr>\n      <th>1</th>\n      <td>2</td>\n      <td>patil</td>\n    </tr>\n    <tr>\n      <th>2</th>\n      <td>3</td>\n      <td>john</td>\n    </tr>\n    <tr>\n      <th>3</th>\n      <td>4</td>\n      <td>sadiq</td>\n    </tr>\n  </tbody>\n</table>\n</div>"
     },
     "metadata": {},
     "execution_count": 105
    }
   ],
   "source": [
    "df.loc[0:3, [\"id\",\"name\"]]"
   ]
  },
  {
   "cell_type": "code",
   "execution_count": 106,
   "metadata": {},
   "outputs": [
    {
     "output_type": "execute_result",
     "data": {
      "text/plain": [
       "   id    name  quiz1  quiz2  assignment  midsem  compre\n",
       "0   1  pravin      5      5          10      22      34\n",
       "1   2   patil      5      5          10       2       4\n",
       "2   3    john      3      3           5      11      33\n",
       "3   4   sadiq      5      5           5      23      11\n",
       "4   5  pravin      5      5          10      22      34"
      ],
      "text/html": "<div>\n<style scoped>\n    .dataframe tbody tr th:only-of-type {\n        vertical-align: middle;\n    }\n\n    .dataframe tbody tr th {\n        vertical-align: top;\n    }\n\n    .dataframe thead th {\n        text-align: right;\n    }\n</style>\n<table border=\"1\" class=\"dataframe\">\n  <thead>\n    <tr style=\"text-align: right;\">\n      <th></th>\n      <th>id</th>\n      <th>name</th>\n      <th>quiz1</th>\n      <th>quiz2</th>\n      <th>assignment</th>\n      <th>midsem</th>\n      <th>compre</th>\n    </tr>\n  </thead>\n  <tbody>\n    <tr>\n      <th>0</th>\n      <td>1</td>\n      <td>pravin</td>\n      <td>5</td>\n      <td>5</td>\n      <td>10</td>\n      <td>22</td>\n      <td>34</td>\n    </tr>\n    <tr>\n      <th>1</th>\n      <td>2</td>\n      <td>patil</td>\n      <td>5</td>\n      <td>5</td>\n      <td>10</td>\n      <td>2</td>\n      <td>4</td>\n    </tr>\n    <tr>\n      <th>2</th>\n      <td>3</td>\n      <td>john</td>\n      <td>3</td>\n      <td>3</td>\n      <td>5</td>\n      <td>11</td>\n      <td>33</td>\n    </tr>\n    <tr>\n      <th>3</th>\n      <td>4</td>\n      <td>sadiq</td>\n      <td>5</td>\n      <td>5</td>\n      <td>5</td>\n      <td>23</td>\n      <td>11</td>\n    </tr>\n    <tr>\n      <th>4</th>\n      <td>5</td>\n      <td>pravin</td>\n      <td>5</td>\n      <td>5</td>\n      <td>10</td>\n      <td>22</td>\n      <td>34</td>\n    </tr>\n  </tbody>\n</table>\n</div>"
     },
     "metadata": {},
     "execution_count": 106
    }
   ],
   "source": [
    "df"
   ]
  },
  {
   "cell_type": "code",
   "execution_count": 121,
   "metadata": {},
   "outputs": [],
   "source": [
    "dicc = { \"id\" : [1,2,3,4], \"name\" : [\"a\",\"b\",\"c\",\"d\"] }"
   ]
  },
  {
   "cell_type": "code",
   "execution_count": 123,
   "metadata": {},
   "outputs": [],
   "source": [
    "dfff = pd.DataFrame(dicc, index=['a','b','c','d'])"
   ]
  },
  {
   "cell_type": "code",
   "execution_count": 124,
   "metadata": {},
   "outputs": [
    {
     "output_type": "execute_result",
     "data": {
      "text/plain": [
       "   id name\n",
       "a   1    a\n",
       "b   2    b\n",
       "c   3    c\n",
       "d   4    d"
      ],
      "text/html": "<div>\n<style scoped>\n    .dataframe tbody tr th:only-of-type {\n        vertical-align: middle;\n    }\n\n    .dataframe tbody tr th {\n        vertical-align: top;\n    }\n\n    .dataframe thead th {\n        text-align: right;\n    }\n</style>\n<table border=\"1\" class=\"dataframe\">\n  <thead>\n    <tr style=\"text-align: right;\">\n      <th></th>\n      <th>id</th>\n      <th>name</th>\n    </tr>\n  </thead>\n  <tbody>\n    <tr>\n      <th>a</th>\n      <td>1</td>\n      <td>a</td>\n    </tr>\n    <tr>\n      <th>b</th>\n      <td>2</td>\n      <td>b</td>\n    </tr>\n    <tr>\n      <th>c</th>\n      <td>3</td>\n      <td>c</td>\n    </tr>\n    <tr>\n      <th>d</th>\n      <td>4</td>\n      <td>d</td>\n    </tr>\n  </tbody>\n</table>\n</div>"
     },
     "metadata": {},
     "execution_count": 124
    }
   ],
   "source": [
    "dfff"
   ]
  },
  {
   "cell_type": "code",
   "execution_count": 128,
   "metadata": {},
   "outputs": [
    {
     "output_type": "execute_result",
     "data": {
      "text/plain": [
       "id      1\n",
       "name    a\n",
       "Name: a, dtype: object"
      ]
     },
     "metadata": {},
     "execution_count": 128
    }
   ],
   "source": [
    "dfff.loc['a'] # works on row id."
   ]
  },
  {
   "cell_type": "code",
   "execution_count": 129,
   "metadata": {},
   "outputs": [
    {
     "output_type": "execute_result",
     "data": {
      "text/plain": [
       "id      3\n",
       "name    c\n",
       "Name: c, dtype: object"
      ]
     },
     "metadata": {},
     "execution_count": 129
    }
   ],
   "source": [
    "# dfff.loc[1]  \n",
    "dfff.iloc[2]  # works on index"
   ]
  },
  {
   "cell_type": "code",
   "execution_count": 130,
   "metadata": {},
   "outputs": [
    {
     "output_type": "execute_result",
     "data": {
      "text/plain": [
       "   id    name  quiz1  quiz2  assignment  midsem  compre\n",
       "0   1  pravin      5      5          10      22      34\n",
       "1   2   patil      5      5          10       2       4\n",
       "3   4   sadiq      5      5           5      23      11\n",
       "4   5  pravin      5      5          10      22      34"
      ],
      "text/html": "<div>\n<style scoped>\n    .dataframe tbody tr th:only-of-type {\n        vertical-align: middle;\n    }\n\n    .dataframe tbody tr th {\n        vertical-align: top;\n    }\n\n    .dataframe thead th {\n        text-align: right;\n    }\n</style>\n<table border=\"1\" class=\"dataframe\">\n  <thead>\n    <tr style=\"text-align: right;\">\n      <th></th>\n      <th>id</th>\n      <th>name</th>\n      <th>quiz1</th>\n      <th>quiz2</th>\n      <th>assignment</th>\n      <th>midsem</th>\n      <th>compre</th>\n    </tr>\n  </thead>\n  <tbody>\n    <tr>\n      <th>0</th>\n      <td>1</td>\n      <td>pravin</td>\n      <td>5</td>\n      <td>5</td>\n      <td>10</td>\n      <td>22</td>\n      <td>34</td>\n    </tr>\n    <tr>\n      <th>1</th>\n      <td>2</td>\n      <td>patil</td>\n      <td>5</td>\n      <td>5</td>\n      <td>10</td>\n      <td>2</td>\n      <td>4</td>\n    </tr>\n    <tr>\n      <th>3</th>\n      <td>4</td>\n      <td>sadiq</td>\n      <td>5</td>\n      <td>5</td>\n      <td>5</td>\n      <td>23</td>\n      <td>11</td>\n    </tr>\n    <tr>\n      <th>4</th>\n      <td>5</td>\n      <td>pravin</td>\n      <td>5</td>\n      <td>5</td>\n      <td>10</td>\n      <td>22</td>\n      <td>34</td>\n    </tr>\n  </tbody>\n</table>\n</div>"
     },
     "metadata": {},
     "execution_count": 130
    }
   ],
   "source": [
    "df[df[\"quiz1\"] > 3]"
   ]
  },
  {
   "cell_type": "code",
   "execution_count": 131,
   "metadata": {},
   "outputs": [
    {
     "output_type": "execute_result",
     "data": {
      "text/plain": [
       "0    5\n",
       "1    5\n",
       "2    3\n",
       "3    5\n",
       "4    5\n",
       "Name: quiz1, dtype: int64"
      ]
     },
     "metadata": {},
     "execution_count": 131
    }
   ],
   "source": [
    "df[\"quiz1\"]"
   ]
  },
  {
   "cell_type": "code",
   "execution_count": 132,
   "metadata": {},
   "outputs": [
    {
     "output_type": "execute_result",
     "data": {
      "text/plain": [
       "0    5\n",
       "1    5\n",
       "2    3\n",
       "3    5\n",
       "4    5\n",
       "Name: quiz1, dtype: int64"
      ]
     },
     "metadata": {},
     "execution_count": 132
    }
   ],
   "source": [
    "df.quiz1"
   ]
  },
  {
   "cell_type": "code",
   "execution_count": 133,
   "metadata": {},
   "outputs": [
    {
     "output_type": "execute_result",
     "data": {
      "text/plain": [
       "   id    name  quiz1  quiz2  assignment  midsem  compre\n",
       "0   1  pravin      5      5          10      22      34\n",
       "1   2   patil      5      5          10       2       4\n",
       "4   5  pravin      5      5          10      22      34"
      ],
      "text/html": "<div>\n<style scoped>\n    .dataframe tbody tr th:only-of-type {\n        vertical-align: middle;\n    }\n\n    .dataframe tbody tr th {\n        vertical-align: top;\n    }\n\n    .dataframe thead th {\n        text-align: right;\n    }\n</style>\n<table border=\"1\" class=\"dataframe\">\n  <thead>\n    <tr style=\"text-align: right;\">\n      <th></th>\n      <th>id</th>\n      <th>name</th>\n      <th>quiz1</th>\n      <th>quiz2</th>\n      <th>assignment</th>\n      <th>midsem</th>\n      <th>compre</th>\n    </tr>\n  </thead>\n  <tbody>\n    <tr>\n      <th>0</th>\n      <td>1</td>\n      <td>pravin</td>\n      <td>5</td>\n      <td>5</td>\n      <td>10</td>\n      <td>22</td>\n      <td>34</td>\n    </tr>\n    <tr>\n      <th>1</th>\n      <td>2</td>\n      <td>patil</td>\n      <td>5</td>\n      <td>5</td>\n      <td>10</td>\n      <td>2</td>\n      <td>4</td>\n    </tr>\n    <tr>\n      <th>4</th>\n      <td>5</td>\n      <td>pravin</td>\n      <td>5</td>\n      <td>5</td>\n      <td>10</td>\n      <td>22</td>\n      <td>34</td>\n    </tr>\n  </tbody>\n</table>\n</div>"
     },
     "metadata": {},
     "execution_count": 133
    }
   ],
   "source": [
    "df[(df.quiz1 > 3) & (df.assignment > 7)]"
   ]
  },
  {
   "cell_type": "code",
   "execution_count": 134,
   "metadata": {},
   "outputs": [
    {
     "output_type": "execute_result",
     "data": {
      "text/plain": [
       "   id    name  quiz1  quiz2  assignment  midsem  compre\n",
       "0   1  pravin      5      5          10      22      34\n",
       "1   2   patil      5      5          10       2       4\n",
       "3   4   sadiq      5      5           5      23      11\n",
       "4   5  pravin      5      5          10      22      34"
      ],
      "text/html": "<div>\n<style scoped>\n    .dataframe tbody tr th:only-of-type {\n        vertical-align: middle;\n    }\n\n    .dataframe tbody tr th {\n        vertical-align: top;\n    }\n\n    .dataframe thead th {\n        text-align: right;\n    }\n</style>\n<table border=\"1\" class=\"dataframe\">\n  <thead>\n    <tr style=\"text-align: right;\">\n      <th></th>\n      <th>id</th>\n      <th>name</th>\n      <th>quiz1</th>\n      <th>quiz2</th>\n      <th>assignment</th>\n      <th>midsem</th>\n      <th>compre</th>\n    </tr>\n  </thead>\n  <tbody>\n    <tr>\n      <th>0</th>\n      <td>1</td>\n      <td>pravin</td>\n      <td>5</td>\n      <td>5</td>\n      <td>10</td>\n      <td>22</td>\n      <td>34</td>\n    </tr>\n    <tr>\n      <th>1</th>\n      <td>2</td>\n      <td>patil</td>\n      <td>5</td>\n      <td>5</td>\n      <td>10</td>\n      <td>2</td>\n      <td>4</td>\n    </tr>\n    <tr>\n      <th>3</th>\n      <td>4</td>\n      <td>sadiq</td>\n      <td>5</td>\n      <td>5</td>\n      <td>5</td>\n      <td>23</td>\n      <td>11</td>\n    </tr>\n    <tr>\n      <th>4</th>\n      <td>5</td>\n      <td>pravin</td>\n      <td>5</td>\n      <td>5</td>\n      <td>10</td>\n      <td>22</td>\n      <td>34</td>\n    </tr>\n  </tbody>\n</table>\n</div>"
     },
     "metadata": {},
     "execution_count": 134
    }
   ],
   "source": [
    "df[(df.quiz1 > 3) | (df.assignment > 7)]"
   ]
  },
  {
   "cell_type": "code",
   "execution_count": 135,
   "metadata": {},
   "outputs": [
    {
     "output_type": "execute_result",
     "data": {
      "text/plain": [
       "   id    name  quiz1  quiz2  assignment  midsem  compre\n",
       "0   1  pravin      5      5          10      22      34\n",
       "1   2   patil      5      5          10       2       4\n",
       "2   3    john      3      3           5      11      33\n",
       "4   5  pravin      5      5          10      22      34"
      ],
      "text/html": "<div>\n<style scoped>\n    .dataframe tbody tr th:only-of-type {\n        vertical-align: middle;\n    }\n\n    .dataframe tbody tr th {\n        vertical-align: top;\n    }\n\n    .dataframe thead th {\n        text-align: right;\n    }\n</style>\n<table border=\"1\" class=\"dataframe\">\n  <thead>\n    <tr style=\"text-align: right;\">\n      <th></th>\n      <th>id</th>\n      <th>name</th>\n      <th>quiz1</th>\n      <th>quiz2</th>\n      <th>assignment</th>\n      <th>midsem</th>\n      <th>compre</th>\n    </tr>\n  </thead>\n  <tbody>\n    <tr>\n      <th>0</th>\n      <td>1</td>\n      <td>pravin</td>\n      <td>5</td>\n      <td>5</td>\n      <td>10</td>\n      <td>22</td>\n      <td>34</td>\n    </tr>\n    <tr>\n      <th>1</th>\n      <td>2</td>\n      <td>patil</td>\n      <td>5</td>\n      <td>5</td>\n      <td>10</td>\n      <td>2</td>\n      <td>4</td>\n    </tr>\n    <tr>\n      <th>2</th>\n      <td>3</td>\n      <td>john</td>\n      <td>3</td>\n      <td>3</td>\n      <td>5</td>\n      <td>11</td>\n      <td>33</td>\n    </tr>\n    <tr>\n      <th>4</th>\n      <td>5</td>\n      <td>pravin</td>\n      <td>5</td>\n      <td>5</td>\n      <td>10</td>\n      <td>22</td>\n      <td>34</td>\n    </tr>\n  </tbody>\n</table>\n</div>"
     },
     "metadata": {},
     "execution_count": 135
    }
   ],
   "source": [
    "df[(df.quiz1 == 3) | (df.assignment > 7)]"
   ]
  },
  {
   "cell_type": "code",
   "execution_count": 136,
   "metadata": {},
   "outputs": [
    {
     "output_type": "execute_result",
     "data": {
      "text/plain": [
       "   id    name  quiz1  quiz2  assignment  midsem  compre\n",
       "0   1  pravin      5      5          10      22      34\n",
       "1   2   patil      5      5          10       2       4\n",
       "3   4   sadiq      5      5           5      23      11\n",
       "4   5  pravin      5      5          10      22      34"
      ],
      "text/html": "<div>\n<style scoped>\n    .dataframe tbody tr th:only-of-type {\n        vertical-align: middle;\n    }\n\n    .dataframe tbody tr th {\n        vertical-align: top;\n    }\n\n    .dataframe thead th {\n        text-align: right;\n    }\n</style>\n<table border=\"1\" class=\"dataframe\">\n  <thead>\n    <tr style=\"text-align: right;\">\n      <th></th>\n      <th>id</th>\n      <th>name</th>\n      <th>quiz1</th>\n      <th>quiz2</th>\n      <th>assignment</th>\n      <th>midsem</th>\n      <th>compre</th>\n    </tr>\n  </thead>\n  <tbody>\n    <tr>\n      <th>0</th>\n      <td>1</td>\n      <td>pravin</td>\n      <td>5</td>\n      <td>5</td>\n      <td>10</td>\n      <td>22</td>\n      <td>34</td>\n    </tr>\n    <tr>\n      <th>1</th>\n      <td>2</td>\n      <td>patil</td>\n      <td>5</td>\n      <td>5</td>\n      <td>10</td>\n      <td>2</td>\n      <td>4</td>\n    </tr>\n    <tr>\n      <th>3</th>\n      <td>4</td>\n      <td>sadiq</td>\n      <td>5</td>\n      <td>5</td>\n      <td>5</td>\n      <td>23</td>\n      <td>11</td>\n    </tr>\n    <tr>\n      <th>4</th>\n      <td>5</td>\n      <td>pravin</td>\n      <td>5</td>\n      <td>5</td>\n      <td>10</td>\n      <td>22</td>\n      <td>34</td>\n    </tr>\n  </tbody>\n</table>\n</div>"
     },
     "metadata": {},
     "execution_count": 136
    }
   ],
   "source": [
    "df.query('quiz1 > 3')"
   ]
  },
  {
   "cell_type": "code",
   "execution_count": null,
   "metadata": {},
   "outputs": [],
   "source": []
  }
 ],
 "metadata": {
  "kernelspec": {
   "name": "python388jvsc74a57bd03ae6704ca093231883b337ad991d317466d950f3ee6db3984e8302e2f1397ca7",
   "display_name": "Python 3.8.8 64-bit ('dseclpfds': conda)"
  },
  "language_info": {
   "codemirror_mode": {
    "name": "ipython",
    "version": 3
   },
   "file_extension": ".py",
   "mimetype": "text/x-python",
   "name": "python",
   "nbconvert_exporter": "python",
   "pygments_lexer": "ipython3",
   "version": "3.8.8"
  }
 },
 "nbformat": 4,
 "nbformat_minor": 4
}