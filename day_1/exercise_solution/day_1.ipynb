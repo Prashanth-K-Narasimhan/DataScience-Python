{
 "metadata": {
  "language_info": {
   "codemirror_mode": {
    "name": "ipython",
    "version": 3
   },
   "file_extension": ".py",
   "mimetype": "text/x-python",
   "name": "python",
   "nbconvert_exporter": "python",
   "pygments_lexer": "ipython3",
   "version": "3.8.8"
  },
  "orig_nbformat": 2,
  "kernelspec": {
   "name": "python388jvsc74a57bd03ae6704ca093231883b337ad991d317466d950f3ee6db3984e8302e2f1397ca7",
   "display_name": "Python 3.8.8 64-bit ('dseclpfds': conda)"
  },
  "metadata": {
   "interpreter": {
    "hash": "3ae6704ca093231883b337ad991d317466d950f3ee6db3984e8302e2f1397ca7"
   }
  }
 },
 "nbformat": 4,
 "nbformat_minor": 2,
 "cells": [
  {
   "source": [
    "### __DSECLPFDS  - Python Exercises for Practice (S1 to S3)__\n",
    "\n",
    "Instructions: Do not use any Python libraries and write the following codes from scratch for best learning/ revision."
   ],
   "cell_type": "markdown",
   "metadata": {}
  },
  {
   "source": [
    "1. Given a number, find the sum of its digits. Take the number as an input from the user."
   ],
   "cell_type": "markdown",
   "metadata": {}
  },
  {
   "cell_type": "code",
   "execution_count": 48,
   "metadata": {},
   "outputs": [
    {
     "output_type": "stream",
     "name": "stdout",
     "text": [
      "[1, 2, 3]\n6\n"
     ]
    }
   ],
   "source": [
    "try:\n",
    "    input_data = input(\"Enter a number : \")\n",
    "    test_list = list(map(int, input_data))\n",
    "    print(test_list)\n",
    "    print(sum(test_list))\n",
    "except:\n",
    "    print(\"Pls enter digits!\")\n"
   ]
  },
  {
   "source": [
    "2. Given a number, check whether the given number is an Armstrong number or not. A positive integer is called an Armstrong number of order n if:\n",
    "\n",
    "        abcd... = an + bn + cn + dn + ...\n",
    "        \n",
    "        Example: 153 = 1*1*1 + 5*5*5 + 3*3*3\n",
    "        \n",
    "        153 is an Armstrong number of order 3. \n",
    "        Inputs from the user will be number and order n."
   ],
   "cell_type": "markdown",
   "metadata": {}
  },
  {
   "cell_type": "code",
   "execution_count": 45,
   "metadata": {},
   "outputs": [],
   "source": [
    "# A recursive function to get a^b\n",
    "def pow(a,b):\n",
    "     \n",
    "    if(b):\n",
    "        return multiply(a, pow(a, b-1));\n",
    "    else:\n",
    "        return 1;\n",
    "      \n",
    "# A recursive function to get x*y\n",
    "def multiply(x, y):\n",
    "     \n",
    "    if (y):\n",
    "        return (x + multiply(x, y-1));\n",
    "    else:\n",
    "        return 0;"
   ]
  },
  {
   "cell_type": "code",
   "execution_count": 52,
   "metadata": {},
   "outputs": [
    {
     "output_type": "stream",
     "name": "stdout",
     "text": [
      "you found an Armstrong number!!\n"
     ]
    }
   ],
   "source": [
    "import math\n",
    "\n",
    "try:\n",
    "    input_value = input(\"Enter your number : \")\n",
    "    number = list(map(int, input_value))\n",
    "    # output = sum(list(map(lambda x: math.pow(x, len(number)),number)))  # this uses the math package.\n",
    "    output = sum(list(map(lambda x: pow(x, len(number)),number)))  # uses the recursion functions above!!\n",
    "\n",
    "    if output == int(input_value) : \n",
    "        print(\"you found an Armstrong number!!\") \n",
    "    else :\n",
    "        print(\"Not an Armstrong number.\")\n",
    "except:\n",
    "    print(\"pls enter a digit~!\")"
   ]
  },
  {
   "source": [
    "3. Given a string, write a python function to check if it is palindrome or not. A string is said to be palindrome if the reverse of the string is the same as string. For example, “malayalam” is a palindrome, but “music” is not a palindrome."
   ],
   "cell_type": "markdown",
   "metadata": {}
  },
  {
   "cell_type": "code",
   "execution_count": 55,
   "metadata": {},
   "outputs": [
    {
     "output_type": "stream",
     "name": "stdout",
     "text": [
      "is a palindrome!!\n"
     ]
    }
   ],
   "source": [
    "input_string = input(\"Enter a String : \")\n",
    "\n",
    "if(input_string == input_string[::-1]) :\n",
    "    print(\"is a palindrome!!\")\n",
    "else :\n",
    "    print(\"not a palindrome.\")\n"
   ]
  },
  {
   "source": [
    "4. Given an array which may contain duplicates, print all elements and their frequencies."
   ],
   "cell_type": "markdown",
   "metadata": {}
  },
  {
   "cell_type": "code",
   "execution_count": 69,
   "metadata": {},
   "outputs": [
    {
     "output_type": "stream",
     "name": "stdout",
     "text": [
      "{1: 3, 6: 2, 43: 1, 45: 1, 23: 2, 445: 2}\n"
     ]
    }
   ],
   "source": [
    "input_list = [1,23,445,6,1,43,45,23,445,6,1]\n",
    "input_set = set(input_list)\n",
    "output_list = dict(map(lambda x: (x, input_list.count(x)), input_set))\n",
    "print(output_list)"
   ]
  },
  {
   "source": [
    "5. Given a number n, write a function to print all prime factors of n. For example, if the input number is 12, then output should be “2 2 3”."
   ],
   "cell_type": "markdown",
   "metadata": {}
  },
  {
   "cell_type": "code",
   "execution_count": 92,
   "metadata": {},
   "outputs": [
    {
     "output_type": "stream",
     "name": "stdout",
     "text": [
      "2 11 "
     ]
    }
   ],
   "source": [
    "def factors(n, i=2):\n",
    "    if (i <= n):\n",
    "        # print((i,n))\n",
    "        if (n % i == 0):\n",
    "            print(i, end = \" \");\n",
    "            factors(n / i, i)\n",
    "        else:\n",
    "            factors(n, i + 1);\n",
    "\n",
    "if __name__ == '__main__':\n",
    "    number = int(input(\"Enter your number : \"));\n",
    "    factors(number);"
   ]
  },
  {
   "cell_type": "code",
   "execution_count": null,
   "metadata": {},
   "outputs": [],
   "source": []
  }
 ]
}