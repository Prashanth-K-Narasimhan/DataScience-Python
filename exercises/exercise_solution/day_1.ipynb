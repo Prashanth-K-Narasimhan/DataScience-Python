{
 "metadata": {
  "language_info": {
   "codemirror_mode": {
    "name": "ipython",
    "version": 3
   },
   "file_extension": ".py",
   "mimetype": "text/x-python",
   "name": "python",
   "nbconvert_exporter": "python",
   "pygments_lexer": "ipython3",
   "version": "3.8.8"
  },
  "orig_nbformat": 2,
  "kernelspec": {
   "name": "python388jvsc74a57bd03ae6704ca093231883b337ad991d317466d950f3ee6db3984e8302e2f1397ca7",
   "display_name": "Python 3.8.8 64-bit ('dseclpfds': conda)"
  },
  "metadata": {
   "interpreter": {
    "hash": "3ae6704ca093231883b337ad991d317466d950f3ee6db3984e8302e2f1397ca7"
   }
  }
 },
 "nbformat": 4,
 "nbformat_minor": 2,
 "cells": [
  {
   "source": [
    "### __DSECLPFDS  - Python Exercises for Practice (S1 to S3)__\n",
    "\n",
    "Instructions: Do not use any Python libraries and write the following codes from scratch for best learning/ revision."
   ],
   "cell_type": "markdown",
   "metadata": {}
  },
  {
   "source": [
    "1. Given a number, find the sum of its digits. Take the number as an input from the user."
   ],
   "cell_type": "markdown",
   "metadata": {}
  },
  {
   "cell_type": "code",
   "execution_count": 48,
   "metadata": {},
   "outputs": [
    {
     "output_type": "stream",
     "name": "stdout",
     "text": [
      "[1, 2, 3]\n6\n"
     ]
    }
   ],
   "source": [
    "try:\n",
    "    input_data = input(\"Enter a number : \")\n",
    "    test_list = list(map(int, input_data))\n",
    "    print(test_list)\n",
    "    print(sum(test_list))\n",
    "except:\n",
    "    print(\"Pls enter digits!\")\n"
   ]
  },
  {
   "source": [
    "2. Given a number, check whether the given number is an Armstrong number or not. A positive integer is called an Armstrong number of order n if:\n",
    "\n",
    "        abcd... = an + bn + cn + dn + ...\n",
    "        \n",
    "        Example: 153 = 1*1*1 + 5*5*5 + 3*3*3\n",
    "        \n",
    "        153 is an Armstrong number of order 3. \n",
    "        Inputs from the user will be number and order n."
   ],
   "cell_type": "markdown",
   "metadata": {}
  },
  {
   "cell_type": "code",
   "execution_count": 45,
   "metadata": {},
   "outputs": [],
   "source": [
    "# A recursive function to get a^b\n",
    "def pow(a,b):\n",
    "     \n",
    "    if(b):\n",
    "        return multiply(a, pow(a, b-1));\n",
    "    else:\n",
    "        return 1;\n",
    "      \n",
    "# A recursive function to get x*y\n",
    "def multiply(x, y):\n",
    "     \n",
    "    if (y):\n",
    "        return (x + multiply(x, y-1));\n",
    "    else:\n",
    "        return 0;"
   ]
  },
  {
   "cell_type": "code",
   "execution_count": 52,
   "metadata": {},
   "outputs": [
    {
     "output_type": "stream",
     "name": "stdout",
     "text": [
      "you found an Armstrong number!!\n"
     ]
    }
   ],
   "source": [
    "import math\n",
    "\n",
    "try:\n",
    "    input_value = input(\"Enter your number : \")\n",
    "    number = list(map(int, input_value))\n",
    "    # output = sum(list(map(lambda x: math.pow(x, len(number)),number)))  # this uses the math package.\n",
    "    output = sum(list(map(lambda x: pow(x, len(number)),number)))  # uses the recursion functions above!!\n",
    "\n",
    "    if output == int(input_value) : \n",
    "        print(\"you found an Armstrong number!!\") \n",
    "    else :\n",
    "        print(\"Not an Armstrong number.\")\n",
    "except:\n",
    "    print(\"pls enter a digit~!\")"
   ]
  },
  {
   "source": [
    "3. Given a string, write a python function to check if it is palindrome or not. A string is said to be palindrome if the reverse of the string is the same as string. For example, “malayalam” is a palindrome, but “music” is not a palindrome."
   ],
   "cell_type": "markdown",
   "metadata": {}
  },
  {
   "cell_type": "code",
   "execution_count": 55,
   "metadata": {},
   "outputs": [
    {
     "output_type": "stream",
     "name": "stdout",
     "text": [
      "is a palindrome!!\n"
     ]
    }
   ],
   "source": [
    "input_string = input(\"Enter a String : \")\n",
    "\n",
    "if(input_string == input_string[::-1]) :\n",
    "    print(\"is a palindrome!!\")\n",
    "else :\n",
    "    print(\"not a palindrome.\")\n"
   ]
  },
  {
   "source": [
    "4. Given an array which may contain duplicates, print all elements and their frequencies."
   ],
   "cell_type": "markdown",
   "metadata": {}
  },
  {
   "cell_type": "code",
   "execution_count": 69,
   "metadata": {},
   "outputs": [
    {
     "output_type": "stream",
     "name": "stdout",
     "text": [
      "{1: 3, 6: 2, 43: 1, 45: 1, 23: 2, 445: 2}\n"
     ]
    }
   ],
   "source": [
    "input_list = [1,23,445,6,1,43,45,23,445,6,1]\n",
    "input_set = set(input_list)\n",
    "output_list = dict(map(lambda x: (x, input_list.count(x)), input_set))\n",
    "print(output_list)"
   ]
  },
  {
   "source": [
    "5. Given a number n, write a function to print all prime factors of n. For example, if the input number is 12, then output should be “2 2 3”."
   ],
   "cell_type": "markdown",
   "metadata": {}
  },
  {
   "cell_type": "code",
   "execution_count": 92,
   "metadata": {},
   "outputs": [
    {
     "output_type": "stream",
     "name": "stdout",
     "text": [
      "2 11 "
     ]
    }
   ],
   "source": [
    "def factors(n, i=2):\n",
    "    if (i <= n):\n",
    "        # print((i,n))\n",
    "        if (n % i == 0):\n",
    "            print(i, end = \" \");\n",
    "            factors(n / i, i)\n",
    "        else:\n",
    "            factors(n, i + 1);\n",
    "\n",
    "if __name__ == '__main__':\n",
    "    number = int(input(\"Enter your number : \"));\n",
    "    factors(number);"
   ]
  },
  {
   "source": [
    "6. Given two numbers n and r, find the value of nCr  (binomial coefficient: nCr = (n!) / (r! * (n-r)!))"
   ],
   "cell_type": "markdown",
   "metadata": {}
  },
  {
   "cell_type": "code",
   "execution_count": 98,
   "metadata": {},
   "outputs": [
    {
     "output_type": "stream",
     "name": "stdout",
     "text": [
      "3628800\n10.0\n"
     ]
    }
   ],
   "source": [
    "n = 5\n",
    "r = 2\n",
    "\n",
    "def factorial(n):\n",
    "    if(n>1):\n",
    "        return n * factorial(n-1)\n",
    "    else:\n",
    "        return 1\n",
    "\n",
    "print(factorial(10))\n",
    "\n",
    "nCr = factorial(n) / (factorial(r) * factorial(n-r))\n",
    "print(nCr)"
   ]
  },
  {
   "source": [
    "7. Searching: Given a sorted array arr[] of n elements, write a function to search a given element x in arr[]. Do it using linear and binary search techniques."
   ],
   "cell_type": "markdown",
   "metadata": {}
  },
  {
   "cell_type": "code",
   "execution_count": 4,
   "metadata": {},
   "outputs": [],
   "source": [
    "city = [\"Mercedes\",\"Sint-Amandsberg\",\"Lago Ranco\",\"Bouge\",\"Bursa\",\"Topeka\",\"Laakirchen\",\"Galashiels\",\"Queilén\",\"Araban\",\"La Paz\",\"Leugnies\",\"Notre-Dame-de-la-Salette\",\"Yeongcheon\",\"Napier\",\"Abergavenny\",\"Quirihue\",\"Piana degli Albanesi\",\"Orsara di Puglia\",\"Detroit\",\"Frederick\",\"Follina\",\"Marchihue\",\"Bridgeport\",\"Chillán Viejo\",\"Central Jakarta\",\"Mulchén\",\"Rimouski\",\"Bedollo\",\"Uppingham. Cottesmore\",\"Austin\",\"Heestert\",\"Nanterre\",\"Macclesfield\",\"Huaraz\",\"Abergavenny\",\"Westlock\",\"Coevorden\",\"Mont-de-Marsan\",\"Madiun\",\"Oberursel\",\"Grandrieu\",\"Uitbergen\",\"Umerkot\",\"Ekeren\",\"Hudiksvall\",\"Uijeongbu\",\"Burin\",\"Bally\",\"Seosan\",\"Königs Wusterhausen\",\"Pitrufquén\",\"Leernes\",\"Springdale\",\"Lasnigo\",\"Chittoor\",\"Incourt\",\"Lafayette\",\"Piovene Rocchette\",\"Soledad\",\"Bama\",\"Linkhout\",\"Jecheon\",\"Moga\",\"Rio Marina\",\"Valley East\",\"Barasat\",\"Springfield\",\"Thurso\",\"Bathurst\",\"HavrŽ\",\"Cap-Rouge\",\"Maiolati Spontini\",\"Macklin\",\"Solihull\",\"Drachten\",\"Weyburn\",\"Dilbeek\",\"Olympia\",\"Rio nell'Elba\",\"Kailua\",\"Vejalpur\",\"Kasteelbrakel\",\"Noorderwijk\",\"Río Verde\",\"Bruderheim\",\"Lunel\",\"Airdrie\",\"Metro\",\"Quintero\",\"Königs Wusterhausen\",\"Płock\",\"Pointe-aux-Trembles\",\"Castelmarte\",\"Hoeke\",\"Châlons-en-Champagne\",\"Denver\",\"Rimouski\",\"Vereya\"]"
   ]
  },
  {
   "cell_type": "code",
   "execution_count": 11,
   "metadata": {},
   "outputs": [
    {
     "output_type": "stream",
     "name": "stdout",
     "text": [
      "['Abergavenny', 'Abergavenny', 'Airdrie', 'Araban', 'Austin', 'Bally', 'Bama', 'Barasat', 'Bathurst', 'Bedollo', 'Bouge', 'Bridgeport', 'Bruderheim', 'Burin', 'Bursa', 'Cap-Rouge', 'Castelmarte', 'Central Jakarta', 'Chillán Viejo', 'Chittoor', 'Châlons-en-Champagne', 'Coevorden', 'Denver', 'Detroit', 'Dilbeek', 'Drachten', 'Ekeren', 'Follina', 'Frederick', 'Galashiels', 'Grandrieu', 'HavrŽ', 'Heestert', 'Hoeke', 'Huaraz', 'Hudiksvall', 'Incourt', 'Jecheon', 'Kailua', 'Kasteelbrakel', 'Königs Wusterhausen', 'Königs Wusterhausen', 'La Paz', 'Laakirchen', 'Lafayette', 'Lago Ranco', 'Lasnigo', 'Leernes', 'Leugnies', 'Linkhout', 'Lunel', 'Macclesfield', 'Macklin', 'Madiun', 'Maiolati Spontini', 'Marchihue', 'Mercedes', 'Metro', 'Moga', 'Mont-de-Marsan', 'Mulchén', 'Nanterre', 'Napier', 'Noorderwijk', 'Notre-Dame-de-la-Salette', 'Oberursel', 'Olympia', 'Orsara di Puglia', 'Piana degli Albanesi', 'Piovene Rocchette', 'Pitrufquén', 'Pointe-aux-Trembles', 'Płock', 'Queilén', 'Quintero', 'Quirihue', 'Rimouski', 'Rimouski', 'Rio Marina', \"Rio nell'Elba\", 'Río Verde', 'Seosan', 'Sint-Amandsberg', 'Soledad', 'Solihull', 'Springdale', 'Springfield', 'Thurso', 'Topeka', 'Uijeongbu', 'Uitbergen', 'Umerkot', 'Uppingham. Cottesmore', 'Valley East', 'Vejalpur', 'Vereya', 'Westlock', 'Weyburn', 'Yeongcheon']\n"
     ]
    }
   ],
   "source": [
    "# city.sort(key=str.lower) # the key doesn't do what you \"THINK\" its does..\n",
    "city.sort()\n",
    "print(city)"
   ]
  },
  {
   "cell_type": "code",
   "execution_count": 16,
   "metadata": {},
   "outputs": [
    {
     "output_type": "stream",
     "name": "stdout",
     "text": [
      "Chittoor is located at index : 19 of the city list.\n248 µs ± 0 ns per loop (mean ± std. dev. of 1 run, 1 loop each)\n"
     ]
    }
   ],
   "source": [
    "%%timeit -r 1 -n 1 # %%timeit tracks the runtime of the cell\n",
    "def linear(searchList, inputValue) :\n",
    "    for i in searchList:\n",
    "            if i == inputValue:\n",
    "                print(f\"{i} is located at index : {city.index(i)} of the city list.\")\n",
    "\n",
    "linear(city , \"Chittoor\")"
   ]
  },
  {
   "cell_type": "code",
   "execution_count": 20,
   "metadata": {},
   "outputs": [
    {
     "output_type": "stream",
     "name": "stdout",
     "text": [
      "Chittoor is located at index : 1 of the city list.\n184 µs ± 0 ns per loop (mean ± std. dev. of 1 run, 1 loop each)\n"
     ]
    }
   ],
   "source": [
    "%%timeit -r 1 -n 1 # %%timeit tracks the runtime of the cell\n",
    "def binary_search(searchList, inputValue) :\n",
    "    # length = len(searchList)\n",
    "    mid = int(len(searchList)/2)\n",
    "    # print(f\"{mid}/{length} : {searchList.index(inputValue)}\")\n",
    "    # print(searchList[mid])\n",
    "    if(searchList[mid] == inputValue):\n",
    "        print(f\"{inputValue} is located at index : {mid} of the city list.\")\n",
    "    else:\n",
    "        if(searchList[mid] > inputValue):\n",
    "            binary_search(searchList[:mid], inputValue)\n",
    "        elif(searchList[mid] < inputValue):\n",
    "            binary_search(searchList[mid:], inputValue)\n",
    "\n",
    "binary_search(city ,\"Chittoor\")"
   ]
  },
  {
   "source": [
    "8. Input a text file (containing 1 or more paragraphs of English text) from the user, parse this file to display the frequency of occurrence of each word in this text file. Find the 3 most frequent words as well."
   ],
   "cell_type": "markdown",
   "metadata": {}
  },
  {
   "cell_type": "code",
   "execution_count": 26,
   "metadata": {},
   "outputs": [
    {
     "output_type": "error",
     "ename": "FileNotFoundError",
     "evalue": "[Errno 2] No such file or directory: ''",
     "traceback": [
      "\u001b[1;31m---------------------------------------------------------------------------\u001b[0m",
      "\u001b[1;31mFileNotFoundError\u001b[0m                         Traceback (most recent call last)",
      "\u001b[1;32m<ipython-input-26-6d4d8b714a0c>\u001b[0m in \u001b[0;36m<module>\u001b[1;34m\u001b[0m\n\u001b[1;32m----> 1\u001b[1;33m \u001b[0minF\u001b[0m \u001b[1;33m=\u001b[0m \u001b[0mopen\u001b[0m\u001b[1;33m(\u001b[0m\u001b[0minput\u001b[0m\u001b[1;33m(\u001b[0m\u001b[1;34m\"Enter Filename: \"\u001b[0m\u001b[1;33m)\u001b[0m\u001b[1;33m,\u001b[0m\u001b[1;34m'r'\u001b[0m\u001b[1;33m)\u001b[0m\u001b[1;33m\u001b[0m\u001b[1;33m\u001b[0m\u001b[0m\n\u001b[0m",
      "\u001b[1;31mFileNotFoundError\u001b[0m: [Errno 2] No such file or directory: ''"
     ]
    }
   ],
   "source": [
    "inF = open(input(\"Enter Filename: \"),'r')"
   ]
  },
  {
   "cell_type": "code",
   "execution_count": null,
   "metadata": {},
   "outputs": [],
   "source": []
  }
 ]
}