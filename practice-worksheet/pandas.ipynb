{
 "metadata": {
  "language_info": {
   "codemirror_mode": {
    "name": "ipython",
    "version": 3
   },
   "file_extension": ".py",
   "mimetype": "text/x-python",
   "name": "python",
   "nbconvert_exporter": "python",
   "pygments_lexer": "ipython3",
   "version": "3.8.8"
  },
  "orig_nbformat": 2,
  "kernelspec": {
   "name": "python388jvsc74a57bd03ae6704ca093231883b337ad991d317466d950f3ee6db3984e8302e2f1397ca7",
   "display_name": "Python 3.8.8 64-bit ('dseclpfds': conda)"
  }
 },
 "nbformat": 4,
 "nbformat_minor": 2,
 "cells": [
  {
   "cell_type": "code",
   "execution_count": 2,
   "metadata": {},
   "outputs": [],
   "source": [
    "import pandas as pd"
   ]
  },
  {
   "cell_type": "code",
   "execution_count": 3,
   "metadata": {},
   "outputs": [],
   "source": [
    "test_series = pd.Series({'header' : 'Given Name,Family Name,Age,Sex,Customer ID'})"
   ]
  },
  {
   "cell_type": "code",
   "execution_count": 4,
   "metadata": {},
   "outputs": [
    {
     "output_type": "execute_result",
     "data": {
      "text/plain": [
       "header    Given Name,Family Name,Age,Sex,Customer ID\n",
       "dtype: object"
      ]
     },
     "metadata": {},
     "execution_count": 4
    }
   ],
   "source": [
    "test_series"
   ]
  },
  {
   "cell_type": "code",
   "execution_count": 5,
   "metadata": {},
   "outputs": [
    {
     "output_type": "execute_result",
     "data": {
      "text/plain": [
       "RangeIndex(start=0, stop=1, step=1)"
      ]
     },
     "metadata": {},
     "execution_count": 5
    }
   ],
   "source": [
    "test_data = pd.DataFrame(test_series)\n",
    "test_data.columns"
   ]
  },
  {
   "cell_type": "code",
   "execution_count": 6,
   "metadata": {},
   "outputs": [],
   "source": [
    "dict = { \"one\" : [1,2,3,4]} "
   ]
  },
  {
   "cell_type": "code",
   "execution_count": 7,
   "metadata": {},
   "outputs": [],
   "source": [
    "my_series = pd.Series(dict)"
   ]
  },
  {
   "cell_type": "code",
   "execution_count": 8,
   "metadata": {},
   "outputs": [
    {
     "output_type": "execute_result",
     "data": {
      "text/plain": [
       "                0\n",
       "one  [1, 2, 3, 4]"
      ],
      "text/html": "<div>\n<style scoped>\n    .dataframe tbody tr th:only-of-type {\n        vertical-align: middle;\n    }\n\n    .dataframe tbody tr th {\n        vertical-align: top;\n    }\n\n    .dataframe thead th {\n        text-align: right;\n    }\n</style>\n<table border=\"1\" class=\"dataframe\">\n  <thead>\n    <tr style=\"text-align: right;\">\n      <th></th>\n      <th>0</th>\n    </tr>\n  </thead>\n  <tbody>\n    <tr>\n      <th>one</th>\n      <td>[1, 2, 3, 4]</td>\n    </tr>\n  </tbody>\n</table>\n</div>"
     },
     "metadata": {},
     "execution_count": 8
    }
   ],
   "source": [
    "df1 = pd.DataFrame(my_series)\n",
    "df1"
   ]
  },
  {
   "cell_type": "code",
   "execution_count": 9,
   "metadata": {},
   "outputs": [
    {
     "output_type": "execute_result",
     "data": {
      "text/plain": [
       "0    [1, 2, 3, 4]\n",
       "Name: one, dtype: object"
      ]
     },
     "metadata": {},
     "execution_count": 9
    }
   ],
   "source": [
    "df1.loc['one']"
   ]
  },
  {
   "cell_type": "code",
   "execution_count": 14,
   "metadata": {},
   "outputs": [],
   "source": [
    "covid_date_dict = {\n",
    "    'date':       ['2020-08-30', '2020-08-31', '2020-09-01', '2020-09-02', '2020-09-03']\n",
    "}\n",
    "covid_date_list = ['2020-08-30', '2020-08-31', '2020-09-01', '2020-09-02', '2020-09-03']\n",
    "covid_case_dict = {\n",
    "    'new_cases':  [1444, 1365, 996, 975, 1326]\n",
    "}\n",
    "covid_deaths_dict = {\n",
    "        'new_deaths': [1, 4, 6, 8, 6]\n",
    "}\n",
    "covid_tests_dict = {\n",
    "    'new_tests': [53541, 42583, 54395, None, None]\n",
    "}"
   ]
  },
  {
   "cell_type": "code",
   "execution_count": 11,
   "metadata": {},
   "outputs": [],
   "source": [
    "df_sample = pd.DataFrame()"
   ]
  },
  {
   "cell_type": "code",
   "execution_count": 31,
   "metadata": {},
   "outputs": [],
   "source": [
    "df_sample[\"covid_case_dict\"] = pd.Series(covid_case_dict)"
   ]
  },
  {
   "cell_type": "code",
   "execution_count": 32,
   "metadata": {},
   "outputs": [],
   "source": [
    "df_sample[\"covid_date_dict\"] = pd.Series(covid_date_dict)"
   ]
  },
  {
   "cell_type": "code",
   "execution_count": 33,
   "metadata": {},
   "outputs": [
    {
     "output_type": "execute_result",
     "data": {
      "text/plain": [
       "                                        covid_date_dict covid_case_dict\n",
       "date  [2020-08-30, 2020-08-31, 2020-09-01, 2020-09-0...             NaN"
      ],
      "text/html": "<div>\n<style scoped>\n    .dataframe tbody tr th:only-of-type {\n        vertical-align: middle;\n    }\n\n    .dataframe tbody tr th {\n        vertical-align: top;\n    }\n\n    .dataframe thead th {\n        text-align: right;\n    }\n</style>\n<table border=\"1\" class=\"dataframe\">\n  <thead>\n    <tr style=\"text-align: right;\">\n      <th></th>\n      <th>covid_date_dict</th>\n      <th>covid_case_dict</th>\n    </tr>\n  </thead>\n  <tbody>\n    <tr>\n      <th>date</th>\n      <td>[2020-08-30, 2020-08-31, 2020-09-01, 2020-09-0...</td>\n      <td>NaN</td>\n    </tr>\n  </tbody>\n</table>\n</div>"
     },
     "metadata": {},
     "execution_count": 33
    }
   ],
   "source": [
    "df_sample"
   ]
  },
  {
   "cell_type": "code",
   "execution_count": 18,
   "metadata": {},
   "outputs": [
    {
     "output_type": "execute_result",
     "data": {
      "text/plain": [
       "pandas.core.series.Series"
      ]
     },
     "metadata": {},
     "execution_count": 18
    }
   ],
   "source": [
    "type(df_sample.covid_date_dict)"
   ]
  },
  {
   "cell_type": "code",
   "execution_count": 47,
   "metadata": {},
   "outputs": [
    {
     "output_type": "execute_result",
     "data": {
      "text/plain": [
       "date    [2020-08-30, 2020-08-31, 2020-09-01, 2020-09-0...\n",
       "dtype: object"
      ]
     },
     "metadata": {},
     "execution_count": 47
    }
   ],
   "source": [
    "ser1 = pd.Series(covid_date_dict)\n",
    "ser1"
   ]
  },
  {
   "cell_type": "code",
   "execution_count": null,
   "metadata": {},
   "outputs": [],
   "source": [
    "pd.Series(covid_date_dict)\n",
    "\n",
    "df = pd.concat([a_series, another_series], axis=1)\n",
    "merge "
   ]
  },
  {
   "cell_type": "code",
   "execution_count": 49,
   "metadata": {},
   "outputs": [
    {
     "output_type": "execute_result",
     "data": {
      "text/plain": [
       "                                                            0  \\\n",
       "date        [2020-08-30, 2020-08-31, 2020-09-01, 2020-09-0...   \n",
       "new_cases                        [1444, 1365, 996, 975, 1326]   \n",
       "new_deaths                                    [1, 4, 6, 8, 6]   \n",
       "new_tests                   [53541, 42583, 54395, None, None]   \n",
       "\n",
       "                                       1                2  \\\n",
       "date                                 NaN              NaN   \n",
       "new_cases   [1444, 1365, 996, 975, 1326]              NaN   \n",
       "new_deaths                           NaN  [1, 4, 6, 8, 6]   \n",
       "new_tests                            NaN              NaN   \n",
       "\n",
       "                                            3  \n",
       "date                                      NaN  \n",
       "new_cases                                 NaN  \n",
       "new_deaths                                NaN  \n",
       "new_tests   [53541, 42583, 54395, None, None]  "
      ],
      "text/html": "<div>\n<style scoped>\n    .dataframe tbody tr th:only-of-type {\n        vertical-align: middle;\n    }\n\n    .dataframe tbody tr th {\n        vertical-align: top;\n    }\n\n    .dataframe thead th {\n        text-align: right;\n    }\n</style>\n<table border=\"1\" class=\"dataframe\">\n  <thead>\n    <tr style=\"text-align: right;\">\n      <th></th>\n      <th>0</th>\n      <th>1</th>\n      <th>2</th>\n      <th>3</th>\n    </tr>\n  </thead>\n  <tbody>\n    <tr>\n      <th>date</th>\n      <td>[2020-08-30, 2020-08-31, 2020-09-01, 2020-09-0...</td>\n      <td>NaN</td>\n      <td>NaN</td>\n      <td>NaN</td>\n    </tr>\n    <tr>\n      <th>new_cases</th>\n      <td>[1444, 1365, 996, 975, 1326]</td>\n      <td>[1444, 1365, 996, 975, 1326]</td>\n      <td>NaN</td>\n      <td>NaN</td>\n    </tr>\n    <tr>\n      <th>new_deaths</th>\n      <td>[1, 4, 6, 8, 6]</td>\n      <td>NaN</td>\n      <td>[1, 4, 6, 8, 6]</td>\n      <td>NaN</td>\n    </tr>\n    <tr>\n      <th>new_tests</th>\n      <td>[53541, 42583, 54395, None, None]</td>\n      <td>NaN</td>\n      <td>NaN</td>\n      <td>[53541, 42583, 54395, None, None]</td>\n    </tr>\n  </tbody>\n</table>\n</div>"
     },
     "metadata": {},
     "execution_count": 49
    }
   ],
   "source": [
    "covid_series = pd.concat([pd.Series(covid_data_dict), pd.Series(covid_case_dict), pd.Series(covid_deaths_dict), pd.Series(covid_tests_dict)], axis=1)\n",
    "covid_series"
   ]
  },
  {
   "cell_type": "code",
   "execution_count": 42,
   "metadata": {},
   "outputs": [
    {
     "output_type": "execute_result",
     "data": {
      "text/plain": [
       "                                                            0\n",
       "date        [2020-08-30, 2020-08-31, 2020-09-01, 2020-09-0...\n",
       "new_cases                        [1444, 1365, 996, 975, 1326]\n",
       "new_deaths                                    [1, 4, 6, 8, 6]\n",
       "new_tests                   [53541, 42583, 54395, None, None]"
      ],
      "text/html": "<div>\n<style scoped>\n    .dataframe tbody tr th:only-of-type {\n        vertical-align: middle;\n    }\n\n    .dataframe tbody tr th {\n        vertical-align: top;\n    }\n\n    .dataframe thead th {\n        text-align: right;\n    }\n</style>\n<table border=\"1\" class=\"dataframe\">\n  <thead>\n    <tr style=\"text-align: right;\">\n      <th></th>\n      <th>0</th>\n    </tr>\n  </thead>\n  <tbody>\n    <tr>\n      <th>date</th>\n      <td>[2020-08-30, 2020-08-31, 2020-09-01, 2020-09-0...</td>\n    </tr>\n    <tr>\n      <th>new_cases</th>\n      <td>[1444, 1365, 996, 975, 1326]</td>\n    </tr>\n    <tr>\n      <th>new_deaths</th>\n      <td>[1, 4, 6, 8, 6]</td>\n    </tr>\n    <tr>\n      <th>new_tests</th>\n      <td>[53541, 42583, 54395, None, None]</td>\n    </tr>\n  </tbody>\n</table>\n</div>"
     },
     "metadata": {},
     "execution_count": 42
    }
   ],
   "source": [
    "covid_df = pd.DataFrame(covid_series)\n",
    "covid_df"
   ]
  },
  {
   "cell_type": "code",
   "execution_count": 50,
   "metadata": {},
   "outputs": [],
   "source": [
    "covid_df = pd.read_csv(\"../Notebooks/Jovian/python-pandas-data-analysis-v-42/italy-covid-daywise.csv\")"
   ]
  },
  {
   "cell_type": "code",
   "execution_count": 51,
   "metadata": {},
   "outputs": [
    {
     "output_type": "execute_result",
     "data": {
      "text/plain": [
       "pandas.core.series.Series"
      ]
     },
     "metadata": {},
     "execution_count": 51
    }
   ],
   "source": [
    "type(covid_df.loc[243])"
   ]
  }
 ]
}